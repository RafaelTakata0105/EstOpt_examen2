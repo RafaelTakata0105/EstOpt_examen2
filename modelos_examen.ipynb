{
 "cells": [
  {
   "cell_type": "markdown",
   "metadata": {},
   "source": [
    "# <font color= #2A6A44> **Segundo Examen Parcial** </font>\n",
    "\n",
    "###  <font color= #4A976D> **Estimación Óptima** </font>\n",
    "\n",
    "### <font color= #5FAF85> **Estudiantes:** </font>\n",
    "- Clara Paola Aguilar Casillas\n",
    "\n",
    "- Samantha Sánchez Tinoco\n",
    "\n",
    "- Priscila Cervantes Ramírez\n",
    "\n",
    "- Rafael Takata García"
   ]
  },
  {
   "cell_type": "markdown",
   "metadata": {},
   "source": [
    "## <font color= #74C79D> **Introducción** </font>"
   ]
  },
  {
   "cell_type": "markdown",
   "metadata": {},
   "source": [
    "A continuación se trabajará en equipos distintos problemas a resolver enfocados en la regresión lineal sobre el tema de predicción de **alturas** como variable a predecir(dependiente),y con las variables independientes **ancho** de hombros y talla de **pies**.\n",
    "\n",
    "Se pondrán a prueba nuestros conocimientos y el poder trabajar en conjunto para poder llegar a un solo resultado siempre tratando de ser el mejor posible. \n",
    "Se implementarán conocimientos de código, de gráficas y de pensamiento crítico para saber entender de que tratan los resultados obtendremos."
   ]
  },
  {
   "cell_type": "code",
   "execution_count": 161,
   "metadata": {},
   "outputs": [],
   "source": [
    "import pandas as pd\n",
    "import numpy as np\n",
    "import matplotlib.pyplot as plt\n",
    "import seaborn as sns\n",
    "from sklearn.model_selection import train_test_split\n",
    "from sklearn.linear_model import LinearRegression, Lasso, Ridge\n",
    "from sklearn.metrics import r2_score, mean_squared_error\n",
    "from sklearn.model_selection import GridSearchCV\n",
    "import warnings\n",
    "warnings.filterwarnings('ignore')"
   ]
  },
  {
   "cell_type": "markdown",
   "metadata": {},
   "source": [
    "Importamos los datos e información básica sobre estos:"
   ]
  },
  {
   "cell_type": "code",
   "execution_count": 162,
   "metadata": {},
   "outputs": [
    {
     "data": {
      "text/html": [
       "<div>\n",
       "<style scoped>\n",
       "    .dataframe tbody tr th:only-of-type {\n",
       "        vertical-align: middle;\n",
       "    }\n",
       "\n",
       "    .dataframe tbody tr th {\n",
       "        vertical-align: top;\n",
       "    }\n",
       "\n",
       "    .dataframe thead th {\n",
       "        text-align: right;\n",
       "    }\n",
       "</style>\n",
       "<table border=\"1\" class=\"dataframe\">\n",
       "  <thead>\n",
       "    <tr style=\"text-align: right;\">\n",
       "      <th></th>\n",
       "      <th>altura</th>\n",
       "      <th>ancho</th>\n",
       "      <th>pie</th>\n",
       "    </tr>\n",
       "  </thead>\n",
       "  <tbody>\n",
       "    <tr>\n",
       "      <th>0</th>\n",
       "      <td>185</td>\n",
       "      <td>55</td>\n",
       "      <td>28.0</td>\n",
       "    </tr>\n",
       "    <tr>\n",
       "      <th>1</th>\n",
       "      <td>173</td>\n",
       "      <td>44</td>\n",
       "      <td>26.5</td>\n",
       "    </tr>\n",
       "    <tr>\n",
       "      <th>2</th>\n",
       "      <td>163</td>\n",
       "      <td>44</td>\n",
       "      <td>24.0</td>\n",
       "    </tr>\n",
       "    <tr>\n",
       "      <th>3</th>\n",
       "      <td>162</td>\n",
       "      <td>44</td>\n",
       "      <td>24.5</td>\n",
       "    </tr>\n",
       "    <tr>\n",
       "      <th>4</th>\n",
       "      <td>172</td>\n",
       "      <td>46</td>\n",
       "      <td>27.0</td>\n",
       "    </tr>\n",
       "  </tbody>\n",
       "</table>\n",
       "</div>"
      ],
      "text/plain": [
       "   altura  ancho   pie\n",
       "0     185     55  28.0\n",
       "1     173     44  26.5\n",
       "2     163     44  24.0\n",
       "3     162     44  24.5\n",
       "4     172     46  27.0"
      ]
     },
     "execution_count": 162,
     "metadata": {},
     "output_type": "execute_result"
    }
   ],
   "source": [
    "df = pd.read_csv('C:/Users/prisc/OneDrive/Escritorio/4to semestre/estimación/examen2/datos_gente.csv')\n",
    "df.head()"
   ]
  },
  {
   "cell_type": "code",
   "execution_count": 163,
   "metadata": {},
   "outputs": [
    {
     "name": "stdout",
     "output_type": "stream",
     "text": [
      "<class 'pandas.core.frame.DataFrame'>\n",
      "RangeIndex: 18 entries, 0 to 17\n",
      "Data columns (total 3 columns):\n",
      " #   Column  Non-Null Count  Dtype  \n",
      "---  ------  --------------  -----  \n",
      " 0   altura  18 non-null     int64  \n",
      " 1   ancho   18 non-null     int64  \n",
      " 2   pie     18 non-null     float64\n",
      "dtypes: float64(1), int64(2)\n",
      "memory usage: 564.0 bytes\n"
     ]
    }
   ],
   "source": [
    "df.info()"
   ]
  },
  {
   "cell_type": "code",
   "execution_count": 164,
   "metadata": {},
   "outputs": [
    {
     "data": {
      "text/html": [
       "<div>\n",
       "<style scoped>\n",
       "    .dataframe tbody tr th:only-of-type {\n",
       "        vertical-align: middle;\n",
       "    }\n",
       "\n",
       "    .dataframe tbody tr th {\n",
       "        vertical-align: top;\n",
       "    }\n",
       "\n",
       "    .dataframe thead th {\n",
       "        text-align: right;\n",
       "    }\n",
       "</style>\n",
       "<table border=\"1\" class=\"dataframe\">\n",
       "  <thead>\n",
       "    <tr style=\"text-align: right;\">\n",
       "      <th></th>\n",
       "      <th>altura</th>\n",
       "      <th>ancho</th>\n",
       "      <th>pie</th>\n",
       "    </tr>\n",
       "  </thead>\n",
       "  <tbody>\n",
       "    <tr>\n",
       "      <th>count</th>\n",
       "      <td>18.000000</td>\n",
       "      <td>18.000000</td>\n",
       "      <td>18.000000</td>\n",
       "    </tr>\n",
       "    <tr>\n",
       "      <th>mean</th>\n",
       "      <td>167.111111</td>\n",
       "      <td>45.222222</td>\n",
       "      <td>25.277778</td>\n",
       "    </tr>\n",
       "    <tr>\n",
       "      <th>std</th>\n",
       "      <td>10.208929</td>\n",
       "      <td>6.664706</td>\n",
       "      <td>2.170811</td>\n",
       "    </tr>\n",
       "    <tr>\n",
       "      <th>min</th>\n",
       "      <td>150.000000</td>\n",
       "      <td>38.000000</td>\n",
       "      <td>22.000000</td>\n",
       "    </tr>\n",
       "    <tr>\n",
       "      <th>25%</th>\n",
       "      <td>159.750000</td>\n",
       "      <td>40.000000</td>\n",
       "      <td>24.000000</td>\n",
       "    </tr>\n",
       "    <tr>\n",
       "      <th>50%</th>\n",
       "      <td>165.500000</td>\n",
       "      <td>44.000000</td>\n",
       "      <td>24.500000</td>\n",
       "    </tr>\n",
       "    <tr>\n",
       "      <th>75%</th>\n",
       "      <td>172.750000</td>\n",
       "      <td>48.750000</td>\n",
       "      <td>27.375000</td>\n",
       "    </tr>\n",
       "    <tr>\n",
       "      <th>max</th>\n",
       "      <td>187.000000</td>\n",
       "      <td>61.000000</td>\n",
       "      <td>29.000000</td>\n",
       "    </tr>\n",
       "  </tbody>\n",
       "</table>\n",
       "</div>"
      ],
      "text/plain": [
       "           altura      ancho        pie\n",
       "count   18.000000  18.000000  18.000000\n",
       "mean   167.111111  45.222222  25.277778\n",
       "std     10.208929   6.664706   2.170811\n",
       "min    150.000000  38.000000  22.000000\n",
       "25%    159.750000  40.000000  24.000000\n",
       "50%    165.500000  44.000000  24.500000\n",
       "75%    172.750000  48.750000  27.375000\n",
       "max    187.000000  61.000000  29.000000"
      ]
     },
     "execution_count": 164,
     "metadata": {},
     "output_type": "execute_result"
    }
   ],
   "source": [
    "df.describe()"
   ]
  },
  {
   "cell_type": "code",
   "execution_count": 165,
   "metadata": {},
   "outputs": [
    {
     "data": {
      "text/plain": [
       "<seaborn.axisgrid.PairGrid at 0x223f77a4500>"
      ]
     },
     "execution_count": 165,
     "metadata": {},
     "output_type": "execute_result"
    },
    {
     "data": {
      "image/png": "[encoded data removed]",
      "text/plain": [
       "<Figure size 750x750 with 12 Axes>"
      ]
     },
     "metadata": {},
     "output_type": "display_data"
    }
   ],
   "source": [
    "sns.pairplot(df)"
   ]
  },
  {
   "cell_type": "code",
   "execution_count": 166,
   "metadata": {},
   "outputs": [
    {
     "data": {
      "text/plain": [
       "<Axes: >"
      ]
     },
     "execution_count": 166,
     "metadata": {},
     "output_type": "execute_result"
    },
    {
     "data": {
      "image/png": "[encoded data removed]",
      "text/plain": [
       "<Figure size 640x480 with 2 Axes>"
      ]
     },
     "metadata": {},
     "output_type": "display_data"
    }
   ],
   "source": [
    "sns.heatmap(df.corr(), annot=True)"
   ]
  },
  {
   "cell_type": "markdown",
   "metadata": {},
   "source": [
    "Después de un muy básico analisis inicial podemos ver que:\n",
    "\n",
    "- Tenemos 18 entradas\n",
    "- No hay datos faltantes\n",
    "- Dos variables son de tipo `Int` y una `Float`\n",
    "- Son relaciones lineales, altamente correlacionadas\n",
    "\n",
    "\n",
    "---\n",
    "\n",
    "Ahora empezaremos con la separación de los datos para nuestro modelo."
   ]
  },
  {
   "cell_type": "code",
   "execution_count": 167,
   "metadata": {},
   "outputs": [],
   "source": [
    "X = df[['ancho', 'pie']]\n",
    "y = df['altura']\n",
    "\n",
    "X_train, X_test, y_train, y_test = train_test_split(X, y, test_size=0.3, random_state=42)"
   ]
  },
  {
   "cell_type": "markdown",
   "metadata": {},
   "source": [
    "En este caso, nosotros hemos propuesto tres modelos iniciales.\n",
    "\n",
    "- Una Regresión lineal sin regularización\n",
    "\n",
    "- Ridge\n",
    "\n",
    "- Lasso"
   ]
  },
  {
   "cell_type": "code",
   "execution_count": 168,
   "metadata": {},
   "outputs": [
    {
     "name": "stdout",
     "output_type": "stream",
     "text": [
      "Error cuadrático medio en prueba: 11.6061\n",
      "R² en prueba: 0.8425\n",
      "Pendiente: -0.0031472081218276507\n",
      "Intercepción: 54.284347023534835\n"
     ]
    }
   ],
   "source": [
    "#Regresión lineal\n",
    "#Entrenamiento\n",
    "lr = LinearRegression()\n",
    "lr.fit(X_train, y_train)\n",
    "\n",
    "#Predicción\n",
    "y_test_pred = lr.predict(X_test)\n",
    "mse_test = mean_squared_error(y_test, y_test_pred)\n",
    "r2_test = r2_score(y_test, y_test_pred)\n",
    "\n",
    "#Resultados\n",
    "print(f\"Error cuadrático medio en prueba: {mse_test:.4f}\")\n",
    "print(f\"R² en prueba: {r2_test:.4f}\")\n",
    "\n",
    "print(f\"Pendiente: {lr.coef_[0]}\")\n",
    "print(f\"Intercepción: {lr.intercept_}\")"
   ]
  },
  {
   "cell_type": "code",
   "execution_count": 169,
   "metadata": {},
   "outputs": [
    {
     "name": "stdout",
     "output_type": "stream",
     "text": [
      "Error cuadrático medio en prueba: 11.3509\n",
      "R² en prueba: 0.8459\n",
      "Pendiente: 0.024043647645112996\n",
      "Intercepción: 56.545484126913365\n"
     ]
    }
   ],
   "source": [
    "#Ridge\n",
    "#Entrenamiento\n",
    "ridge = Ridge()\n",
    "ridge.fit(X_train, y_train)\n",
    "\n",
    "#Predicción\n",
    "y_test_pred = ridge.predict(X_test)\n",
    "mse_test = mean_squared_error(y_test, y_test_pred)\n",
    "r2_test = r2_score(y_test, y_test_pred)\n",
    "\n",
    "#Resultados\n",
    "print(f\"Error cuadrático medio en prueba: {mse_test:.4f}\")\n",
    "print(f\"R² en prueba: {r2_test:.4f}\")\n",
    "\n",
    "print(f\"Pendiente: {ridge.coef_[0]}\")\n",
    "print(f\"Intercepción: {ridge.intercept_}\")"
   ]
  },
  {
   "cell_type": "code",
   "execution_count": 170,
   "metadata": {},
   "outputs": [
    {
     "name": "stdout",
     "output_type": "stream",
     "text": [
      "Error cuadrático medio en prueba: 11.3108\n",
      "R² en prueba: 0.8465\n",
      "Pendiente: 0.03718503995685833\n",
      "Intercepción: 60.24261755999828\n"
     ]
    }
   ],
   "source": [
    "#Lasso\n",
    "#Entrenamiento\n",
    "lasso = Lasso()\n",
    "lasso.fit(X_train, y_train)\n",
    "\n",
    "#Predicción\n",
    "y_test_pred = lasso.predict(X_test)\n",
    "mse_test = mean_squared_error(y_test, y_test_pred)\n",
    "r2_test = r2_score(y_test, y_test_pred)\n",
    "\n",
    "#Resultados\n",
    "print(f\"Error cuadrático medio en prueba: {mse_test:.4f}\")\n",
    "print(f\"R² en prueba: {r2_test:.4f}\")\n",
    "\n",
    "print(f\"Pendiente: {lasso.coef_[0]}\")\n",
    "print(f\"Intercepción: {lasso.intercept_}\")"
   ]
  },
  {
   "cell_type": "markdown",
   "metadata": {},
   "source": [
    "Obtuvimos resultados muy similares en primera instancia, veamos si a través del tuneo de híperparametros obtenemos mejores resultados:\n",
    "\n",
    "---\n",
    "Ridge"
   ]
  },
  {
   "cell_type": "code",
   "execution_count": 171,
   "metadata": {},
   "outputs": [
    {
     "name": "stdout",
     "output_type": "stream",
     "text": [
      "Mejor alpha encontrado: 1.5922827933410924\n"
     ]
    }
   ],
   "source": [
    "#Definimos el espacio de busqueda\n",
    "alphas = np.logspace(0, 10, 100)\n",
    "\n",
    "#Parametros y busqueda\n",
    "param_grid = {'alpha': alphas}\n",
    "grid_search = GridSearchCV(ridge, param_grid, cv=5, scoring='r2')\n",
    "grid_search.fit(X_train, y_train)\n",
    "\n",
    "#Mejor alpha\n",
    "best_alpha = grid_search.best_params_['alpha']\n",
    "print(f\"Mejor alpha encontrado: {best_alpha}\")"
   ]
  },
  {
   "cell_type": "markdown",
   "metadata": {},
   "source": [
    "Veamos los resultados con el alpha optimizado a través del grid search:"
   ]
  },
  {
   "cell_type": "code",
   "execution_count": 172,
   "metadata": {},
   "outputs": [
    {
     "name": "stdout",
     "output_type": "stream",
     "text": [
      "Error cuadrático medio en prueba: 11.2384\n",
      "R² en prueba: 0.8474\n",
      "Pendiente: 0.039290144371738694\n",
      "Intercepción: 57.8188219075448\n"
     ]
    }
   ],
   "source": [
    "ridge = Ridge(alpha=best_alpha)\n",
    "ridge.fit(X_train, y_train)\n",
    "\n",
    "#Predicción\n",
    "y_test_pred = ridge.predict(X_test)\n",
    "mse_test = mean_squared_error(y_test, y_test_pred)\n",
    "r2_test = r2_score(y_test, y_test_pred)\n",
    "\n",
    "#Resultados\n",
    "print(f\"Error cuadrático medio en prueba: {mse_test:.4f}\")\n",
    "print(f\"R² en prueba: {r2_test:.4f}\")\n",
    "\n",
    "print(f\"Pendiente: {ridge.coef_[0]}\")\n",
    "print(f\"Intercepción: {ridge.intercept_}\")"
   ]
  },
  {
   "cell_type": "markdown",
   "metadata": {},
   "source": [
    "Los resultados no cambian mucho pero, si obtenemos mejores resultados en la prueba y el testing.\n",
    "\n",
    "Lasso"
   ]
  },
  {
   "cell_type": "code",
   "execution_count": 173,
   "metadata": {},
   "outputs": [
    {
     "name": "stdout",
     "output_type": "stream",
     "text": [
      "Mejor alpha encontrado: 1.5922827933410924\n"
     ]
    }
   ],
   "source": [
    "grid_search = GridSearchCV(lasso, param_grid, cv=5, scoring='r2')\n",
    "grid_search.fit(X_train, y_train)\n",
    "\n",
    "#Mejor alpha\n",
    "best_alpha = grid_search.best_params_['alpha']\n",
    "print(f\"Mejor alpha encontrado: {best_alpha}\")"
   ]
  },
  {
   "cell_type": "code",
   "execution_count": 174,
   "metadata": {},
   "outputs": [
    {
     "name": "stdout",
     "output_type": "stream",
     "text": [
      "Error cuadrático medio en prueba: 11.3785\n",
      "R² en prueba: 0.8455\n",
      "Pendiente: 0.06099087779669853\n",
      "Intercepción: 63.7708782039431\n"
     ]
    }
   ],
   "source": [
    "lasso = Lasso(alpha=best_alpha)\n",
    "lasso.fit(X_train, y_train)\n",
    "\n",
    "#Predicción\n",
    "y_test_pred = lasso.predict(X_test)\n",
    "mse_test = mean_squared_error(y_test, y_test_pred)\n",
    "r2_test = r2_score(y_test, y_test_pred)\n",
    "\n",
    "#Resultados\n",
    "print(f\"Error cuadrático medio en prueba: {mse_test:.4f}\")\n",
    "print(f\"R² en prueba: {r2_test:.4f}\")\n",
    "\n",
    "print(f\"Pendiente: {lasso.coef_[0]}\")\n",
    "print(f\"Intercepción: {lasso.intercept_}\")"
   ]
  },
  {
   "cell_type": "markdown",
   "metadata": {},
   "source": [
    "### Evaluación\n",
    "\n",
    "Después del fine-tuning, podemos observar que el modelo que nos da mejores resultados en la prueba es `Ridge` después de que realizaramos la optimización."
   ]
  },
  {
   "cell_type": "markdown",
   "metadata": {},
   "source": [
    "### <font color= #74C79D> **1.** </font>\n",
    " Realiza la gráfica de tu modelo con un scatterplot de los datos incluyendo el valor de R2 y RMSE.\n",
    "\n",
    "a. ¿Por qué seleccionaste ese modelo?\n",
    "\n",
    "Como se mencionó anteriormente se seleccionó el modelo de **Ridge** ya que fue el que nos dio mejores resultados, y se seleccionó un modelo múltiple ya que estaremos trabajando con las dos variables independientes ('ancho','pie') para obtener mejores resultados de la dependiente ('altura') o a predecir."
   ]
  },
  {
   "cell_type": "code",
   "execution_count": 175,
   "metadata": {},
   "outputs": [
    {
     "data": {
      "image/png": "[encoded data removed]",
      "text/plain": [
       "<Figure size 800x600 with 1 Axes>"
      ]
     },
     "metadata": {},
     "output_type": "display_data"
    }
   ],
   "source": [
    "# Predicciones del modelo\n",
    "y_pred = ridge.predict(X_test)\n",
    "rmse = np.sqrt(mean_squared_error(y_test, y_pred))\n",
    "r2 = r2_score(y_test, y_pred)\n",
    "\n",
    "# Gráfico de dispersión\n",
    "plt.figure(figsize=(8, 6))\n",
    "sns.scatterplot(x=y_test, y=y_pred, alpha=0.7, label=\"Predicciones vs Reales\", color=\"blue\")\n",
    "plt.plot([y_test.min(), y_test.max()], [y_test.min(), y_test.max()], 'r--', lw=2, label=\"Línea Ideal\")\n",
    "\n",
    "# Agregar valores de R² y RMSE a la gráfica\n",
    "plt.text(y_test.min(), y_test.max() * 0.9, f\"$R^2$: {r2:.2f}\\nRMSE: {rmse:.2f}\", fontsize=12, color=\"red\")\n",
    "\n",
    "# Etiquetas y título\n",
    "plt.xlabel(\"Valores Reales (y_test)\")\n",
    "plt.ylabel(\"Predicciones (y_pred)\")\n",
    "plt.title(\"Ridge Regression: Predicciones vs Valores Reales\")\n",
    "plt.legend()\n",
    "plt.show()"
   ]
  },
  {
   "cell_type": "markdown",
   "metadata": {},
   "source": [
    "Podemos observar que el modelo explica en un 85% de la variabilidad de los datos de prueba, eso nos quiere decir que no está tan mal pero podría mejorar.\n",
    "\n",
    "Por otro lado las predicciones del modelo están a 3.35 valores, esto nos indica que tenemos varios outliers altos que nos está afectando nuestro modelo. \n",
    "\n",
    "\n",
    "b. ¿Utilizaste alguna regularización?\n",
    "\n",
    "El algoritmo propuesto usa una regularización L2 o de Ridge, en este caso, con un alpha de: $1.5922827933410924$ Con esto, podemos evitar el sobreajuste y mejorar la calidad de nuestras predicciones."
   ]
  },
  {
   "cell_type": "markdown",
   "metadata": {},
   "source": [
    "---"
   ]
  },
  {
   "cell_type": "markdown",
   "metadata": {},
   "source": [
    "### <font color= #74C79D> **2.** </font>\n",
    " Se te solicita que tu modelo sea tropicalizado a la población de estudiantes del iteso. Realiza la gráfica de tu propuesta con un scatterplot de los datos incluyendo el valor de R2 y RMSE."
   ]
  },
  {
   "cell_type": "markdown",
   "metadata": {},
   "source": [
    "a. ¿Agregarías datos a tu base de datos para mejorar las predicciones del modelo?\n",
    "\n",
    "Sí, como nuestra base de datos inicial es pequeña, el rendimiento del modelo no es lo suficientemente bueno.\n",
    "\n",
    "Es por esto que, se agregaron más datos a nuestra base ya que, con los anteriores no eran  suficientes para poder realizar predicciones de la mejor manera y se concentraba en el promedio de la mayoría de las personas que tomamos las medidas principales (el promedio de la muestra). Esto hacía que con los valores atípicos las predicciones no se le acercaban en los valores reales en lo más mínimo. Al agregar más datos se amplía el panorama para poder mejorar el modelo. "
   ]
  },
  {
   "cell_type": "code",
   "execution_count": 176,
   "metadata": {},
   "outputs": [
    {
     "data": {
      "text/plain": [
       "(18, 3)"
      ]
     },
     "execution_count": 176,
     "metadata": {},
     "output_type": "execute_result"
    }
   ],
   "source": [
    "#Solo tenemos 18 muestras\n",
    "df.shape"
   ]
  },
  {
   "cell_type": "markdown",
   "metadata": {},
   "source": [
    "b. ¿Cómo conseguirías dicha información?\n",
    "\n",
    "La información se podría obtener a través de las mediciones de los alumnos del iteso, no necesariamente que conozcamos, sino recaudar más infromación posible, acercándonos a preguntarles. \n",
    "\n",
    "Otra manera sería la creación de datos sínteticos que asemejen a los outliers o aquellos datos que tenemos pocos.\n",
    "\n",
    "En esta práctica, hemos tomado más muestras de alumnos obteniendo el siguiente resultado:"
   ]
  },
  {
   "cell_type": "code",
   "execution_count": 177,
   "metadata": {},
   "outputs": [
    {
     "data": {
      "text/plain": [
       "(33, 3)"
      ]
     },
     "execution_count": 177,
     "metadata": {},
     "output_type": "execute_result"
    }
   ],
   "source": [
    "df_amp = pd.read_csv('datos_gente_nuevo.csv')\n",
    "df_amp.shape"
   ]
  },
  {
   "cell_type": "markdown",
   "metadata": {},
   "source": [
    "Es un dataframe con 99 muestras, lo que amplia mucho más el panorama y nuestra información para el modelo."
   ]
  },
  {
   "cell_type": "markdown",
   "metadata": {},
   "source": [
    "c. ¿Modificarías algún parámetro de tu modelo?\n",
    "\n",
    "Sí, al añadir datos a nuestro modelo y mantener el alpha actual, al momento de hacer el entrenamiento y debido a la cantidad nueva de datos disponibles, podríamos caer nuevamente en un sobreajuste y sería necesario el buscar otro alpha que evite el overfitting.\n",
    "\n",
    "Nuestros datos nuevos (obtenidos a través de medición empirica de los estudiantes) se ve así:"
   ]
  },
  {
   "cell_type": "code",
   "execution_count": 178,
   "metadata": {},
   "outputs": [
    {
     "data": {
      "text/plain": [
       "<Axes: >"
      ]
     },
     "execution_count": 178,
     "metadata": {},
     "output_type": "execute_result"
    },
    {
     "data": {
      "image/png": "[encoded data removed]",
      "text/plain": [
       "<Figure size 640x480 with 1 Axes>"
      ]
     },
     "metadata": {},
     "output_type": "display_data"
    }
   ],
   "source": [
    "df_amp['altura'].hist(bins=15)"
   ]
  },
  {
   "cell_type": "markdown",
   "metadata": {},
   "source": [
    "Podemos apreciar que, a pesar de las nuevas muestras, seguimos teniendo muy poca información de las personas que miden más de 175 y menos de 160. Podemos crear modelos enfocados solo a estas alturas y crear copias sínteticas para su entrenamiento.\n",
    "\n",
    "Esto mejoraría la calidad de nuestras predicciones en estos rangos de altura.\n",
    "\n",
    "### Creación de los modelos enfocados a outliers:"
   ]
  },
  {
   "cell_type": "code",
   "execution_count": 179,
   "metadata": {},
   "outputs": [
    {
     "data": {
      "text/plain": [
       "((6, 3), (7, 3))"
      ]
     },
     "execution_count": 179,
     "metadata": {},
     "output_type": "execute_result"
    }
   ],
   "source": [
    "df_menor = df_amp[df_amp['altura'] < 160]\n",
    "df_mayor = df_amp[df_amp['altura'] > 175]\n",
    "\n",
    "df_menor.shape, df_mayor.shape"
   ]
  },
  {
   "cell_type": "markdown",
   "metadata": {},
   "source": [
    "A pesar de representar rangos de altura de 10 cm o más, solo tienen una concentración del 20% o menos de nuestros datos en cada una.\n",
    "\n",
    "Ahora creamos los datos sínteticos:\n",
    "\n",
    "#### Menor"
   ]
  },
  {
   "cell_type": "code",
   "execution_count": 180,
   "metadata": {},
   "outputs": [
    {
     "data": {
      "text/plain": [
       "(altura    155.333333\n",
       " ancho      39.166667\n",
       " pie        22.916667\n",
       " dtype: float64,\n",
       " altura    3.386247\n",
       " ancho     0.983192\n",
       " pie       0.917424\n",
       " dtype: float64)"
      ]
     },
     "execution_count": 180,
     "metadata": {},
     "output_type": "execute_result"
    }
   ],
   "source": [
    "df_menor.mean(), df_menor.std()"
   ]
  },
  {
   "cell_type": "markdown",
   "metadata": {},
   "source": [
    "Ahora solo nos apoyamos de herramientas como numpy para la creación síntetica de los datos:"
   ]
  },
  {
   "cell_type": "code",
   "execution_count": 181,
   "metadata": {},
   "outputs": [],
   "source": [
    "#Garantizamos los mismos resultados para que no dependan de la aleatoriedad del generador\n",
    "np.random.seed(42)"
   ]
  },
  {
   "cell_type": "code",
   "execution_count": 182,
   "metadata": {},
   "outputs": [
    {
     "data": {
      "text/html": [
       "<div>\n",
       "<style scoped>\n",
       "    .dataframe tbody tr th:only-of-type {\n",
       "        vertical-align: middle;\n",
       "    }\n",
       "\n",
       "    .dataframe tbody tr th {\n",
       "        vertical-align: top;\n",
       "    }\n",
       "\n",
       "    .dataframe thead th {\n",
       "        text-align: right;\n",
       "    }\n",
       "</style>\n",
       "<table border=\"1\" class=\"dataframe\">\n",
       "  <thead>\n",
       "    <tr style=\"text-align: right;\">\n",
       "      <th></th>\n",
       "      <th>altura</th>\n",
       "      <th>ancho</th>\n",
       "      <th>pie</th>\n",
       "    </tr>\n",
       "  </thead>\n",
       "  <tbody>\n",
       "    <tr>\n",
       "      <th>0</th>\n",
       "      <td>147.0</td>\n",
       "      <td>34.0</td>\n",
       "      <td>20.5</td>\n",
       "    </tr>\n",
       "    <tr>\n",
       "      <th>1</th>\n",
       "      <td>149.0</td>\n",
       "      <td>35.0</td>\n",
       "      <td>21.5</td>\n",
       "    </tr>\n",
       "    <tr>\n",
       "      <th>2</th>\n",
       "      <td>149.0</td>\n",
       "      <td>35.0</td>\n",
       "      <td>21.5</td>\n",
       "    </tr>\n",
       "    <tr>\n",
       "      <th>3</th>\n",
       "      <td>149.0</td>\n",
       "      <td>35.0</td>\n",
       "      <td>21.6</td>\n",
       "    </tr>\n",
       "    <tr>\n",
       "      <th>4</th>\n",
       "      <td>149.0</td>\n",
       "      <td>36.0</td>\n",
       "      <td>21.8</td>\n",
       "    </tr>\n",
       "  </tbody>\n",
       "</table>\n",
       "</div>"
      ],
      "text/plain": [
       "   altura  ancho   pie\n",
       "0   147.0   34.0  20.5\n",
       "1   149.0   35.0  21.5\n",
       "2   149.0   35.0  21.5\n",
       "3   149.0   35.0  21.6\n",
       "4   149.0   36.0  21.8"
      ]
     },
     "execution_count": 182,
     "metadata": {},
     "output_type": "execute_result"
    }
   ],
   "source": [
    "altura_m = np.sort(np.round(np.random.normal(loc=154.58823529411765, scale=2.895229341723462, size=100), 0))\n",
    "ancho_m = np.sort(np.round(np.random.normal(loc=40.058824, scale=3.051036, size=100), 0))\n",
    "pie_m = np.sort(np.round(np.random.normal(loc=23.117647, scale=0.820240, size=100), 1))\n",
    "df_menor_sintetico = pd.DataFrame({'altura': altura_m, 'ancho': ancho_m, 'pie': pie_m})\n",
    "df_menor_sintetico.head()"
   ]
  },
  {
   "cell_type": "markdown",
   "metadata": {},
   "source": [
    "### Mayor"
   ]
  },
  {
   "cell_type": "code",
   "execution_count": 183,
   "metadata": {},
   "outputs": [
    {
     "data": {
      "text/plain": [
       "(altura    181.142857\n",
       " ancho      52.428571\n",
       " pie        27.642857\n",
       " dtype: float64,\n",
       " altura    3.976119\n",
       " ancho     5.126960\n",
       " pie       0.626783\n",
       " dtype: float64)"
      ]
     },
     "execution_count": 183,
     "metadata": {},
     "output_type": "execute_result"
    }
   ],
   "source": [
    "df_mayor.mean(), df_mayor.std()"
   ]
  },
  {
   "cell_type": "code",
   "execution_count": 184,
   "metadata": {},
   "outputs": [
    {
     "data": {
      "text/html": [
       "<div>\n",
       "<style scoped>\n",
       "    .dataframe tbody tr th:only-of-type {\n",
       "        vertical-align: middle;\n",
       "    }\n",
       "\n",
       "    .dataframe tbody tr th {\n",
       "        vertical-align: top;\n",
       "    }\n",
       "\n",
       "    .dataframe thead th {\n",
       "        text-align: right;\n",
       "    }\n",
       "</style>\n",
       "<table border=\"1\" class=\"dataframe\">\n",
       "  <thead>\n",
       "    <tr style=\"text-align: right;\">\n",
       "      <th></th>\n",
       "      <th>altura</th>\n",
       "      <th>ancho</th>\n",
       "      <th>pie</th>\n",
       "    </tr>\n",
       "  </thead>\n",
       "  <tbody>\n",
       "    <tr>\n",
       "      <th>0</th>\n",
       "      <td>172.0</td>\n",
       "      <td>38.0</td>\n",
       "      <td>25.2</td>\n",
       "    </tr>\n",
       "    <tr>\n",
       "      <th>1</th>\n",
       "      <td>174.0</td>\n",
       "      <td>39.0</td>\n",
       "      <td>25.4</td>\n",
       "    </tr>\n",
       "    <tr>\n",
       "      <th>2</th>\n",
       "      <td>175.0</td>\n",
       "      <td>39.0</td>\n",
       "      <td>25.6</td>\n",
       "    </tr>\n",
       "    <tr>\n",
       "      <th>3</th>\n",
       "      <td>175.0</td>\n",
       "      <td>41.0</td>\n",
       "      <td>25.8</td>\n",
       "    </tr>\n",
       "    <tr>\n",
       "      <th>4</th>\n",
       "      <td>175.0</td>\n",
       "      <td>41.0</td>\n",
       "      <td>25.8</td>\n",
       "    </tr>\n",
       "  </tbody>\n",
       "</table>\n",
       "</div>"
      ],
      "text/plain": [
       "   altura  ancho   pie\n",
       "0   172.0   38.0  25.2\n",
       "1   174.0   39.0  25.4\n",
       "2   175.0   39.0  25.6\n",
       "3   175.0   41.0  25.8\n",
       "4   175.0   41.0  25.8"
      ]
     },
     "execution_count": 184,
     "metadata": {},
     "output_type": "execute_result"
    }
   ],
   "source": [
    "altura_M = np.sort(np.round(np.random.normal(loc=180.105263, scale=3.695263, size=100), 0))\n",
    "ancho_M = np.sort(np.round(np.random.normal(loc=49.263158, scale=4.805577, size=100), 0))\n",
    "pie_M = np.sort(np.round(np.random.normal(loc=27.657895, scale=1.014515, size=100), 1))\n",
    "df_mayor_sintetico = pd.DataFrame({'altura': altura_M, 'ancho': ancho_M, 'pie': pie_M})\n",
    "df_mayor_sintetico.head()"
   ]
  },
  {
   "cell_type": "markdown",
   "metadata": {},
   "source": [
    "### Media\n",
    "\n",
    "Para no generar un desbalanceo, debemos de crear datos sínteticos en la media tambien"
   ]
  },
  {
   "cell_type": "code",
   "execution_count": 185,
   "metadata": {},
   "outputs": [
    {
     "data": {
      "text/plain": [
       "(17, 3)"
      ]
     },
     "execution_count": 185,
     "metadata": {},
     "output_type": "execute_result"
    }
   ],
   "source": [
    "df_media = df_amp[(df_amp['altura'] > 160) & (df_amp['altura'] < 175)]\n",
    "df_media.shape #Hacen falta mínimo unos 67 datos"
   ]
  },
  {
   "cell_type": "code",
   "execution_count": 186,
   "metadata": {},
   "outputs": [
    {
     "data": {
      "text/plain": [
       "(altura    167.882353\n",
       " ancho      43.882353\n",
       " pie        25.264706\n",
       " dtype: float64,\n",
       " altura    4.442442\n",
       " ancho     4.768154\n",
       " pie       1.300452\n",
       " dtype: float64)"
      ]
     },
     "execution_count": 186,
     "metadata": {},
     "output_type": "execute_result"
    }
   ],
   "source": [
    "df_media.mean(), df_media.std()"
   ]
  },
  {
   "cell_type": "code",
   "execution_count": 187,
   "metadata": {},
   "outputs": [
    {
     "data": {
      "text/html": [
       "<div>\n",
       "<style scoped>\n",
       "    .dataframe tbody tr th:only-of-type {\n",
       "        vertical-align: middle;\n",
       "    }\n",
       "\n",
       "    .dataframe tbody tr th {\n",
       "        vertical-align: top;\n",
       "    }\n",
       "\n",
       "    .dataframe thead th {\n",
       "        text-align: right;\n",
       "    }\n",
       "</style>\n",
       "<table border=\"1\" class=\"dataframe\">\n",
       "  <thead>\n",
       "    <tr style=\"text-align: right;\">\n",
       "      <th></th>\n",
       "      <th>altura</th>\n",
       "      <th>ancho</th>\n",
       "      <th>pie</th>\n",
       "    </tr>\n",
       "  </thead>\n",
       "  <tbody>\n",
       "    <tr>\n",
       "      <th>0</th>\n",
       "      <td>156.0</td>\n",
       "      <td>36.0</td>\n",
       "      <td>22.9</td>\n",
       "    </tr>\n",
       "    <tr>\n",
       "      <th>1</th>\n",
       "      <td>156.0</td>\n",
       "      <td>37.0</td>\n",
       "      <td>23.0</td>\n",
       "    </tr>\n",
       "    <tr>\n",
       "      <th>2</th>\n",
       "      <td>159.0</td>\n",
       "      <td>37.0</td>\n",
       "      <td>23.2</td>\n",
       "    </tr>\n",
       "    <tr>\n",
       "      <th>3</th>\n",
       "      <td>160.0</td>\n",
       "      <td>37.0</td>\n",
       "      <td>23.3</td>\n",
       "    </tr>\n",
       "    <tr>\n",
       "      <th>4</th>\n",
       "      <td>160.0</td>\n",
       "      <td>38.0</td>\n",
       "      <td>23.4</td>\n",
       "    </tr>\n",
       "  </tbody>\n",
       "</table>\n",
       "</div>"
      ],
      "text/plain": [
       "   altura  ancho   pie\n",
       "0   156.0   36.0  22.9\n",
       "1   156.0   37.0  23.0\n",
       "2   159.0   37.0  23.2\n",
       "3   160.0   37.0  23.3\n",
       "4   160.0   38.0  23.4"
      ]
     },
     "execution_count": 187,
     "metadata": {},
     "output_type": "execute_result"
    }
   ],
   "source": [
    "altura_media = np.sort(np.round(np.random.normal(loc=168, scale=4.551242, size=75), 0)) \n",
    "ancho_media = np.sort(np.round(np.random.normal(loc=44.254545, scale=4.074392, size=75), 0))\n",
    "pie_media = np.sort(np.round(np.random.normal(loc=25.272727, scale=1.426658, size=75), 1))\n",
    "df_media_sint = pd.DataFrame({'altura': altura_media, 'ancho': ancho_media, 'pie': pie_media})\n",
    "df_media_sint.head()"
   ]
  },
  {
   "cell_type": "markdown",
   "metadata": {},
   "source": [
    "### Dataframe junto\n",
    "\n",
    "Gracias a las nuevas muestras, tanto reales como sínteticas, podemos obtener este dataframe nuevo:"
   ]
  },
  {
   "cell_type": "code",
   "execution_count": 188,
   "metadata": {},
   "outputs": [
    {
     "data": {
      "text/plain": [
       "(275, 3)"
      ]
     },
     "execution_count": 188,
     "metadata": {},
     "output_type": "execute_result"
    }
   ],
   "source": [
    "df_amp_sint = pd.concat([df_media_sint, df_menor_sintetico, df_mayor_sintetico], ignore_index=True)\n",
    "df_amp_sint.shape"
   ]
  },
  {
   "cell_type": "markdown",
   "metadata": {},
   "source": [
    "Ahora tenemos un dataframe con casí 300 muestras y que, su distribución de alturas se ve así:"
   ]
  },
  {
   "cell_type": "code",
   "execution_count": 189,
   "metadata": {},
   "outputs": [
    {
     "data": {
      "text/plain": [
       "<Axes: >"
      ]
     },
     "execution_count": 189,
     "metadata": {},
     "output_type": "execute_result"
    },
    {
     "data": {
      "image/png": "[encoded data removed]",
      "text/plain": [
       "<Figure size 640x480 with 1 Axes>"
      ]
     },
     "metadata": {},
     "output_type": "display_data"
    }
   ],
   "source": [
    "df_amp_sint['altura'].hist(bins=30)"
   ]
  },
  {
   "cell_type": "markdown",
   "metadata": {},
   "source": [
    "Esta distribución ya representa más información en los datos donde no teniamos información. Además, tenemos los datos separados en menores y mayores donde nuestra primera muestra de la población carecía de entradas por lo que, ahora podemos entrenar modelos especificos para estos rangos o mejorar la calidad de un algoritmo general.\n",
    "\n",
    "Veamos como funciona nuestro modelo tomando estos datos, representando de mejor forma la población general del ITESO:\n",
    "\n",
    "Primero separamos en entrenamiento y prueba:"
   ]
  },
  {
   "cell_type": "code",
   "execution_count": 190,
   "metadata": {},
   "outputs": [],
   "source": [
    "X = df_amp_sint[['ancho','pie']]\n",
    "y = df_amp_sint['altura']\n",
    "X_train_iteso, X_test_iteso, y_train_iteso, y_test_iteso = train_test_split(X, y, test_size = 0.2, random_state = 42)"
   ]
  },
  {
   "cell_type": "markdown",
   "metadata": {},
   "source": [
    "Entrenamos y buscamos el mejor alpha:"
   ]
  },
  {
   "cell_type": "code",
   "execution_count": 191,
   "metadata": {},
   "outputs": [
    {
     "name": "stdout",
     "output_type": "stream",
     "text": [
      "Mejor alpha encontrado: 1.0\n"
     ]
    }
   ],
   "source": [
    "ridge_iteso = Ridge()\n",
    "grid_search = GridSearchCV(ridge_iteso, param_grid, cv=5, scoring='r2')\n",
    "grid_search.fit(X_train_iteso, y_train_iteso)\n",
    "best_alpha_iteso = grid_search.best_params_['alpha']\n",
    "print(f\"Mejor alpha encontrado: {best_alpha_iteso}\")"
   ]
  },
  {
   "cell_type": "code",
   "execution_count": 192,
   "metadata": {},
   "outputs": [
    {
     "name": "stdout",
     "output_type": "stream",
     "text": [
      "R2 0.9696158934299914 RMSE 2.043484988361297\n"
     ]
    }
   ],
   "source": [
    "ridge_iteso = Ridge(best_alpha_iteso)\n",
    "ridge_iteso.fit(X_train_iteso, y_train_iteso)\n",
    "y_pred_iteso = ridge_iteso.predict(X_test_iteso)\n",
    "r2 = r2_score(y_test_iteso, y_pred_iteso)\n",
    "rmse = np.sqrt(mean_squared_error(y_test_iteso, y_pred_iteso))\n",
    "print(\"R2\", r2, 'RMSE', rmse)"
   ]
  },
  {
   "cell_type": "markdown",
   "metadata": {},
   "source": [
    "Obtenemos buenos resultados en el R2 que no muestrns un sobreajuste claro, sin embargo, el RMSE es bastante alto. Veamos como se ve la gráfica de los resultados:"
   ]
  },
  {
   "cell_type": "code",
   "execution_count": 193,
   "metadata": {},
   "outputs": [
    {
     "data": {
      "image/png": "[encoded data removed]",
      "text/plain": [
       "<Figure size 800x600 with 1 Axes>"
      ]
     },
     "metadata": {},
     "output_type": "display_data"
    }
   ],
   "source": [
    "plt.figure(figsize=(8, 6))\n",
    "plt.scatter(x=y_test_iteso, y=y_pred_iteso, alpha=0.6, edgecolors='k',label=\"Predicciones vs Reales\", color=\"blue\")\n",
    "plt.plot([y_test_iteso.min(), y_test_iteso.max()], [y_test_iteso.min(), y_test_iteso.max()], 'r--', lw=2,label=\"Línea Ideal\")  # Línea de referencia\n",
    "plt.xlabel(\"Altura real\")\n",
    "plt.ylabel(\"Altura predicha\")\n",
    "plt.title(f\"Scatterplot de predicciones\")\n",
    "plt.text(y_test_iteso.min(), y_test_iteso.max() * 0.9, f\"$R^2$: {r2:.2f}\\nRMSE: {rmse:.2f}\", fontsize=12, color=\"red\")\n",
    "plt.grid(True)\n",
    "plt.show()"
   ]
  },
  {
   "cell_type": "markdown",
   "metadata": {},
   "source": [
    "La mayoría de los errores se encuentran en donde era la media de nuestros valores reales, por lo que tal vez sea recomendable separar en 3 modelos de predicción. Los sínteticos menores, los normales y los mayores."
   ]
  },
  {
   "cell_type": "markdown",
   "metadata": {},
   "source": [
    "### Creación de los 3 modelos separados:\n",
    "\n",
    "Modelo de los menores:"
   ]
  },
  {
   "cell_type": "code",
   "execution_count": 194,
   "metadata": {},
   "outputs": [],
   "source": [
    "X = df_menor_sintetico[['ancho','pie']]\n",
    "y = df_menor_sintetico['altura']\n",
    "X_train_menor, X_test_menor, y_train_menor, y_test_menor = train_test_split(X, y, test_size = 0.2, random_state = 42)"
   ]
  },
  {
   "cell_type": "code",
   "execution_count": 195,
   "metadata": {},
   "outputs": [
    {
     "name": "stdout",
     "output_type": "stream",
     "text": [
      "Mejor alpha encontrado: 2.535364493970112\n"
     ]
    }
   ],
   "source": [
    "ridge_menor = Ridge()\n",
    "grid_search = GridSearchCV(ridge_menor, param_grid, cv=5, scoring='r2')\n",
    "grid_search.fit(X_train_menor, y_train_menor)\n",
    "best_alpha_menor = grid_search.best_params_['alpha']\n",
    "print(f\"Mejor alpha encontrado: {best_alpha_menor}\")"
   ]
  },
  {
   "cell_type": "code",
   "execution_count": 196,
   "metadata": {},
   "outputs": [
    {
     "name": "stdout",
     "output_type": "stream",
     "text": [
      "R2 0.9436357795918595 RMSE 0.6496361291568934\n"
     ]
    }
   ],
   "source": [
    "ridge_menor = Ridge(best_alpha_menor)\n",
    "ridge_menor.fit(X_train_menor, y_train_menor)\n",
    "y_pred_menor = ridge_menor.predict(X_test_menor)\n",
    "r2 = r2_score(y_test_menor, y_pred_menor)\n",
    "rmse = np.sqrt(mean_squared_error(y_test_menor, y_pred_menor))\n",
    "print(\"R2\", r2, 'RMSE', rmse)"
   ]
  },
  {
   "cell_type": "markdown",
   "metadata": {},
   "source": [
    "Estos resultados muestran un claro sobreajuste, podemos mover las alphas para evitar el overfitting."
   ]
  },
  {
   "cell_type": "code",
   "execution_count": 197,
   "metadata": {},
   "outputs": [
    {
     "name": "stdout",
     "output_type": "stream",
     "text": [
      "alpha 1.0 R2 0.9525103232419082 RMSE 0.5963044144782195\n",
      "alpha 23.11111111111111 R2 0.9199552811998123 RMSE 0.7741671860886417\n",
      "alpha 45.22222222222222 R2 0.9103270481802815 RMSE 0.8194060206943454\n",
      "alpha 67.33333333333333 R2 0.9014534422512518 RMSE 0.858992055343792\n",
      "alpha 89.44444444444444 R2 0.8925195728339568 RMSE 0.8970839974081294\n",
      "alpha 111.55555555555556 R2 0.8834077706011 RMSE 0.9343362979271779\n",
      "alpha 133.66666666666666 R2 0.8741210317932538 RMSE 0.9708340612318936\n",
      "alpha 155.77777777777777 R2 0.864691187248289 RMSE 1.006540975558589\n",
      "alpha 177.88888888888889 R2 0.8551558527309973 RMSE 1.041403165290301\n",
      "alpha 200.0 R2 0.8455513877476603 RMSE 1.0753762059109333\n"
     ]
    }
   ],
   "source": [
    "alphas_test = np.linspace(1, 200, 10)\n",
    "for alpha in alphas_test:\n",
    "    ridge_menor = Ridge(alpha=alpha)\n",
    "    ridge_menor.fit(X_train_menor, y_train_menor)\n",
    "    y_pred_menor = ridge_menor.predict(X_test_menor)\n",
    "    r2_menor = r2_score(y_test_menor, y_pred_menor)\n",
    "    rmse_menor = np.sqrt(mean_squared_error(y_test_menor, y_pred_menor))\n",
    "    print(\"alpha\", alpha, \"R2\", r2_menor, 'RMSE', rmse_menor)"
   ]
  },
  {
   "cell_type": "markdown",
   "metadata": {},
   "source": [
    "Creemos que el que tiene un `R2` de 0.901 puede ser un buen alpha."
   ]
  },
  {
   "cell_type": "code",
   "execution_count": 198,
   "metadata": {},
   "outputs": [
    {
     "name": "stdout",
     "output_type": "stream",
     "text": [
      "R2 0.9014668042701452 RMSE 0.8589338176060409\n"
     ]
    }
   ],
   "source": [
    "ridge_menor = Ridge(alpha=67.3)\n",
    "ridge_menor.fit(X_train_menor, y_train_menor)\n",
    "y_pred_menor = ridge_menor.predict(X_test_menor)\n",
    "r2_menor = r2_score(y_test_menor, y_pred_menor)\n",
    "rmse_menor = np.sqrt(mean_squared_error(y_test_menor, y_pred_menor))\n",
    "print(\"R2\", r2_menor, 'RMSE', rmse_menor)"
   ]
  },
  {
   "cell_type": "markdown",
   "metadata": {},
   "source": [
    "Modelo de la media 'real':"
   ]
  },
  {
   "cell_type": "code",
   "execution_count": 199,
   "metadata": {},
   "outputs": [],
   "source": [
    "X = df_media_sint[['ancho','pie']]\n",
    "y = df_media_sint['altura']\n",
    "X_train_media, X_test_media, y_train_media, y_test_media = train_test_split(X, y, test_size = 0.2, random_state = 42)"
   ]
  },
  {
   "cell_type": "code",
   "execution_count": 200,
   "metadata": {},
   "outputs": [
    {
     "name": "stdout",
     "output_type": "stream",
     "text": [
      "Mejor alpha encontrado: 1.0\n"
     ]
    }
   ],
   "source": [
    "ridge_media = Ridge()\n",
    "grid_search = GridSearchCV(ridge_media, param_grid, cv=5, scoring='r2')\n",
    "grid_search.fit(X_train_media, y_train_media)\n",
    "best_alpha_media = grid_search.best_params_['alpha']\n",
    "print(f\"Mejor alpha encontrado: {best_alpha_media}\")"
   ]
  },
  {
   "cell_type": "code",
   "execution_count": 201,
   "metadata": {},
   "outputs": [
    {
     "name": "stdout",
     "output_type": "stream",
     "text": [
      "alpha 1.0 R2 0.9737231655739774 RMSE 0.8974161680485239\n",
      "alpha 23.11111111111111 R2 0.969551806565726 RMSE 0.9660244807635355\n",
      "alpha 45.22222222222222 R2 0.9659653105439209 RMSE 1.0213351142045426\n",
      "alpha 67.33333333333333 R2 0.9618286007184449 RMSE 1.0816242301806087\n",
      "alpha 89.44444444444444 R2 0.9570862992679298 RMSE 1.1468466530222123\n",
      "alpha 111.55555555555556 R2 0.9517953002621886 RMSE 1.2154918700618418\n",
      "alpha 133.66666666666666 R2 0.9460266051316553 RMSE 1.286166623060956\n",
      "alpha 155.77777777777777 R2 0.9398485732760605 RMSE 1.357782896552377\n",
      "alpha 177.88888888888889 R2 0.9333232611371874 RMSE 1.4295341761846072\n",
      "alpha 200.0 R2 0.9265058876198768 RMSE 1.5008373943655278\n"
     ]
    }
   ],
   "source": [
    "for alpha in alphas_test:\n",
    "    ridge_media = Ridge(alpha=alpha)\n",
    "    ridge_media.fit(X_train_media, y_train_media)\n",
    "    y_pred_media = ridge_media.predict(X_test_media)\n",
    "    r2_media = r2_score(y_test_media, y_pred_media)\n",
    "    rmse_media = np.sqrt(mean_squared_error(y_test_media, y_pred_media))\n",
    "    print(\"alpha\", alpha, \"R2\", r2_media, 'RMSE', rmse_media)"
   ]
  },
  {
   "cell_type": "markdown",
   "metadata": {},
   "source": [
    "Creemos que el que tiene un `R2` de 0.926 es el ideal para prevenir el sobreajuste."
   ]
  },
  {
   "cell_type": "code",
   "execution_count": 202,
   "metadata": {},
   "outputs": [
    {
     "name": "stdout",
     "output_type": "stream",
     "text": [
      "R2 0.9265058876198768 RMSE 1.5008373943655278\n"
     ]
    }
   ],
   "source": [
    "ridge_media = Ridge(alpha=200)\n",
    "ridge_media.fit(X_train_media, y_train_media)\n",
    "y_pred_media = ridge_media.predict(X_test_media)\n",
    "r2 = r2_score(y_test_media, y_pred_media)\n",
    "rmse = np.sqrt(mean_squared_error(y_test_media, y_pred_media))\n",
    "print(\"R2\", r2, 'RMSE', rmse)"
   ]
  },
  {
   "cell_type": "markdown",
   "metadata": {},
   "source": [
    "Modelo de los mayores:"
   ]
  },
  {
   "cell_type": "code",
   "execution_count": 203,
   "metadata": {},
   "outputs": [],
   "source": [
    "X = df_mayor_sintetico[['ancho','pie']]\n",
    "y = df_mayor_sintetico['altura']\n",
    "X_train_mayor, X_test_mayor, y_train_mayor, y_test_mayor = train_test_split(X, y, test_size = 0.2, random_state = 42)"
   ]
  },
  {
   "cell_type": "code",
   "execution_count": 204,
   "metadata": {},
   "outputs": [
    {
     "name": "stdout",
     "output_type": "stream",
     "text": [
      "Mejor alpha encontrado: 1.0\n"
     ]
    }
   ],
   "source": [
    "ridge_mayor = Ridge()\n",
    "grid_search = GridSearchCV(ridge_mayor, param_grid, cv=5, scoring='r2')\n",
    "grid_search.fit(X_train_mayor, y_train_mayor)\n",
    "best_alpha_mayor = grid_search.best_params_['alpha']\n",
    "print(f\"Mejor alpha encontrado: {best_alpha_mayor}\")"
   ]
  },
  {
   "cell_type": "code",
   "execution_count": 205,
   "metadata": {},
   "outputs": [
    {
     "name": "stdout",
     "output_type": "stream",
     "text": [
      "alpha 10.0 R2 0.9794418014343916 RMSE 0.4553908519399289\n",
      "alpha 16.378937069540637 R2 0.9786483812672835 RMSE 0.4640953069858368\n",
      "alpha 26.826957952797258 R2 0.977732285562313 RMSE 0.4739468001687199\n",
      "alpha 43.939705607607905 R2 0.9764559330631883 RMSE 0.48734051260395655\n",
      "alpha 71.96856730011521 R2 0.9743751037695514 RMSE 0.5084202402783063\n",
      "alpha 117.87686347935866 R2 0.9706201676108063 RMSE 0.5443978868676771\n",
      "alpha 193.06977288832496 R2 0.9634408698683204 RMSE 0.607281010079615\n",
      "alpha 316.22776601683796 R2 0.9493948342120831 RMSE 0.7144785580306883\n",
      "alpha 517.9474679231213 R2 0.9222867160827565 RMSE 0.8853997693218552\n",
      "alpha 848.3428982440716 R2 0.8728090199043527 RMSE 1.132713119776955\n",
      "alpha 1389.4954943731375 R2 0.7911006131461111 RMSE 1.4516447791689964\n",
      "alpha 2275.8459260747886 R2 0.6736137038920433 RMSE 1.8145031722179525\n",
      "alpha 3727.593720314938 R2 0.5299256499073636 RMSE 2.1775846726498305\n",
      "alpha 6105.402296585326 R2 0.3808494807348657 RMSE 2.49913602332627\n",
      "alpha 10000.0 R2 0.24744458269311786 RMSE 2.755250038033422\n"
     ]
    }
   ],
   "source": [
    "alphas_test = np.logspace(1, 4, 15)\n",
    "for alpha in alphas_test:\n",
    "    ridge_mayor = Ridge(alpha=alpha)\n",
    "    ridge_mayor.fit(X_train_mayor, y_train_mayor)\n",
    "    y_pred_mayor = ridge_mayor.predict(X_test_mayor)\n",
    "    r2_mayor = r2_score(y_test_mayor, y_pred_mayor)\n",
    "    rmse_mayor = np.sqrt(mean_squared_error(y_test_mayor, y_pred_mayor))\n",
    "    print(\"alpha\", alpha, \"R2\", r2_mayor, 'RMSE', rmse_mayor)"
   ]
  },
  {
   "cell_type": "markdown",
   "metadata": {},
   "source": [
    "El alpha que usaremos es el que nos tiene un `R2` de $0.9222867160827566$"
   ]
  },
  {
   "cell_type": "code",
   "execution_count": 206,
   "metadata": {},
   "outputs": [
    {
     "name": "stdout",
     "output_type": "stream",
     "text": [
      "R2 0.9222877837230099 RMSE 0.8853936874035968\n"
     ]
    }
   ],
   "source": [
    "ridge_mayor = Ridge(alpha=517.94)\n",
    "ridge_mayor.fit(X_train_mayor, y_train_mayor)\n",
    "y_pred_mayor = ridge_mayor.predict(X_test_mayor)\n",
    "r2_mayor = r2_score(y_test_mayor, y_pred_mayor)\n",
    "rmse_mayor = np.sqrt(mean_squared_error(y_test_mayor, y_pred_mayor))\n",
    "print(\"R2\", r2_mayor, 'RMSE', rmse_mayor)"
   ]
  },
  {
   "cell_type": "markdown",
   "metadata": {},
   "source": [
    "### Unión de los 3 modelos"
   ]
  },
  {
   "cell_type": "code",
   "execution_count": 207,
   "metadata": {},
   "outputs": [],
   "source": [
    "def modelos(x_test, modelos=[ridge_menor, ridge_media, ridge_mayor])-> pd.Series:\n",
    "    predicciones = []\n",
    "    for _, row in x_test.iterrows():\n",
    "        predicciones_modelo = []\n",
    "        pesos = []\n",
    "\n",
    "        if row.iloc[0] <= 45 and row.iloc[1] <= 24:  \n",
    "            prediccion = modelos[0].predict(row.values.reshape(1, -1))  \n",
    "            predicciones_modelo.append(np.round(prediccion, 0))\n",
    "            pesos.append(1)\n",
    "\n",
    "        if 40 < row.iloc[0] < 50 and  22 < row.iloc[1] <= 26.5:\n",
    "            prediccion = modelos[1].predict(row.values.reshape(1, -1))\n",
    "            predicciones_modelo.append(np.round(prediccion, 0))\n",
    "            #Agregamos pesos para mejorar la calidad de la probabilidad\n",
    "            distancia_menor = abs(row.iloc[1] - 22) / 4.5 \n",
    "            distancia_mayor = abs(row.iloc[1] - 26.5) / 4.5\n",
    "            peso = np.exp(-1.5 * (distancia_menor + distancia_mayor))\n",
    "            pesos.append(peso)\n",
    "\n",
    "        if row.iloc[0] >= 43 and row.iloc[1] > 26:\n",
    "            prediccion = modelos[2].predict(row.values.reshape(1, -1))\n",
    "            predicciones_modelo.append(np.round(prediccion, 0))\n",
    "            pesos.append(1)\n",
    "\n",
    "        if predicciones_modelo:\n",
    "            predicciones_modelo = np.array(predicciones_modelo).flatten()  \n",
    "            pesos = np.array(pesos) / np.sum(pesos)  \n",
    "            prediccion = np.dot(predicciones_modelo, pesos)\n",
    "               \n",
    "        else:\n",
    "            prediccion = np.mean([modelo.predict(row.values.reshape(1, -1))[0] for modelo in modelos]) \n",
    "            \n",
    "        predicciones.append(np.round(prediccion, 0))\n",
    "    return  pd.Series(predicciones)"
   ]
  },
  {
   "cell_type": "code",
   "execution_count": 208,
   "metadata": {},
   "outputs": [
    {
     "name": "stdout",
     "output_type": "stream",
     "text": [
      "r2 0.9253860585943138, rmse 3.2022719207689803\n"
     ]
    }
   ],
   "source": [
    "y_pred_mod = modelos(X_test_iteso)\n",
    "r2_iteso = r2_score(y_test_iteso, y_pred_mod)\n",
    "rmse_iteso = np.sqrt(mean_squared_error(y_test_iteso, y_pred_mod))\n",
    "print(f'r2 {r2_iteso}, rmse {rmse_iteso}')"
   ]
  },
  {
   "cell_type": "code",
   "execution_count": 209,
   "metadata": {},
   "outputs": [
    {
     "data": {
      "image/png": "[encoded data removed]",
      "text/plain": [
       "<Figure size 800x600 with 1 Axes>"
      ]
     },
     "metadata": {},
     "output_type": "display_data"
    }
   ],
   "source": [
    "plt.figure(figsize=(8, 6))\n",
    "plt.scatter(x=y_test_iteso, y=y_pred_mod, alpha=0.6, edgecolors='k',label=\"Predicciones vs Reales\", color=\"blue\")\n",
    "plt.plot([y_test_iteso.min(), y_test_iteso.max()], [y_test_iteso.min(), y_test_iteso.max()], 'r--', lw=2,label=\"Línea Ideal\")  # Línea de referencia\n",
    "plt.xlabel(\"Altura real\")\n",
    "plt.ylabel(\"Altura predicha\")\n",
    "plt.title(f\"Scatterplot de predicciones\")\n",
    "plt.text(y_test_iteso.min(), y_test_iteso.max() * 0.9, f\"$R^2$: {r2_iteso:.2f}\\nRMSE: {rmse_iteso:.2f}\", fontsize=12, color=\"red\")\n",
    "plt.grid(True)\n",
    "plt.show()"
   ]
  },
  {
   "cell_type": "markdown",
   "metadata": {},
   "source": [
    "Podemos observar que, los errores se concentran principalmente en los lugares donde los modelos se juntan, por ejemplo: 160-165 y 170-175. Fuera de esos rangos, la predicción es muy buena."
   ]
  },
  {
   "cell_type": "markdown",
   "metadata": {},
   "source": [
    "---"
   ]
  },
  {
   "cell_type": "markdown",
   "metadata": {},
   "source": [
    "\n",
    "### <font color= #74C79D> **3.** </font>\n",
    " Ahora, tu modelo será utilizado para predecir la altura de la población en Países bajos, cuya media de altura\n",
    " es de 183cm para hombres y 170cm para mujeres. Realiza la gráfica de tu propuesta con un scatterplot de\n",
    " los datos incluyendo el valor de R2 y RMSE."
   ]
  },
  {
   "cell_type": "markdown",
   "metadata": {},
   "source": [
    "Creamos un dataset síntetico para hombres y otro para mujeres."
   ]
  },
  {
   "cell_type": "code",
   "execution_count": 210,
   "metadata": {},
   "outputs": [
    {
     "data": {
      "text/html": [
       "<div>\n",
       "<style scoped>\n",
       "    .dataframe tbody tr th:only-of-type {\n",
       "        vertical-align: middle;\n",
       "    }\n",
       "\n",
       "    .dataframe tbody tr th {\n",
       "        vertical-align: top;\n",
       "    }\n",
       "\n",
       "    .dataframe thead th {\n",
       "        text-align: right;\n",
       "    }\n",
       "</style>\n",
       "<table border=\"1\" class=\"dataframe\">\n",
       "  <thead>\n",
       "    <tr style=\"text-align: right;\">\n",
       "      <th></th>\n",
       "      <th>altura</th>\n",
       "      <th>ancho</th>\n",
       "      <th>pie</th>\n",
       "    </tr>\n",
       "  </thead>\n",
       "  <tbody>\n",
       "    <tr>\n",
       "      <th>0</th>\n",
       "      <td>175.0</td>\n",
       "      <td>41.0</td>\n",
       "      <td>24.1</td>\n",
       "    </tr>\n",
       "    <tr>\n",
       "      <th>1</th>\n",
       "      <td>176.0</td>\n",
       "      <td>42.0</td>\n",
       "      <td>24.2</td>\n",
       "    </tr>\n",
       "    <tr>\n",
       "      <th>2</th>\n",
       "      <td>176.0</td>\n",
       "      <td>42.0</td>\n",
       "      <td>25.0</td>\n",
       "    </tr>\n",
       "    <tr>\n",
       "      <th>3</th>\n",
       "      <td>176.0</td>\n",
       "      <td>42.0</td>\n",
       "      <td>25.3</td>\n",
       "    </tr>\n",
       "    <tr>\n",
       "      <th>4</th>\n",
       "      <td>177.0</td>\n",
       "      <td>43.0</td>\n",
       "      <td>25.3</td>\n",
       "    </tr>\n",
       "  </tbody>\n",
       "</table>\n",
       "</div>"
      ],
      "text/plain": [
       "   altura  ancho   pie\n",
       "0   175.0   41.0  24.1\n",
       "1   176.0   42.0  24.2\n",
       "2   176.0   42.0  25.0\n",
       "3   176.0   42.0  25.3\n",
       "4   177.0   43.0  25.3"
      ]
     },
     "execution_count": 210,
     "metadata": {},
     "output_type": "execute_result"
    }
   ],
   "source": [
    "altura_hombres = np.sort(np.round(np.random.normal(loc=183, scale=5, size=100), 0))\n",
    "ancho_hombres = np.sort(np.round(np.random.normal(loc=46, scale=2, size=100), 0))\n",
    "pies_hombres = np.sort(np.round(np.random.normal(loc=27, scale=1, size=100), 1))\n",
    "df_hombres_sintetico = pd.DataFrame({'altura':altura_hombres, 'ancho':ancho_hombres, 'pie':pies_hombres})\n",
    "df_hombres_sintetico.head()"
   ]
  },
  {
   "cell_type": "code",
   "execution_count": 211,
   "metadata": {},
   "outputs": [
    {
     "data": {
      "text/html": [
       "<div>\n",
       "<style scoped>\n",
       "    .dataframe tbody tr th:only-of-type {\n",
       "        vertical-align: middle;\n",
       "    }\n",
       "\n",
       "    .dataframe tbody tr th {\n",
       "        vertical-align: top;\n",
       "    }\n",
       "\n",
       "    .dataframe thead th {\n",
       "        text-align: right;\n",
       "    }\n",
       "</style>\n",
       "<table border=\"1\" class=\"dataframe\">\n",
       "  <thead>\n",
       "    <tr style=\"text-align: right;\">\n",
       "      <th></th>\n",
       "      <th>altura</th>\n",
       "      <th>ancho</th>\n",
       "      <th>pie</th>\n",
       "    </tr>\n",
       "  </thead>\n",
       "  <tbody>\n",
       "    <tr>\n",
       "      <th>0</th>\n",
       "      <td>158.0</td>\n",
       "      <td>36.0</td>\n",
       "      <td>21.4</td>\n",
       "    </tr>\n",
       "    <tr>\n",
       "      <th>1</th>\n",
       "      <td>159.0</td>\n",
       "      <td>36.0</td>\n",
       "      <td>21.4</td>\n",
       "    </tr>\n",
       "    <tr>\n",
       "      <th>2</th>\n",
       "      <td>162.0</td>\n",
       "      <td>36.0</td>\n",
       "      <td>22.0</td>\n",
       "    </tr>\n",
       "    <tr>\n",
       "      <th>3</th>\n",
       "      <td>162.0</td>\n",
       "      <td>37.0</td>\n",
       "      <td>22.2</td>\n",
       "    </tr>\n",
       "    <tr>\n",
       "      <th>4</th>\n",
       "      <td>162.0</td>\n",
       "      <td>37.0</td>\n",
       "      <td>22.4</td>\n",
       "    </tr>\n",
       "  </tbody>\n",
       "</table>\n",
       "</div>"
      ],
      "text/plain": [
       "   altura  ancho   pie\n",
       "0   158.0   36.0  21.4\n",
       "1   159.0   36.0  21.4\n",
       "2   162.0   36.0  22.0\n",
       "3   162.0   37.0  22.2\n",
       "4   162.0   37.0  22.4"
      ]
     },
     "execution_count": 211,
     "metadata": {},
     "output_type": "execute_result"
    }
   ],
   "source": [
    "altura_mujeres = np.sort(np.round(np.random.normal(loc=170, scale=5, size=100), 0))\n",
    "ancho_mujeres = np.sort(np.round(np.random.normal(loc=40, scale=2, size=100), 0)) \n",
    "pies_mujeres = np.sort(np.round(np.random.normal(loc=24, scale=1, size=100), 1))\n",
    "df_mujeres_sintetico = pd.DataFrame({'altura':altura_mujeres, 'ancho':ancho_mujeres, 'pie':pies_mujeres})\n",
    "df_mujeres_sintetico.head()"
   ]
  },
  {
   "cell_type": "markdown",
   "metadata": {},
   "source": [
    "Juntamos los dataframes:"
   ]
  },
  {
   "cell_type": "code",
   "execution_count": 212,
   "metadata": {},
   "outputs": [
    {
     "data": {
      "text/html": [
       "<div>\n",
       "<style scoped>\n",
       "    .dataframe tbody tr th:only-of-type {\n",
       "        vertical-align: middle;\n",
       "    }\n",
       "\n",
       "    .dataframe tbody tr th {\n",
       "        vertical-align: top;\n",
       "    }\n",
       "\n",
       "    .dataframe thead th {\n",
       "        text-align: right;\n",
       "    }\n",
       "</style>\n",
       "<table border=\"1\" class=\"dataframe\">\n",
       "  <thead>\n",
       "    <tr style=\"text-align: right;\">\n",
       "      <th></th>\n",
       "      <th>altura</th>\n",
       "      <th>ancho</th>\n",
       "      <th>pie</th>\n",
       "    </tr>\n",
       "  </thead>\n",
       "  <tbody>\n",
       "    <tr>\n",
       "      <th>0</th>\n",
       "      <td>175.0</td>\n",
       "      <td>41.0</td>\n",
       "      <td>24.1</td>\n",
       "    </tr>\n",
       "    <tr>\n",
       "      <th>1</th>\n",
       "      <td>176.0</td>\n",
       "      <td>42.0</td>\n",
       "      <td>24.2</td>\n",
       "    </tr>\n",
       "    <tr>\n",
       "      <th>2</th>\n",
       "      <td>176.0</td>\n",
       "      <td>42.0</td>\n",
       "      <td>25.0</td>\n",
       "    </tr>\n",
       "    <tr>\n",
       "      <th>3</th>\n",
       "      <td>176.0</td>\n",
       "      <td>42.0</td>\n",
       "      <td>25.3</td>\n",
       "    </tr>\n",
       "    <tr>\n",
       "      <th>4</th>\n",
       "      <td>177.0</td>\n",
       "      <td>43.0</td>\n",
       "      <td>25.3</td>\n",
       "    </tr>\n",
       "  </tbody>\n",
       "</table>\n",
       "</div>"
      ],
      "text/plain": [
       "   altura  ancho   pie\n",
       "0   175.0   41.0  24.1\n",
       "1   176.0   42.0  24.2\n",
       "2   176.0   42.0  25.0\n",
       "3   176.0   42.0  25.3\n",
       "4   177.0   43.0  25.3"
      ]
     },
     "execution_count": 212,
     "metadata": {},
     "output_type": "execute_result"
    }
   ],
   "source": [
    "df_paises_bajos = pd.concat([df_hombres_sintetico, df_mujeres_sintetico], ignore_index=True)\n",
    "df_paises_bajos.head()"
   ]
  },
  {
   "cell_type": "code",
   "execution_count": 213,
   "metadata": {},
   "outputs": [],
   "source": [
    "X = df_paises_bajos[['ancho','pie']]\n",
    "y = df_paises_bajos['altura']\n",
    "X_train_pb, X_test_pb, y_train_pb, y_test_pb = train_test_split(X,y, test_size = 0.2, random_state = 42)"
   ]
  },
  {
   "cell_type": "code",
   "execution_count": 214,
   "metadata": {},
   "outputs": [
    {
     "name": "stdout",
     "output_type": "stream",
     "text": [
      "R2 0.9933596183451952 MSE 0.4935422162548363\n"
     ]
    }
   ],
   "source": [
    "ridge_pb = Ridge()\n",
    "ridge_pb.fit(X_train_pb, y_train_pb)\n",
    "y_pred_pb = ridge_pb.predict(X_test_pb)\n",
    "r2_pb = r2_score(y_test_pb, y_pred_pb)\n",
    "mse_pb = mean_squared_error(y_test_pb, y_pred_pb)\n",
    "print(\"R2\", r2_pb, 'MSE', mse_pb)"
   ]
  },
  {
   "cell_type": "markdown",
   "metadata": {},
   "source": [
    "Esta sobreajustando nuestro modelo, podemos evitar esto a través de mover el parametro de alpha."
   ]
  },
  {
   "cell_type": "code",
   "execution_count": 215,
   "metadata": {},
   "outputs": [
    {
     "data": {
      "image/png": "[encoded data removed]",
      "text/plain": [
       "<Figure size 800x600 with 1 Axes>"
      ]
     },
     "metadata": {},
     "output_type": "display_data"
    }
   ],
   "source": [
    "plt.figure(figsize=(8, 6))\n",
    "plt.scatter(x=y_test_pb, y=y_pred_pb, alpha=0.6, edgecolors='k',label=\"Predicciones vs Reales\", color=\"blue\")\n",
    "plt.plot([y_test.min(), y_test.max()], [y_test.min(), y_test.max()], 'r--', lw=2,label=\"Línea Ideal\")  # Línea de referencia\n",
    "plt.xlabel(\"Altura real\")\n",
    "plt.ylabel(\"Altura predicha\")\n",
    "plt.title(f\"Scatterplot de predicciones\")\n",
    "plt.text(y_test.min(), y_test.max() * 0.9, f\"$R^2$: {r2_iteso:.2f}\\nRMSE: {rmse_iteso:.2f}\", fontsize=12, color=\"red\")\n",
    "plt.grid(True)\n",
    "plt.show()"
   ]
  },
  {
   "cell_type": "markdown",
   "metadata": {},
   "source": [
    "Hay que mover el Alpha."
   ]
  },
  {
   "cell_type": "code",
   "execution_count": 216,
   "metadata": {},
   "outputs": [
    {
     "name": "stdout",
     "output_type": "stream",
     "text": [
      "alpha 10.0 R2 0.9916766105250782 RMSE 0.786530813512826\n",
      "alpha 16.378937069540637 R2 0.991165019803583 RMSE 0.8103421383811105\n",
      "alpha 26.826957952797258 R2 0.9906673719043624 RMSE 0.8328515776029425\n",
      "alpha 43.939705607607905 R2 0.9901373707536415 RMSE 0.8561739044097976\n",
      "alpha 71.96856730011521 R2 0.9893961832681399 RMSE 0.8877623844306762\n",
      "alpha 117.87686347935866 R2 0.9879927407092695 RMSE 0.9446862136426503\n",
      "alpha 193.06977288832496 R2 0.9848729250911044 RMSE 1.060335035817381\n",
      "alpha 316.22776601683796 R2 0.9776980229749537 RMSE 1.287470583606058\n",
      "alpha 517.9474679231213 R2 0.9617370637921895 RMSE 1.6863774249290655\n",
      "alpha 848.3428982440716 R2 0.9288316003986513 RMSE 2.2999014805248708\n",
      "alpha 1389.4954943731375 R2 0.8682649771898536 RMSE 3.129077058171447\n",
      "alpha 2275.8459260747886 R2 0.7720087151692197 RMSE 4.116468116054676\n",
      "alpha 3727.593720314938 R2 0.6429508214561743 RMSE 5.151451935089103\n",
      "alpha 6105.402296585326 R2 0.4978217141529959 RMSE 6.109344255658698\n",
      "alpha 10000.0 R2 0.35911707103007284 RMSE 6.9016826313486215\n"
     ]
    }
   ],
   "source": [
    "for alpha in alphas_test:\n",
    "    ridge_pb = Ridge(alpha=alpha)\n",
    "    ridge_pb.fit(X_train_pb, y_train_pb)\n",
    "    y_pred_pb = ridge_pb.predict(X_test_pb)\n",
    "    r2_pb = r2_score(y_test_pb, y_pred_pb)\n",
    "    rmse_pb = np.sqrt(mean_squared_error(y_test_pb, y_pred_pb))\n",
    "    print(\"alpha\", alpha, \"R2\", r2_pb, 'RMSE', rmse_pb)"
   ]
  },
  {
   "cell_type": "markdown",
   "metadata": {},
   "source": [
    "Como lo que nos importa es la calidad de la predicción, hay que optimizar el RMSE a pesar de que pueda caer en sobreajuste"
   ]
  },
  {
   "cell_type": "code",
   "execution_count": 217,
   "metadata": {},
   "outputs": [
    {
     "name": "stdout",
     "output_type": "stream",
     "text": [
      "R2 0.9933596183451952 RMSE 0.7025255982915045\n"
     ]
    }
   ],
   "source": [
    "ridge_pb = Ridge(alpha=1, fit_intercept=True)\n",
    "ridge_pb.fit(X_train_pb, y_train_pb)\n",
    "y_pred_pb = ridge_pb.predict(X_test_pb)\n",
    "r2_pb = r2_score(y_test_pb, y_pred_pb)\n",
    "rmse_pb = np.sqrt(mean_squared_error(y_test_pb, y_pred_pb))\n",
    "print(\"R2\", r2_pb, 'RMSE', rmse_pb)"
   ]
  },
  {
   "cell_type": "code",
   "execution_count": 218,
   "metadata": {},
   "outputs": [
    {
     "data": {
      "image/png": "[encoded data removed]",
      "text/plain": [
       "<Figure size 800x600 with 1 Axes>"
      ]
     },
     "metadata": {},
     "output_type": "display_data"
    }
   ],
   "source": [
    "plt.figure(figsize=(8, 6))\n",
    "plt.scatter(x=y_test_pb, y=y_pred_pb, alpha=0.6, edgecolors='k',label=\"Predicciones vs Reales\", color=\"blue\")\n",
    "plt.plot([y_test_pb.min(), y_test_pb.max()], [y_test_pb.min(), y_test_pb.max()], 'r--', lw=2,label=\"Línea Ideal\")  # Línea de referencia\n",
    "plt.xlabel(\"Altura real\")\n",
    "plt.ylabel(\"Altura predicha\")\n",
    "plt.title(f\"Scatterplot de predicciones\")\n",
    "plt.text(y_test_pb.min(), y_test_pb.max() * 0.9, f\"$R^2$: {r2_pb:.2f}\\nRMSE: {rmse_pb:.2f}\", fontsize=12, color=\"red\")\n",
    "plt.grid(True)\n",
    "plt.show()"
   ]
  },
  {
   "cell_type": "markdown",
   "metadata": {},
   "source": [
    "---"
   ]
  },
  {
   "cell_type": "markdown",
   "metadata": {},
   "source": [
    "### <font color= #74C79D> **4.** </font>\n",
    "Finalmente, se informa que tu modelo será utilizado en ambos contextos indistintamente. Realiza la gráfica de tu propuesta con un scatterplot de los datos incluyendo el valor de R2 y RMSE.\n",
    "\n",
    "    a. ¿Agregarías datos a tu base de datos para mejorar las predicciones del modelo?\n",
    "\n",
    "    b. ¿Cómo conseguirías dicha información?\n",
    "\n",
    "    c. ¿Modificarías algún parámetro de tu modelo?"
   ]
  },
  {
   "cell_type": "markdown",
   "metadata": {},
   "source": [
    "### Unión de los 2 modelos anteriores"
   ]
  },
  {
   "cell_type": "code",
   "execution_count": 219,
   "metadata": {},
   "outputs": [],
   "source": [
    "#Función para combinar los dos modelos \n",
    "def modelos_combinado(x_test, modelos=[ridge_menor, ridge_media, ridge_mayor], modelo_pb=ridge_pb) -> pd.Series:\n",
    "    predicciones = []\n",
    "    for _, row in x_test.iterrows():\n",
    "        predicciones_modelo = []\n",
    "        pesos = []\n",
    "\n",
    "       \n",
    "        if row.iloc[0] <= 45 and row.iloc[1] <= 24:  \n",
    "            prediccion = modelos[0].predict(row.values.reshape(1, -1))  \n",
    "            predicciones_modelo.append(np.round(prediccion, 0))\n",
    "            pesos.append(1)\n",
    "        #Agregamos pesos para mejorar la calidad de la probabilidad\n",
    "        if 40 < row.iloc[0] < 50 and 22 < row.iloc[1] <= 26.5:\n",
    "            prediccion = modelos[1].predict(row.values.reshape(1, -1))\n",
    "            predicciones_modelo.append(np.round(prediccion, 0))\n",
    "            distancia_menor = abs(row.iloc[1] - 22) / 4.5 \n",
    "            distancia_mayor = abs(row.iloc[1] - 26.5) / 4.5\n",
    "            peso = np.exp(-1.5 * (distancia_menor + distancia_mayor))\n",
    "            pesos.append(peso)\n",
    "\n",
    "        if row.iloc[0] >= 43 and row.iloc[1] > 26:\n",
    "            prediccion = modelos[2].predict(row.values.reshape(1, -1))\n",
    "            predicciones_modelo.append(np.round(prediccion, 0))\n",
    "            pesos.append(1)\n",
    "\n",
    "        \n",
    "        if not predicciones_modelo:\n",
    "            prediccion = modelo_pb.predict(row.values.reshape(1, -1))[0]\n",
    "        else:\n",
    "            predicciones_modelo = np.array(predicciones_modelo).flatten()\n",
    "            pesos = np.array(pesos) / np.sum(pesos)\n",
    "            prediccion = np.dot(predicciones_modelo, pesos)\n",
    "\n",
    "        predicciones.append(np.round(prediccion, 0))\n",
    "\n",
    "    return pd.Series(predicciones)\n",
    "\n",
    "\n",
    "\n"
   ]
  },
  {
   "cell_type": "code",
   "execution_count": null,
   "metadata": {},
   "outputs": [],
   "source": [
    "df_combinado = pd.concat([df_paises_bajos, df_menor_sintetico, df_media_sint, df_mayor_sintetico], ignore_index=True)\n",
    "#dataframe con los dataframes anteriores de los dos modelos unidos"
   ]
  },
  {
   "cell_type": "code",
   "execution_count": null,
   "metadata": {},
   "outputs": [],
   "source": [
    "X = df_combinado[['ancho', 'pie']] \n",
    "y = df_combinado['altura']  \n",
    "X_train_modelos, X_test_modelos, y_train_modelos, y_test_modelos = train_test_split(X, y, test_size=0.2, random_state=42)\n",
    "#hacemos la división del train y test"
   ]
  },
  {
   "cell_type": "code",
   "execution_count": 222,
   "metadata": {},
   "outputs": [
    {
     "name": "stdout",
     "output_type": "stream",
     "text": [
      "Mejor alpha encontrado: 3.1992671377973836\n"
     ]
    }
   ],
   "source": [
    "ridge_modelos = Ridge()\n",
    "grid_search = GridSearchCV(ridge_modelos, param_grid, cv=5, scoring='r2')\n",
    "grid_search.fit(X_train_modelos, y_train_modelos)\n",
    "best_alpha_modelos = grid_search.best_params_['alpha']\n",
    "print(f\"Mejor alpha encontrado: {best_alpha_modelos}\")"
   ]
  },
  {
   "cell_type": "markdown",
   "metadata": {},
   "source": [
    "Buscamos el mejor alpha para el modelo de rifge combinados que nos da '3.19'"
   ]
  },
  {
   "cell_type": "code",
   "execution_count": 223,
   "metadata": {},
   "outputs": [
    {
     "name": "stdout",
     "output_type": "stream",
     "text": [
      "r2 0.7084411709517152, rmse 6.182317739454916\n"
     ]
    }
   ],
   "source": [
    "y_pred_modelos = modelos_combinado(X_test_modelos)\n",
    "r2_modelos = r2_score(y_test_modelos, y_pred_modelos)\n",
    "rmse_modelos = np.sqrt(mean_squared_error(y_test_modelos, y_pred_modelos))\n",
    "print(f'r2 {r2_modelos}, rmse {rmse_modelos}')"
   ]
  },
  {
   "cell_type": "markdown",
   "metadata": {},
   "source": [
    "Obtuvimos un r2 no muy bueno, vamos a ver si podemos mejorarlo con el mejor alpha encontrado"
   ]
  },
  {
   "cell_type": "code",
   "execution_count": 224,
   "metadata": {},
   "outputs": [
    {
     "name": "stdout",
     "output_type": "stream",
     "text": [
      "R2 0.8894302961216282 RMSE 3.8072053000681536\n"
     ]
    }
   ],
   "source": [
    "ridge_modelos = Ridge(best_alpha_modelos)\n",
    "ridge_modelos.fit(X_train_modelos, y_train_modelos)\n",
    "y_pred_modelos = ridge_modelos.predict(X_test_modelos)\n",
    "r2 = r2_score(y_test_modelos, y_pred_modelos)\n",
    "rmse = np.sqrt(mean_squared_error(y_test_modelos, y_pred_modelos))\n",
    "print(\"R2\", r2, 'RMSE', rmse)"
   ]
  },
  {
   "cell_type": "markdown",
   "metadata": {},
   "source": [
    "Podemos ver que mejoró nuestro r2 obteniendo 0.89 como resultado"
   ]
  },
  {
   "cell_type": "code",
   "execution_count": 225,
   "metadata": {},
   "outputs": [
    {
     "name": "stdout",
     "output_type": "stream",
     "text": [
      "alpha 1.0 R2 0.8888653024875567 RMSE 3.8169200130690393\n",
      "alpha 23.11111111111111 R2 0.8909963140808641 RMSE 3.7801480988303715\n",
      "alpha 45.22222222222222 R2 0.8877377556667432 RMSE 3.8362339398759557\n",
      "alpha 67.33333333333333 R2 0.8816560626678517 RMSE 3.9387755218820404\n",
      "alpha 89.44444444444444 R2 0.874163632857428 RMSE 4.061545371113745\n",
      "alpha 111.55555555555556 R2 0.866057402114307 RMSE 4.190323785930011\n",
      "alpha 133.66666666666666 R2 0.8577927878052485 RMSE 4.317665907751159\n",
      "alpha 155.77777777777777 R2 0.8496297516747942 RMSE 4.43985903565803\n",
      "alpha 177.88888888888889 R2 0.841713749470677 RMSE 4.555224849712681\n",
      "alpha 200.0 R2 0.8341220461726702 RMSE 4.663184061241031\n"
     ]
    }
   ],
   "source": [
    "alphas_test = np.linspace(1, 200, 10)\n",
    "for alpha in alphas_test:\n",
    "    ridge_modelos = Ridge(alpha=alpha)\n",
    "    ridge_modelos.fit(X_train_modelos, y_train_modelos)\n",
    "    y_pred_modelos = ridge_modelos.predict(X_test_modelos)\n",
    "    r2_modelos = r2_score(y_test_modelos, y_pred_modelos)\n",
    "    rmse_modelos = np.sqrt(mean_squared_error(y_test_modelos, y_pred_modelos))\n",
    "    print(\"alpha\", alpha, \"R2\", r2_modelos, 'RMSE', rmse_modelos)"
   ]
  },
  {
   "cell_type": "markdown",
   "metadata": {},
   "source": [
    "El alpha que usaremos es el que nos tiene un `R2` de $0.8909963140808641$"
   ]
  },
  {
   "cell_type": "code",
   "execution_count": 226,
   "metadata": {},
   "outputs": [
    {
     "name": "stdout",
     "output_type": "stream",
     "text": [
      "R2 0.8909963708155808 RMSE 3.78014711507621\n"
     ]
    }
   ],
   "source": [
    "ridge_modelos = Ridge(alpha=23.11)\n",
    "ridge_modelos.fit(X_train_modelos, y_train_modelos)\n",
    "y_pred_modelos = ridge_modelos.predict(X_test_modelos)\n",
    "r2_modelos = r2_score(y_test_modelos, y_pred_modelos)\n",
    "rmse_modelos = np.sqrt(mean_squared_error(y_test_modelos, y_pred_modelos))\n",
    "print(\"R2\", r2_modelos, 'RMSE', rmse_modelos)"
   ]
  },
  {
   "cell_type": "code",
   "execution_count": 227,
   "metadata": {},
   "outputs": [
    {
     "data": {
      "image/png": "[encoded data removed]",
      "text/plain": [
       "<Figure size 800x600 with 1 Axes>"
      ]
     },
     "metadata": {},
     "output_type": "display_data"
    }
   ],
   "source": [
    "plt.figure(figsize=(8, 6))\n",
    "plt.scatter(x=y_test_modelos, y=y_pred_modelos, alpha=0.6, edgecolors='k',label=\"Predicciones vs Reales\", color=\"blue\")\n",
    "plt.plot([y_test_modelos.min(), y_test_modelos.max()], [y_test_modelos.min(), y_test_modelos.max()], 'r--', lw=2,label=\"Línea Ideal\")  # Línea de referencia\n",
    "plt.xlabel(\"Altura real\")\n",
    "plt.ylabel(\"Altura predicha\")\n",
    "plt.title(f\"Scatterplot de predicciones\")\n",
    "plt.text(y_test_modelos.min(), y_test_modelos.max() * 0.9, f\"$R^2$: {r2_iteso:.2f}\\nRMSE: {rmse_iteso:.2f}\", fontsize=12, color=\"red\")\n",
    "plt.grid(True)\n",
    "plt.show()\n"
   ]
  },
  {
   "cell_type": "markdown",
   "metadata": {},
   "source": [
    "Obtuvimos un r2 bueno, se puede observar que los errores se enfocan más en los valores altos, siendo por la combinación de ambos modelos de Países Bajos"
   ]
  },
  {
   "cell_type": "markdown",
   "metadata": {},
   "source": [
    "## <font color= #74C79D> **Conclusión** </font>"
   ]
  },
  {
   "cell_type": "markdown",
   "metadata": {},
   "source": [
    "Se logró realizar el proyecto, con distintos enfoques y retos en cada incio, no solo en código sino en observación de los reslutados, en visualización de gráficas, entre más.\n",
    "\n",
    "De igual manera se demostraron nuestros conocimientos y aprendizajes ade la materia y de semestres pasados, junto con el trabajo en equipo para poder finalizar el proyecto. \n",
    "\n",
    "Lo que nos llevamos es que podemos seguir mejorando en distintos y varios aspectos pero es por ello que es muy importante seguir aprendiendo y superándonos al equivocarnos, trabajar en ello y no rendirnos."
   ]
  }
 ],
 "metadata": {
  "kernelspec": {
   "display_name": "base",
   "language": "python",
   "name": "python3"
  },
  "language_info": {
   "codemirror_mode": {
    "name": "ipython",
    "version": 3
   },
   "file_extension": ".py",
   "mimetype": "text/x-python",
   "name": "python",
   "nbconvert_exporter": "python",
   "pygments_lexer": "ipython3",
   "version": "3.12.4"
  }
 },
 "nbformat": 4,
 "nbformat_minor": 2
}
