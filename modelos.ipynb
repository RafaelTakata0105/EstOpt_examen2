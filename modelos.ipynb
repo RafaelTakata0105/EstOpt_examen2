{
 "cells": [
  {
   "cell_type": "markdown",
   "metadata": {},
   "source": [
    "# Segundo Examen Parcial\n",
    "### Estimación Óptima \n",
    "\n",
    "### Estudiantes:\n",
    "- Clara Paola Aguilar Casillas\n",
    "\n",
    "- Samantha Sánchez Tinoco\n",
    "\n",
    "- Priscila Cervantes Ramírez\n",
    "\n",
    "- Rafael Takata García"
   ]
  },
  {
   "cell_type": "code",
   "execution_count": 205,
   "metadata": {},
   "outputs": [],
   "source": [
    "import pandas as pd\n",
    "import numpy as np\n",
    "import matplotlib.pyplot as plt\n",
    "import seaborn as sns\n",
    "from sklearn.model_selection import train_test_split\n",
    "from sklearn.linear_model import LinearRegression, Lasso, Ridge\n",
    "from sklearn.metrics import r2_score, mean_squared_error\n",
    "from sklearn.model_selection import GridSearchCV"
   ]
  },
  {
   "cell_type": "markdown",
   "metadata": {},
   "source": [
    "Importamos los datos e información básica sobre estos:"
   ]
  },
  {
   "cell_type": "code",
   "execution_count": 206,
   "metadata": {},
   "outputs": [
    {
     "data": {
      "application/vnd.microsoft.datawrangler.viewer.v0+json": {
       "columns": [
        {
         "name": "index",
         "rawType": "int64",
         "type": "integer"
        },
        {
         "name": "altura",
         "rawType": "int64",
         "type": "integer"
        },
        {
         "name": "ancho",
         "rawType": "int64",
         "type": "integer"
        },
        {
         "name": "pie",
         "rawType": "float64",
         "type": "float"
        }
       ],
       "conversionMethod": "pd.DataFrame",
       "ref": "7f5a3e27-444f-475a-86b8-4eafd7b847dc",
       "rows": [
        [
         "0",
         "185",
         "55",
         "28.0"
        ],
        [
         "1",
         "173",
         "44",
         "26.5"
        ],
        [
         "2",
         "163",
         "44",
         "24.0"
        ],
        [
         "3",
         "162",
         "44",
         "24.5"
        ],
        [
         "4",
         "172",
         "46",
         "27.0"
        ]
       ],
       "shape": {
        "columns": 3,
        "rows": 5
       }
      },
      "text/html": [
       "<div>\n",
       "<style scoped>\n",
       "    .dataframe tbody tr th:only-of-type {\n",
       "        vertical-align: middle;\n",
       "    }\n",
       "\n",
       "    .dataframe tbody tr th {\n",
       "        vertical-align: top;\n",
       "    }\n",
       "\n",
       "    .dataframe thead th {\n",
       "        text-align: right;\n",
       "    }\n",
       "</style>\n",
       "<table border=\"1\" class=\"dataframe\">\n",
       "  <thead>\n",
       "    <tr style=\"text-align: right;\">\n",
       "      <th></th>\n",
       "      <th>altura</th>\n",
       "      <th>ancho</th>\n",
       "      <th>pie</th>\n",
       "    </tr>\n",
       "  </thead>\n",
       "  <tbody>\n",
       "    <tr>\n",
       "      <th>0</th>\n",
       "      <td>185</td>\n",
       "      <td>55</td>\n",
       "      <td>28.0</td>\n",
       "    </tr>\n",
       "    <tr>\n",
       "      <th>1</th>\n",
       "      <td>173</td>\n",
       "      <td>44</td>\n",
       "      <td>26.5</td>\n",
       "    </tr>\n",
       "    <tr>\n",
       "      <th>2</th>\n",
       "      <td>163</td>\n",
       "      <td>44</td>\n",
       "      <td>24.0</td>\n",
       "    </tr>\n",
       "    <tr>\n",
       "      <th>3</th>\n",
       "      <td>162</td>\n",
       "      <td>44</td>\n",
       "      <td>24.5</td>\n",
       "    </tr>\n",
       "    <tr>\n",
       "      <th>4</th>\n",
       "      <td>172</td>\n",
       "      <td>46</td>\n",
       "      <td>27.0</td>\n",
       "    </tr>\n",
       "  </tbody>\n",
       "</table>\n",
       "</div>"
      ],
      "text/plain": [
       "   altura  ancho   pie\n",
       "0     185     55  28.0\n",
       "1     173     44  26.5\n",
       "2     163     44  24.0\n",
       "3     162     44  24.5\n",
       "4     172     46  27.0"
      ]
     },
     "execution_count": 206,
     "metadata": {},
     "output_type": "execute_result"
    }
   ],
   "source": [
    "df = pd.read_csv('data/datos_gente.csv')\n",
    "df.head()"
   ]
  },
  {
   "cell_type": "code",
   "execution_count": 207,
   "metadata": {},
   "outputs": [
    {
     "name": "stdout",
     "output_type": "stream",
     "text": [
      "<class 'pandas.core.frame.DataFrame'>\n",
      "RangeIndex: 18 entries, 0 to 17\n",
      "Data columns (total 3 columns):\n",
      " #   Column  Non-Null Count  Dtype  \n",
      "---  ------  --------------  -----  \n",
      " 0   altura  18 non-null     int64  \n",
      " 1   ancho   18 non-null     int64  \n",
      " 2   pie     18 non-null     float64\n",
      "dtypes: float64(1), int64(2)\n",
      "memory usage: 564.0 bytes\n"
     ]
    }
   ],
   "source": [
    "df.info()"
   ]
  },
  {
   "cell_type": "code",
   "execution_count": 208,
   "metadata": {},
   "outputs": [
    {
     "data": {
      "application/vnd.microsoft.datawrangler.viewer.v0+json": {
       "columns": [
        {
         "name": "index",
         "rawType": "object",
         "type": "string"
        },
        {
         "name": "altura",
         "rawType": "float64",
         "type": "float"
        },
        {
         "name": "ancho",
         "rawType": "float64",
         "type": "float"
        },
        {
         "name": "pie",
         "rawType": "float64",
         "type": "float"
        }
       ],
       "conversionMethod": "pd.DataFrame",
       "ref": "901ddbb0-279e-45af-a26e-b54bd8def05d",
       "rows": [
        [
         "count",
         "18.0",
         "18.0",
         "18.0"
        ],
        [
         "mean",
         "167.11111111111111",
         "45.22222222222222",
         "25.27777777777778"
        ],
        [
         "std",
         "10.208928554075703",
         "6.664705593917467",
         "2.1708105169852097"
        ],
        [
         "min",
         "150.0",
         "38.0",
         "22.0"
        ],
        [
         "25%",
         "159.75",
         "40.0",
         "24.0"
        ],
        [
         "50%",
         "165.5",
         "44.0",
         "24.5"
        ],
        [
         "75%",
         "172.75",
         "48.75",
         "27.375"
        ],
        [
         "max",
         "187.0",
         "61.0",
         "29.0"
        ]
       ],
       "shape": {
        "columns": 3,
        "rows": 8
       }
      },
      "text/html": [
       "<div>\n",
       "<style scoped>\n",
       "    .dataframe tbody tr th:only-of-type {\n",
       "        vertical-align: middle;\n",
       "    }\n",
       "\n",
       "    .dataframe tbody tr th {\n",
       "        vertical-align: top;\n",
       "    }\n",
       "\n",
       "    .dataframe thead th {\n",
       "        text-align: right;\n",
       "    }\n",
       "</style>\n",
       "<table border=\"1\" class=\"dataframe\">\n",
       "  <thead>\n",
       "    <tr style=\"text-align: right;\">\n",
       "      <th></th>\n",
       "      <th>altura</th>\n",
       "      <th>ancho</th>\n",
       "      <th>pie</th>\n",
       "    </tr>\n",
       "  </thead>\n",
       "  <tbody>\n",
       "    <tr>\n",
       "      <th>count</th>\n",
       "      <td>18.000000</td>\n",
       "      <td>18.000000</td>\n",
       "      <td>18.000000</td>\n",
       "    </tr>\n",
       "    <tr>\n",
       "      <th>mean</th>\n",
       "      <td>167.111111</td>\n",
       "      <td>45.222222</td>\n",
       "      <td>25.277778</td>\n",
       "    </tr>\n",
       "    <tr>\n",
       "      <th>std</th>\n",
       "      <td>10.208929</td>\n",
       "      <td>6.664706</td>\n",
       "      <td>2.170811</td>\n",
       "    </tr>\n",
       "    <tr>\n",
       "      <th>min</th>\n",
       "      <td>150.000000</td>\n",
       "      <td>38.000000</td>\n",
       "      <td>22.000000</td>\n",
       "    </tr>\n",
       "    <tr>\n",
       "      <th>25%</th>\n",
       "      <td>159.750000</td>\n",
       "      <td>40.000000</td>\n",
       "      <td>24.000000</td>\n",
       "    </tr>\n",
       "    <tr>\n",
       "      <th>50%</th>\n",
       "      <td>165.500000</td>\n",
       "      <td>44.000000</td>\n",
       "      <td>24.500000</td>\n",
       "    </tr>\n",
       "    <tr>\n",
       "      <th>75%</th>\n",
       "      <td>172.750000</td>\n",
       "      <td>48.750000</td>\n",
       "      <td>27.375000</td>\n",
       "    </tr>\n",
       "    <tr>\n",
       "      <th>max</th>\n",
       "      <td>187.000000</td>\n",
       "      <td>61.000000</td>\n",
       "      <td>29.000000</td>\n",
       "    </tr>\n",
       "  </tbody>\n",
       "</table>\n",
       "</div>"
      ],
      "text/plain": [
       "           altura      ancho        pie\n",
       "count   18.000000  18.000000  18.000000\n",
       "mean   167.111111  45.222222  25.277778\n",
       "std     10.208929   6.664706   2.170811\n",
       "min    150.000000  38.000000  22.000000\n",
       "25%    159.750000  40.000000  24.000000\n",
       "50%    165.500000  44.000000  24.500000\n",
       "75%    172.750000  48.750000  27.375000\n",
       "max    187.000000  61.000000  29.000000"
      ]
     },
     "execution_count": 208,
     "metadata": {},
     "output_type": "execute_result"
    }
   ],
   "source": [
    "df.describe()"
   ]
  },
  {
   "cell_type": "code",
   "execution_count": 209,
   "metadata": {},
   "outputs": [
    {
     "data": {
      "text/plain": [
       "<seaborn.axisgrid.PairGrid at 0x1d113a36090>"
      ]
     },
     "execution_count": 209,
     "metadata": {},
     "output_type": "execute_result"
    },
    {
     "data": {
      "image/png": "[encoded data removed]",
      "text/plain": [
       "<Figure size 750x750 with 12 Axes>"
      ]
     },
     "metadata": {},
     "output_type": "display_data"
    }
   ],
   "source": [
    "sns.pairplot(df)"
   ]
  },
  {
   "cell_type": "code",
   "execution_count": 210,
   "metadata": {},
   "outputs": [
    {
     "data": {
      "text/plain": [
       "<Axes: >"
      ]
     },
     "execution_count": 210,
     "metadata": {},
     "output_type": "execute_result"
    },
    {
     "data": {
      "image/png": "[encoded data removed]",
      "text/plain": [
       "<Figure size 640x480 with 2 Axes>"
      ]
     },
     "metadata": {},
     "output_type": "display_data"
    }
   ],
   "source": [
    "sns.heatmap(df.corr(), annot=True)"
   ]
  },
  {
   "cell_type": "markdown",
   "metadata": {},
   "source": [
    "Después de un muy básico analisis inicial podemos ver que:\n",
    "\n",
    "- Tenemos 18 entradas\n",
    "- No hay datos faltantes\n",
    "- Dos variables son de tipo `Int` y una `Float`\n",
    "- Son relaciones lineales, altamente correlacionadas\n",
    "\n",
    "\n",
    "---\n",
    "\n",
    "Ahora empezaremos con la separación de los datos para nuestro modelo."
   ]
  },
  {
   "cell_type": "code",
   "execution_count": 211,
   "metadata": {},
   "outputs": [],
   "source": [
    "X = df[['ancho', 'pie']]\n",
    "y = df['altura']\n",
    "\n",
    "X_train, X_test, y_train, y_test = train_test_split(X, y, test_size=0.3, random_state=42)"
   ]
  },
  {
   "cell_type": "markdown",
   "metadata": {},
   "source": [
    "En este caso, nosotros hemos propuesto tres modelos iniciales.\n",
    "\n",
    "- Una Regresión lineal sin regularización\n",
    "\n",
    "- Ridge\n",
    "\n",
    "- Lasso"
   ]
  },
  {
   "cell_type": "code",
   "execution_count": 212,
   "metadata": {},
   "outputs": [
    {
     "name": "stdout",
     "output_type": "stream",
     "text": [
      "Error cuadrático medio en prueba: 11.6061\n",
      "R² en prueba: 0.8425\n",
      "Pendiente: -0.0031472081218277977\n",
      "Intercepción: 54.28434702353481\n"
     ]
    }
   ],
   "source": [
    "#Regresión lineal\n",
    "#Entrenamiento\n",
    "lr = LinearRegression()\n",
    "lr.fit(X_train, y_train)\n",
    "\n",
    "#Predicción\n",
    "y_test_pred = lr.predict(X_test)\n",
    "mse_test = mean_squared_error(y_test, y_test_pred)\n",
    "r2_test = r2_score(y_test, y_test_pred)\n",
    "\n",
    "#Resultados\n",
    "print(f\"Error cuadrático medio en prueba: {mse_test:.4f}\")\n",
    "print(f\"R² en prueba: {r2_test:.4f}\")\n",
    "\n",
    "print(f\"Pendiente: {lr.coef_[0]}\")\n",
    "print(f\"Intercepción: {lr.intercept_}\")"
   ]
  },
  {
   "cell_type": "code",
   "execution_count": 213,
   "metadata": {},
   "outputs": [
    {
     "name": "stdout",
     "output_type": "stream",
     "text": [
      "Error cuadrático medio en prueba: 11.3509\n",
      "R² en prueba: 0.8459\n",
      "Pendiente: 0.024043647645113467\n",
      "Intercepción: 56.545484126913365\n"
     ]
    }
   ],
   "source": [
    "#Ridge\n",
    "#Entrenamiento\n",
    "ridge = Ridge()\n",
    "ridge.fit(X_train, y_train)\n",
    "\n",
    "#Predicción\n",
    "y_test_pred = ridge.predict(X_test)\n",
    "mse_test = mean_squared_error(y_test, y_test_pred)\n",
    "r2_test = r2_score(y_test, y_test_pred)\n",
    "\n",
    "#Resultados\n",
    "print(f\"Error cuadrático medio en prueba: {mse_test:.4f}\")\n",
    "print(f\"R² en prueba: {r2_test:.4f}\")\n",
    "\n",
    "print(f\"Pendiente: {ridge.coef_[0]}\")\n",
    "print(f\"Intercepción: {ridge.intercept_}\")"
   ]
  },
  {
   "cell_type": "code",
   "execution_count": 214,
   "metadata": {},
   "outputs": [
    {
     "name": "stdout",
     "output_type": "stream",
     "text": [
      "Error cuadrático medio en prueba: 11.3108\n",
      "R² en prueba: 0.8465\n",
      "Pendiente: 0.03718503995685833\n",
      "Intercepción: 60.24261755999828\n"
     ]
    }
   ],
   "source": [
    "#Lasso\n",
    "#Entrenamiento\n",
    "lasso = Lasso()\n",
    "lasso.fit(X_train, y_train)\n",
    "\n",
    "#Predicción\n",
    "y_test_pred = lasso.predict(X_test)\n",
    "mse_test = mean_squared_error(y_test, y_test_pred)\n",
    "r2_test = r2_score(y_test, y_test_pred)\n",
    "\n",
    "#Resultados\n",
    "print(f\"Error cuadrático medio en prueba: {mse_test:.4f}\")\n",
    "print(f\"R² en prueba: {r2_test:.4f}\")\n",
    "\n",
    "print(f\"Pendiente: {lasso.coef_[0]}\")\n",
    "print(f\"Intercepción: {lasso.intercept_}\")"
   ]
  },
  {
   "cell_type": "markdown",
   "metadata": {},
   "source": [
    "Obtuvimos resultados muy similares en primera instancia, veamos si a través del tuneo de híperparametros obtenemos mejores resultados:\n",
    "\n",
    "---\n",
    "Ridge"
   ]
  },
  {
   "cell_type": "code",
   "execution_count": 215,
   "metadata": {},
   "outputs": [
    {
     "name": "stdout",
     "output_type": "stream",
     "text": [
      "Mejor alpha encontrado: 1.5922827933410924\n"
     ]
    }
   ],
   "source": [
    "#Definimos el espacio de busqueda\n",
    "alphas = np.logspace(0, 10, 100)\n",
    "\n",
    "#Parametros y busqueda\n",
    "param_grid = {'alpha': alphas}\n",
    "grid_search = GridSearchCV(ridge, param_grid, cv=5, scoring='r2')\n",
    "grid_search.fit(X_train, y_train)\n",
    "\n",
    "#Mejor alpha\n",
    "best_alpha = grid_search.best_params_['alpha']\n",
    "print(f\"Mejor alpha encontrado: {best_alpha}\")"
   ]
  },
  {
   "cell_type": "markdown",
   "metadata": {},
   "source": [
    "Veamos los resultados con el alpha optimizado a través del grid search:"
   ]
  },
  {
   "cell_type": "code",
   "execution_count": 216,
   "metadata": {},
   "outputs": [
    {
     "name": "stdout",
     "output_type": "stream",
     "text": [
      "Error cuadrático medio en prueba: 11.2384\n",
      "R² en prueba: 0.8474\n",
      "Pendiente: 0.03929014437173918\n",
      "Intercepción: 57.818821907544816\n"
     ]
    }
   ],
   "source": [
    "ridge = Ridge(alpha=best_alpha)\n",
    "ridge.fit(X_train, y_train)\n",
    "\n",
    "#Predicción\n",
    "y_test_pred = ridge.predict(X_test)\n",
    "mse_test = mean_squared_error(y_test, y_test_pred)\n",
    "r2_test = r2_score(y_test, y_test_pred)\n",
    "\n",
    "#Resultados\n",
    "print(f\"Error cuadrático medio en prueba: {mse_test:.4f}\")\n",
    "print(f\"R² en prueba: {r2_test:.4f}\")\n",
    "\n",
    "print(f\"Pendiente: {ridge.coef_[0]}\")\n",
    "print(f\"Intercepción: {ridge.intercept_}\")"
   ]
  },
  {
   "cell_type": "markdown",
   "metadata": {},
   "source": [
    "Los resultados no cambian mucho pero, si obtenemos mejores resultados en la prueba y el testing.\n",
    "\n",
    "Lasso"
   ]
  },
  {
   "cell_type": "code",
   "execution_count": 217,
   "metadata": {},
   "outputs": [
    {
     "name": "stdout",
     "output_type": "stream",
     "text": [
      "Mejor alpha encontrado: 1.5922827933410924\n"
     ]
    }
   ],
   "source": [
    "grid_search = GridSearchCV(lasso, param_grid, cv=5, scoring='r2')\n",
    "grid_search.fit(X_train, y_train)\n",
    "\n",
    "#Mejor alpha\n",
    "best_alpha = grid_search.best_params_['alpha']\n",
    "print(f\"Mejor alpha encontrado: {best_alpha}\")"
   ]
  },
  {
   "cell_type": "code",
   "execution_count": 218,
   "metadata": {},
   "outputs": [
    {
     "name": "stdout",
     "output_type": "stream",
     "text": [
      "Error cuadrático medio en prueba: 11.3785\n",
      "R² en prueba: 0.8455\n",
      "Pendiente: 0.06099087779669846\n",
      "Intercepción: 63.7708782039431\n"
     ]
    }
   ],
   "source": [
    "lasso = Lasso(alpha=best_alpha)\n",
    "lasso.fit(X_train, y_train)\n",
    "\n",
    "#Predicción\n",
    "y_test_pred = lasso.predict(X_test)\n",
    "mse_test = mean_squared_error(y_test, y_test_pred)\n",
    "r2_test = r2_score(y_test, y_test_pred)\n",
    "\n",
    "#Resultados\n",
    "print(f\"Error cuadrático medio en prueba: {mse_test:.4f}\")\n",
    "print(f\"R² en prueba: {r2_test:.4f}\")\n",
    "\n",
    "print(f\"Pendiente: {lasso.coef_[0]}\")\n",
    "print(f\"Intercepción: {lasso.intercept_}\")"
   ]
  },
  {
   "cell_type": "markdown",
   "metadata": {},
   "source": [
    "### Evaluación\n",
    "\n",
    "Después del fine-tuning, podemos observar que el modelo que nos da mejores resultados en la prueba es `Ridge` después de que realizaramos la optimización."
   ]
  },
  {
   "cell_type": "markdown",
   "metadata": {},
   "source": [
    "1. Realiza la gráfica de tu modelo con un scatterplot de los datos incluyendo el valor de R2 y RMSE.\n",
    "\n",
    "a. ¿Por qué seleccionaste ese modelo?\n",
    "\n",
    "Como se mencionó anteriormente se seleccionó el modelo de **Ridge** ya que fue el que nos dio mejores resultados, y se seleccionó un modelo múltiple ya que estaremos trabajando con las dos variables independientes ('ancho','pie') para obtener mejores resultados de la dependiente ('altura') o a predecir."
   ]
  },
  {
   "cell_type": "code",
   "execution_count": 219,
   "metadata": {},
   "outputs": [
    {
     "data": {
      "image/png": "[encoded data removed]",
      "text/plain": [
       "<Figure size 800x600 with 1 Axes>"
      ]
     },
     "metadata": {},
     "output_type": "display_data"
    }
   ],
   "source": [
    "# Predicciones del modelo\n",
    "y_pred = ridge.predict(X_test)\n",
    "rmse = np.sqrt(mean_squared_error(y_test, y_pred))\n",
    "r2 = r2_score(y_test, y_pred)\n",
    "\n",
    "# Gráfico de dispersión\n",
    "plt.figure(figsize=(8, 6))\n",
    "sns.scatterplot(x=y_test, y=y_pred, alpha=0.7, label=\"Predicciones vs Reales\", color=\"blue\")\n",
    "plt.plot([y_test.min(), y_test.max()], [y_test.min(), y_test.max()], 'r--', lw=2, label=\"Línea Ideal\")\n",
    "\n",
    "# Agregar valores de R² y RMSE a la gráfica\n",
    "plt.text(y_test.min(), y_test.max() * 0.9, f\"$R^2$: {r2:.2f}\\nRMSE: {rmse:.2f}\", fontsize=12, color=\"red\")\n",
    "\n",
    "# Etiquetas y título\n",
    "plt.xlabel(\"Valores Reales (y_test)\")\n",
    "plt.ylabel(\"Predicciones (y_pred)\")\n",
    "plt.title(\"Ridge Regression: Predicciones vs Valores Reales\")\n",
    "plt.legend()\n",
    "plt.show()"
   ]
  },
  {
   "cell_type": "markdown",
   "metadata": {},
   "source": [
    "Podemos observar que el modelo explica en un 85% de la variabilidad de los datos de prueba, eso nos quiere decir que no está tan mal pero podría mejorar.\n",
    "\n",
    "Por otro lado las predicciones del modelo están a 3.35 valores, esto nos indica que tenemos varios outliers altos que nos está afectando nuestro modelo. \n",
    "\n",
    "\n",
    "b. ¿Utilizaste alguna regularización?\n",
    "\n",
    "El algoritmo propuesto usa una regularización L2 o de Ridge, en este caso, con un alpha de: $1.5922827933410924$ Con esto, podemos evitar el sobreajuste y mejorar la calidad de nuestras predicciones."
   ]
  },
  {
   "cell_type": "markdown",
   "metadata": {},
   "source": [
    "2. Se te solicita que tu modelo sea tropicalizado a la población de estudiantes del iteso. Realiza la gráfica de tu propuesta con un scatterplot de los datos incluyendo el valor de R2 y RMSE."
   ]
  },
  {
   "cell_type": "markdown",
   "metadata": {},
   "source": [
    "a. ¿Agregarías datos a tu base de datos para mejorar las predicciones del modelo?\n",
    "\n",
    "Sí, como nuestra base de datos inicial es pequeña, el rendimiento del modelo no es lo suficientemente bueno.\n",
    "\n",
    "Es por esto que, se agregaron más datos a nuestra base ya que, con los anteriores no eran  suficientes para poder realizar predicciones de la mejor manera y se concentraba en el promedio de la mayoría de las personas que tomamos las medidas principales (el promedio de la muestra). Esto hacía que con los valores atípicos las predicciones no se le acercaban en los valores reales en lo más mínimo. Al agregar más datos se amplía el panorama para poder mejorar el modelo. "
   ]
  },
  {
   "cell_type": "code",
   "execution_count": 220,
   "metadata": {},
   "outputs": [
    {
     "data": {
      "text/plain": [
       "(18, 3)"
      ]
     },
     "execution_count": 220,
     "metadata": {},
     "output_type": "execute_result"
    }
   ],
   "source": [
    "#Solo tenemos 18 muestras\n",
    "df.shape"
   ]
  },
  {
   "cell_type": "markdown",
   "metadata": {},
   "source": [
    "b. ¿Cómo conseguirías dicha información?\n",
    "\n",
    "La información se podría obtener a través de las mediciones de los alumnos del iteso, no necesariamente que conozcamos, sino recaudar más infromación posible, acercándonos a preguntarles. \n",
    "\n",
    "Otra manera sería la creación de datos sínteticos que asemejen a los outliers o aquellos datos que tenemos pocos.\n",
    "\n",
    "En esta práctica, hemos tomado más muestras de alumnos obteniendo el siguiente resultado:"
   ]
  },
  {
   "cell_type": "code",
   "execution_count": 221,
   "metadata": {},
   "outputs": [
    {
     "data": {
      "text/plain": [
       "(99, 3)"
      ]
     },
     "execution_count": 221,
     "metadata": {},
     "output_type": "execute_result"
    }
   ],
   "source": [
    "df_amp = pd.read_csv('data/datos_gente_nuevo.csv')\n",
    "df_amp.shape"
   ]
  },
  {
   "cell_type": "markdown",
   "metadata": {},
   "source": [
    "Es un dataframe con 99 muestras, lo que amplia mucho más el panorama y nuestra información para el modelo."
   ]
  },
  {
   "cell_type": "markdown",
   "metadata": {},
   "source": [
    "c. ¿Modificarías algún parámetro de tu modelo?\n",
    "\n",
    "Sí, al añadir datos a nuestro modelo y mantener el alpha actual, al momento de hacer el entrenamiento y debido a la cantidad nueva de datos disponibles, podríamos caer nuevamente en un sobreajuste y sería necesario el buscar otro alpha que evite el overfitting.\n",
    "\n",
    "Nuestros datos nuevos (obtenidos a través de medición empirica de los estudiantes) se ve así:"
   ]
  },
  {
   "cell_type": "code",
   "execution_count": 222,
   "metadata": {},
   "outputs": [
    {
     "data": {
      "text/plain": [
       "<Axes: >"
      ]
     },
     "execution_count": 222,
     "metadata": {},
     "output_type": "execute_result"
    },
    {
     "data": {
      "image/png": "[encoded data removed]",
      "text/plain": [
       "<Figure size 640x480 with 1 Axes>"
      ]
     },
     "metadata": {},
     "output_type": "display_data"
    }
   ],
   "source": [
    "df_amp['altura'].hist(bins=15)"
   ]
  },
  {
   "cell_type": "markdown",
   "metadata": {},
   "source": [
    "Podemos apreciar que, a pesar de las nuevas muestras, seguimos teniendo muy poca información de las personas que miden más de 175 y menos de 160. Podemos crear modelos enfocados solo a estas alturas y crear copias sínteticas para su entrenamiento.\n",
    "\n",
    "Esto mejoraría la calidad de nuestras predicciones en estos rangos de altura.\n",
    "\n",
    "### Creación de los modelos enfocados a outliers:"
   ]
  },
  {
   "cell_type": "code",
   "execution_count": 223,
   "metadata": {},
   "outputs": [
    {
     "data": {
      "text/plain": [
       "((17, 3), (19, 3))"
      ]
     },
     "execution_count": 223,
     "metadata": {},
     "output_type": "execute_result"
    }
   ],
   "source": [
    "df_menor = df_amp[df_amp['altura'] < 160]\n",
    "df_mayor = df_amp[df_amp['altura'] > 175]\n",
    "\n",
    "df_menor.shape, df_mayor.shape"
   ]
  },
  {
   "cell_type": "markdown",
   "metadata": {},
   "source": [
    "A pesar de representar rangos de altura de 10 cm o más, solo tienen una concentración del 20% o menos de nuestros datos en cada una.\n",
    "\n",
    "Ahora creamos los datos sínteticos:\n",
    "\n",
    "#### Menor"
   ]
  },
  {
   "cell_type": "code",
   "execution_count": 224,
   "metadata": {},
   "outputs": [
    {
     "data": {
      "text/plain": [
       "(altura    154.588235\n",
       " ancho      40.058824\n",
       " pie        23.117647\n",
       " dtype: float64,\n",
       " altura    2.895229\n",
       " ancho     3.051036\n",
       " pie       0.820240\n",
       " dtype: float64)"
      ]
     },
     "execution_count": 224,
     "metadata": {},
     "output_type": "execute_result"
    }
   ],
   "source": [
    "df_menor.mean(), df_menor.std()"
   ]
  },
  {
   "cell_type": "markdown",
   "metadata": {},
   "source": [
    "Ahora solo nos apoyamos de herramientas como numpy para la creación síntetica de los datos:"
   ]
  },
  {
   "cell_type": "code",
   "execution_count": 225,
   "metadata": {},
   "outputs": [
    {
     "data": {
      "application/vnd.microsoft.datawrangler.viewer.v0+json": {
       "columns": [
        {
         "name": "index",
         "rawType": "int64",
         "type": "integer"
        },
        {
         "name": "altura",
         "rawType": "float64",
         "type": "float"
        },
        {
         "name": "ancho",
         "rawType": "float64",
         "type": "float"
        },
        {
         "name": "pie",
         "rawType": "float64",
         "type": "float"
        }
       ],
       "conversionMethod": "pd.DataFrame",
       "ref": "92e16cc1-1485-4ba3-aa5f-df391d24a0a9",
       "rows": [
        [
         "0",
         "147.0",
         "32.0",
         "21.2"
        ],
        [
         "1",
         "148.0",
         "34.0",
         "21.4"
        ],
        [
         "2",
         "149.0",
         "34.0",
         "21.8"
        ],
        [
         "3",
         "149.0",
         "35.0",
         "21.8"
        ],
        [
         "4",
         "149.0",
         "35.0",
         "21.8"
        ]
       ],
       "shape": {
        "columns": 3,
        "rows": 5
       }
      },
      "text/html": [
       "<div>\n",
       "<style scoped>\n",
       "    .dataframe tbody tr th:only-of-type {\n",
       "        vertical-align: middle;\n",
       "    }\n",
       "\n",
       "    .dataframe tbody tr th {\n",
       "        vertical-align: top;\n",
       "    }\n",
       "\n",
       "    .dataframe thead th {\n",
       "        text-align: right;\n",
       "    }\n",
       "</style>\n",
       "<table border=\"1\" class=\"dataframe\">\n",
       "  <thead>\n",
       "    <tr style=\"text-align: right;\">\n",
       "      <th></th>\n",
       "      <th>altura</th>\n",
       "      <th>ancho</th>\n",
       "      <th>pie</th>\n",
       "    </tr>\n",
       "  </thead>\n",
       "  <tbody>\n",
       "    <tr>\n",
       "      <th>0</th>\n",
       "      <td>147.0</td>\n",
       "      <td>32.0</td>\n",
       "      <td>21.2</td>\n",
       "    </tr>\n",
       "    <tr>\n",
       "      <th>1</th>\n",
       "      <td>148.0</td>\n",
       "      <td>34.0</td>\n",
       "      <td>21.4</td>\n",
       "    </tr>\n",
       "    <tr>\n",
       "      <th>2</th>\n",
       "      <td>149.0</td>\n",
       "      <td>34.0</td>\n",
       "      <td>21.8</td>\n",
       "    </tr>\n",
       "    <tr>\n",
       "      <th>3</th>\n",
       "      <td>149.0</td>\n",
       "      <td>35.0</td>\n",
       "      <td>21.8</td>\n",
       "    </tr>\n",
       "    <tr>\n",
       "      <th>4</th>\n",
       "      <td>149.0</td>\n",
       "      <td>35.0</td>\n",
       "      <td>21.8</td>\n",
       "    </tr>\n",
       "  </tbody>\n",
       "</table>\n",
       "</div>"
      ],
      "text/plain": [
       "   altura  ancho   pie\n",
       "0   147.0   32.0  21.2\n",
       "1   148.0   34.0  21.4\n",
       "2   149.0   34.0  21.8\n",
       "3   149.0   35.0  21.8\n",
       "4   149.0   35.0  21.8"
      ]
     },
     "execution_count": 225,
     "metadata": {},
     "output_type": "execute_result"
    }
   ],
   "source": [
    "altura_m = np.sort(np.round(np.random.normal(loc=154.58823529411765, scale=2.895229341723462, size=100), 0))\n",
    "ancho_m = np.sort(np.round(np.random.normal(loc=40.058824, scale=3.051036, size=100), 0))\n",
    "pie_m = np.sort(np.round(np.random.normal(loc=23.117647, scale=0.820240, size=100), 1))\n",
    "df_menor_sintetico = pd.DataFrame({'altura': altura_m, 'ancho': ancho_m, 'pie': pie_m})\n",
    "df_menor_sintetico.head()"
   ]
  },
  {
   "cell_type": "markdown",
   "metadata": {},
   "source": [
    "### Mayor"
   ]
  },
  {
   "cell_type": "code",
   "execution_count": 226,
   "metadata": {},
   "outputs": [
    {
     "data": {
      "text/plain": [
       "(altura    180.105263\n",
       " ancho      49.263158\n",
       " pie        27.657895\n",
       " dtype: float64,\n",
       " altura    3.695263\n",
       " ancho     4.805577\n",
       " pie       1.014515\n",
       " dtype: float64)"
      ]
     },
     "execution_count": 226,
     "metadata": {},
     "output_type": "execute_result"
    }
   ],
   "source": [
    "df_mayor.mean(), df_mayor.std()"
   ]
  },
  {
   "cell_type": "code",
   "execution_count": 227,
   "metadata": {},
   "outputs": [
    {
     "data": {
      "application/vnd.microsoft.datawrangler.viewer.v0+json": {
       "columns": [
        {
         "name": "index",
         "rawType": "int64",
         "type": "integer"
        },
        {
         "name": "altura",
         "rawType": "float64",
         "type": "float"
        },
        {
         "name": "ancho",
         "rawType": "float64",
         "type": "float"
        },
        {
         "name": "pie",
         "rawType": "float64",
         "type": "float"
        }
       ],
       "conversionMethod": "pd.DataFrame",
       "ref": "3b889e75-4c59-48fa-afee-4d0edfada9d4",
       "rows": [
        [
         "0",
         "172.0",
         "38.0",
         "25.1"
        ],
        [
         "1",
         "172.0",
         "40.0",
         "25.2"
        ],
        [
         "2",
         "174.0",
         "41.0",
         "25.9"
        ],
        [
         "3",
         "174.0",
         "41.0",
         "26.0"
        ],
        [
         "4",
         "174.0",
         "41.0",
         "26.2"
        ]
       ],
       "shape": {
        "columns": 3,
        "rows": 5
       }
      },
      "text/html": [
       "<div>\n",
       "<style scoped>\n",
       "    .dataframe tbody tr th:only-of-type {\n",
       "        vertical-align: middle;\n",
       "    }\n",
       "\n",
       "    .dataframe tbody tr th {\n",
       "        vertical-align: top;\n",
       "    }\n",
       "\n",
       "    .dataframe thead th {\n",
       "        text-align: right;\n",
       "    }\n",
       "</style>\n",
       "<table border=\"1\" class=\"dataframe\">\n",
       "  <thead>\n",
       "    <tr style=\"text-align: right;\">\n",
       "      <th></th>\n",
       "      <th>altura</th>\n",
       "      <th>ancho</th>\n",
       "      <th>pie</th>\n",
       "    </tr>\n",
       "  </thead>\n",
       "  <tbody>\n",
       "    <tr>\n",
       "      <th>0</th>\n",
       "      <td>172.0</td>\n",
       "      <td>38.0</td>\n",
       "      <td>25.1</td>\n",
       "    </tr>\n",
       "    <tr>\n",
       "      <th>1</th>\n",
       "      <td>172.0</td>\n",
       "      <td>40.0</td>\n",
       "      <td>25.2</td>\n",
       "    </tr>\n",
       "    <tr>\n",
       "      <th>2</th>\n",
       "      <td>174.0</td>\n",
       "      <td>41.0</td>\n",
       "      <td>25.9</td>\n",
       "    </tr>\n",
       "    <tr>\n",
       "      <th>3</th>\n",
       "      <td>174.0</td>\n",
       "      <td>41.0</td>\n",
       "      <td>26.0</td>\n",
       "    </tr>\n",
       "    <tr>\n",
       "      <th>4</th>\n",
       "      <td>174.0</td>\n",
       "      <td>41.0</td>\n",
       "      <td>26.2</td>\n",
       "    </tr>\n",
       "  </tbody>\n",
       "</table>\n",
       "</div>"
      ],
      "text/plain": [
       "   altura  ancho   pie\n",
       "0   172.0   38.0  25.1\n",
       "1   172.0   40.0  25.2\n",
       "2   174.0   41.0  25.9\n",
       "3   174.0   41.0  26.0\n",
       "4   174.0   41.0  26.2"
      ]
     },
     "execution_count": 227,
     "metadata": {},
     "output_type": "execute_result"
    }
   ],
   "source": [
    "altura_M = np.sort(np.round(np.random.normal(loc=180.105263, scale=3.695263, size=100), 0))\n",
    "ancho_M = np.sort(np.round(np.random.normal(loc=49.263158, scale=4.805577, size=100), 0))\n",
    "pie_M = np.sort(np.round(np.random.normal(loc=27.657895, scale=1.014515, size=100), 1))\n",
    "df_mayor_sintetico = pd.DataFrame({'altura': altura_M, 'ancho': ancho_M, 'pie': pie_M})\n",
    "df_mayor_sintetico.head()"
   ]
  },
  {
   "cell_type": "markdown",
   "metadata": {},
   "source": [
    "### Dataframe junto\n",
    "\n",
    "Gracias a las nuevas muestras, tanto reales como sínteticas, podemos obtener este dataframe nuevo:"
   ]
  },
  {
   "cell_type": "code",
   "execution_count": 228,
   "metadata": {},
   "outputs": [
    {
     "data": {
      "text/plain": [
       "(299, 3)"
      ]
     },
     "execution_count": 228,
     "metadata": {},
     "output_type": "execute_result"
    }
   ],
   "source": [
    "df_amp_sint = pd.concat([df_amp, df_menor_sintetico, df_mayor_sintetico], ignore_index=True)\n",
    "df_amp_sint.shape"
   ]
  },
  {
   "cell_type": "markdown",
   "metadata": {},
   "source": [
    "Ahora tenemos un dataframe con casí 300 muestras y que, su distribución de alturas se ve así:"
   ]
  },
  {
   "cell_type": "code",
   "execution_count": 229,
   "metadata": {},
   "outputs": [
    {
     "data": {
      "text/plain": [
       "altura    0\n",
       "ancho     0\n",
       "pie       0\n",
       "dtype: int64"
      ]
     },
     "execution_count": 229,
     "metadata": {},
     "output_type": "execute_result"
    }
   ],
   "source": [
    "df_amp_sint.isna().sum()"
   ]
  },
  {
   "cell_type": "code",
   "execution_count": 230,
   "metadata": {},
   "outputs": [
    {
     "data": {
      "text/plain": [
       "<Axes: >"
      ]
     },
     "execution_count": 230,
     "metadata": {},
     "output_type": "execute_result"
    },
    {
     "data": {
      "image/png": "[encoded data removed]",
      "text/plain": [
       "<Figure size 640x480 with 1 Axes>"
      ]
     },
     "metadata": {},
     "output_type": "display_data"
    }
   ],
   "source": [
    "df_amp_sint['altura'].hist(bins=30)"
   ]
  },
  {
   "cell_type": "markdown",
   "metadata": {},
   "source": [
    "Esta distribución ya representa más información en los datos donde no teniamos información. Además, tenemos los datos separados en menores y mayores donde nuestra primera muestra de la población carecía de entradas por lo que, ahora podemos entrenar modelos especificos para estos rangos o mejorar la calidad de un algoritmo general.\n",
    "\n",
    "Veamos como funciona nuestro modelo tomando estos datos, representando de mejor forma la población general del ITESO:\n",
    "\n",
    "Primero separamos en entrenamiento y prueba:"
   ]
  },
  {
   "cell_type": "code",
   "execution_count": 231,
   "metadata": {},
   "outputs": [],
   "source": [
    "X = df_amp_sint[['ancho','pie']]\n",
    "y = df_amp_sint['altura']\n",
    "X_train_iteso, X_test_iteso, y_train_iteso, y_test_iteso = train_test_split(X, y, test_size = 0.2, random_state = 42)"
   ]
  },
  {
   "cell_type": "markdown",
   "metadata": {},
   "source": [
    "Entrenamos y buscamos el mejor alpha:"
   ]
  },
  {
   "cell_type": "code",
   "execution_count": 232,
   "metadata": {},
   "outputs": [
    {
     "name": "stdout",
     "output_type": "stream",
     "text": [
      "Mejor alpha encontrado: 1.0\n"
     ]
    }
   ],
   "source": [
    "ridge_iteso = Ridge()\n",
    "grid_search = GridSearchCV(ridge_iteso, param_grid, cv=5, scoring='r2')\n",
    "grid_search.fit(X_train_iteso, y_train_iteso)\n",
    "best_alpha_iteso = grid_search.best_params_['alpha']\n",
    "print(f\"Mejor alpha encontrado: {best_alpha_iteso}\")"
   ]
  },
  {
   "cell_type": "code",
   "execution_count": 233,
   "metadata": {},
   "outputs": [
    {
     "name": "stdout",
     "output_type": "stream",
     "text": [
      "R2 0.9009658792280784 RMSE 3.5144125243098867\n"
     ]
    }
   ],
   "source": [
    "ridge_iteso = Ridge(best_alpha_iteso)\n",
    "ridge_iteso.fit(X_train_iteso, y_train_iteso)\n",
    "y_pred_iteso = ridge_iteso.predict(X_test_iteso)\n",
    "r2 = r2_score(y_test_iteso, y_pred_iteso)\n",
    "rmse = np.sqrt(mean_squared_error(y_test_iteso, y_pred_iteso))\n",
    "print(\"R2\", r2, 'RMSE', rmse)"
   ]
  },
  {
   "cell_type": "markdown",
   "metadata": {},
   "source": [
    "Obtenemos buenos resultados en el R2 que no muestrns un sobreajuste claro, sin embargo, el RMSE es bastante alto. Veamos como se ve la gráfica de los resultados:"
   ]
  },
  {
   "cell_type": "code",
   "execution_count": 234,
   "metadata": {},
   "outputs": [
    {
     "data": {
      "image/png": "[encoded data removed]",
      "text/plain": [
       "<Figure size 800x600 with 1 Axes>"
      ]
     },
     "metadata": {},
     "output_type": "display_data"
    }
   ],
   "source": [
    "plt.figure(figsize=(8, 6))\n",
    "plt.scatter(x=y_test_iteso, y=y_pred_iteso, alpha=0.6, edgecolors='k',label=\"Predicciones vs Reales\", color=\"blue\")\n",
    "plt.plot([y_test_iteso.min(), y_test_iteso.max()], [y_test_iteso.min(), y_test_iteso.max()], 'r--', lw=2,label=\"Línea Ideal\")  # Línea de referencia\n",
    "plt.xlabel(\"Altura real\")\n",
    "plt.ylabel(\"Altura predicha\")\n",
    "plt.title(f\"Scatterplot de predicciones\")\n",
    "plt.text(y_test_iteso.min(), y_test_iteso.max() * 0.9, f\"$R^2$: {r2:.2f}\\nRMSE: {rmse:.2f}\", fontsize=12, color=\"red\")\n",
    "plt.grid(True)\n",
    "plt.show()"
   ]
  },
  {
   "cell_type": "markdown",
   "metadata": {},
   "source": [
    "La mayoría de los errores se encuentran en donde era la media de nuestros valores reales, por lo que tal vez sea recomendable separar en 3 modelos de predicción. Los sínteticos menores, los normales y los mayores."
   ]
  },
  {
   "cell_type": "markdown",
   "metadata": {},
   "source": [
    "### Creación de los 3 modelos separados:\n",
    "\n",
    "Modelo de los menores:"
   ]
  },
  {
   "cell_type": "code",
   "execution_count": 235,
   "metadata": {},
   "outputs": [],
   "source": [
    "X = df_menor_sintetico[['ancho','pie']]\n",
    "y = df_menor_sintetico['altura']\n",
    "X_train_menor, X_test_menor, y_train_menor, y_test_menor = train_test_split(X, y, test_size = 0.2, random_state = 42)"
   ]
  },
  {
   "cell_type": "code",
   "execution_count": null,
   "metadata": {},
   "outputs": [],
   "source": [
    "ridge_menor = Ridge()\n",
    "grid_search = GridSearchCV(ridge_menor, param_grid, cv=5, scoring='r2')\n",
    "grid_search.fit(X_train_menor, y_train_menor)\n",
    "best_alpha_menor = grid_search.best_params_['alpha']\n",
    "print(f\"Mejor alpha encontrado: {best_alpha_menor}\")"
   ]
  },
  {
   "cell_type": "code",
   "execution_count": null,
   "metadata": {},
   "outputs": [
    {
     "name": "stdout",
     "output_type": "stream",
     "text": [
      "R2 0.9581278574525482 RMSE 0.49280668296525765\n"
     ]
    }
   ],
   "source": [
    "ridge_menor = Ridge(best_alpha_menor)\n",
    "ridge_menor.fit(X_train_menor, y_train_menor)\n",
    "y_pred_menor = ridge_menor.predict(X_test_menor)\n",
    "r2 = r2_score(y_test_menor, y_pred_menor)\n",
    "rmse = np.sqrt(mean_squared_error(y_test_menor, y_pred_menor))\n",
    "print(\"R2\", r2, 'RMSE', rmse)"
   ]
  },
  {
   "cell_type": "markdown",
   "metadata": {},
   "source": [
    "Estos resultados muestran un claro sobreajuste, podemos mover las alphas para evitar el overfitting."
   ]
  },
  {
   "cell_type": "code",
   "execution_count": null,
   "metadata": {},
   "outputs": [
    {
     "name": "stdout",
     "output_type": "stream",
     "text": [
      "alpha 1.0 R2 0.9581278574525482 RMSE 0.49280668296525765\n",
      "alpha 23.11111111111111 R2 0.9353230945117428 RMSE 0.6124753479380963\n",
      "alpha 45.22222222222222 R2 0.935059873048719 RMSE 0.6137204056550752\n",
      "alpha 67.33333333333333 R2 0.9341427646293972 RMSE 0.6180388055369146\n",
      "alpha 89.44444444444444 R2 0.9320524628051389 RMSE 0.6277704323478405\n",
      "alpha 111.55555555555556 R2 0.9288444246872525 RMSE 0.6424191286177082\n",
      "alpha 133.66666666666666 R2 0.9246531279449294 RMSE 0.6610687240517505\n",
      "alpha 155.77777777777777 R2 0.9196179213088956 RMSE 0.6828001584712801\n",
      "alpha 177.88888888888889 R2 0.9138667803620697 RMSE 0.7068045514143184\n",
      "alpha 200.0 R2 0.9075129977738801 RMSE 0.7324101398202348\n"
     ]
    }
   ],
   "source": [
    "alphas_test = np.linspace(1, 200, 10)\n",
    "for alpha in alphas_test:\n",
    "    ridge_menor = Ridge(alpha=alpha)\n",
    "    ridge_menor.fit(X_train_menor, y_train_menor)\n",
    "    y_pred_menor = ridge_menor.predict(X_test_menor)\n",
    "    r2_menor = r2_score(y_test_menor, y_pred_menor)\n",
    "    rmse_menor = np.sqrt(mean_squared_error(y_test_menor, y_pred_menor))\n",
    "    print(\"alpha\", alpha, \"R2\", r2_menor, 'RMSE', rmse_menor)"
   ]
  },
  {
   "cell_type": "code",
   "execution_count": null,
   "metadata": {},
   "outputs": [],
   "source": []
  },
  {
   "cell_type": "markdown",
   "metadata": {},
   "source": [
    "Modelo de la media 'real':"
   ]
  },
  {
   "cell_type": "code",
   "execution_count": null,
   "metadata": {},
   "outputs": [
    {
     "data": {
      "application/vnd.microsoft.datawrangler.viewer.v0+json": {
       "columns": [
        {
         "name": "index",
         "rawType": "int64",
         "type": "integer"
        },
        {
         "name": "altura",
         "rawType": "int64",
         "type": "integer"
        },
        {
         "name": "ancho",
         "rawType": "int64",
         "type": "integer"
        },
        {
         "name": "pie",
         "rawType": "float64",
         "type": "float"
        }
       ],
       "conversionMethod": "pd.DataFrame",
       "ref": "62623216-ee3c-4315-8cba-8b10427a8d8a",
       "rows": [
        [
         "1",
         "173",
         "44",
         "26.5"
        ],
        [
         "2",
         "163",
         "44",
         "24.0"
        ],
        [
         "3",
         "162",
         "44",
         "24.5"
        ],
        [
         "4",
         "172",
         "46",
         "27.0"
        ],
        [
         "7",
         "165",
         "40",
         "24.0"
        ]
       ],
       "shape": {
        "columns": 3,
        "rows": 5
       }
      },
      "text/html": [
       "<div>\n",
       "<style scoped>\n",
       "    .dataframe tbody tr th:only-of-type {\n",
       "        vertical-align: middle;\n",
       "    }\n",
       "\n",
       "    .dataframe tbody tr th {\n",
       "        vertical-align: top;\n",
       "    }\n",
       "\n",
       "    .dataframe thead th {\n",
       "        text-align: right;\n",
       "    }\n",
       "</style>\n",
       "<table border=\"1\" class=\"dataframe\">\n",
       "  <thead>\n",
       "    <tr style=\"text-align: right;\">\n",
       "      <th></th>\n",
       "      <th>altura</th>\n",
       "      <th>ancho</th>\n",
       "      <th>pie</th>\n",
       "    </tr>\n",
       "  </thead>\n",
       "  <tbody>\n",
       "    <tr>\n",
       "      <th>1</th>\n",
       "      <td>173</td>\n",
       "      <td>44</td>\n",
       "      <td>26.5</td>\n",
       "    </tr>\n",
       "    <tr>\n",
       "      <th>2</th>\n",
       "      <td>163</td>\n",
       "      <td>44</td>\n",
       "      <td>24.0</td>\n",
       "    </tr>\n",
       "    <tr>\n",
       "      <th>3</th>\n",
       "      <td>162</td>\n",
       "      <td>44</td>\n",
       "      <td>24.5</td>\n",
       "    </tr>\n",
       "    <tr>\n",
       "      <th>4</th>\n",
       "      <td>172</td>\n",
       "      <td>46</td>\n",
       "      <td>27.0</td>\n",
       "    </tr>\n",
       "    <tr>\n",
       "      <th>7</th>\n",
       "      <td>165</td>\n",
       "      <td>40</td>\n",
       "      <td>24.0</td>\n",
       "    </tr>\n",
       "  </tbody>\n",
       "</table>\n",
       "</div>"
      ],
      "text/plain": [
       "   altura  ancho   pie\n",
       "1     173     44  26.5\n",
       "2     163     44  24.0\n",
       "3     162     44  24.5\n",
       "4     172     46  27.0\n",
       "7     165     40  24.0"
      ]
     },
     "execution_count": 198,
     "metadata": {},
     "output_type": "execute_result"
    }
   ],
   "source": [
    "df_media = df_amp[(df_amp['altura'] > 160) & (df_amp['altura'] < 175)]\n",
    "df_media.head()"
   ]
  },
  {
   "cell_type": "code",
   "execution_count": null,
   "metadata": {},
   "outputs": [],
   "source": [
    "X = df_media[['ancho','pie']]\n",
    "y = df_media['altura']\n",
    "X_train_media, X_test_media, y_train_media, y_test_media = train_test_split(X, y, test_size = 0.2, random_state = 42)"
   ]
  },
  {
   "cell_type": "code",
   "execution_count": null,
   "metadata": {},
   "outputs": [
    {
     "name": "stdout",
     "output_type": "stream",
     "text": [
      "Mejor alpha encontrado: 1.0\n"
     ]
    }
   ],
   "source": [
    "ridge_media = Ridge()\n",
    "grid_search = GridSearchCV(ridge_media, param_grid, cv=5, scoring='r2')\n",
    "grid_search.fit(X_train_media, y_train_media)\n",
    "best_alpha_media = grid_search.best_params_['alpha']\n",
    "print(f\"Mejor alpha encontrado: {best_alpha_media}\")"
   ]
  },
  {
   "cell_type": "code",
   "execution_count": null,
   "metadata": {},
   "outputs": [
    {
     "name": "stdout",
     "output_type": "stream",
     "text": [
      "R2 0.4068980460938063 RMSE 3.89684111654745\n"
     ]
    }
   ],
   "source": [
    "ridge_media = Ridge(best_alpha)\n",
    "ridge_media.fit(X_train_media, y_train_media)\n",
    "y_pred_media = ridge_media.predict(X_test_media)\n",
    "r2 = r2_score(y_test_media, y_pred_media)\n",
    "rmse = np.sqrt(mean_squared_error(y_test_media, y_pred_media))\n",
    "print(\"R2\", r2, 'RMSE', rmse)"
   ]
  },
  {
   "cell_type": "markdown",
   "metadata": {},
   "source": [
    "Modelo de los mayores:"
   ]
  },
  {
   "cell_type": "code",
   "execution_count": null,
   "metadata": {},
   "outputs": [],
   "source": []
  },
  {
   "cell_type": "code",
   "execution_count": null,
   "metadata": {},
   "outputs": [],
   "source": []
  }
 ],
 "metadata": {
  "kernelspec": {
   "display_name": "base",
   "language": "python",
   "name": "python3"
  },
  "language_info": {
   "codemirror_mode": {
    "name": "ipython",
    "version": 3
   },
   "file_extension": ".py",
   "mimetype": "text/x-python",
   "name": "python",
   "nbconvert_exporter": "python",
   "pygments_lexer": "ipython3",
   "version": "3.12.4"
  }
 },
 "nbformat": 4,
 "nbformat_minor": 2
}
