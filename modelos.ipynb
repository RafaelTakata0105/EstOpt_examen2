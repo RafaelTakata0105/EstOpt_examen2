{
 "cells": [
  {
   "cell_type": "markdown",
   "metadata": {},
   "source": [
    "# Segundo Examen Parcial\n",
    "### Estimación Óptima \n",
    "\n",
    "### Estudiantes:\n",
    "- Clara Paola Aguilar Casillas\n",
    "\n",
    "- Samantha Sánchez Tinoco\n",
    "\n",
    "- Priscila Cervantes Ramírez\n",
    "\n",
    "- Rafael Takata García"
   ]
  },
  {
   "cell_type": "code",
   "execution_count": 112,
   "metadata": {},
   "outputs": [],
   "source": [
    "import pandas as pd\n",
    "import numpy as np\n",
    "import matplotlib.pyplot as plt\n",
    "import seaborn as sns\n",
    "from sklearn.model_selection import train_test_split\n",
    "from sklearn.linear_model import LinearRegression, Lasso, Ridge\n",
    "from sklearn.metrics import r2_score, mean_squared_error\n",
    "from sklearn.model_selection import GridSearchCV"
   ]
  },
  {
   "cell_type": "markdown",
   "metadata": {},
   "source": [
    "Importamos los datos e información básica sobre estos:"
   ]
  },
  {
   "cell_type": "code",
   "execution_count": 113,
   "metadata": {},
   "outputs": [
    {
     "data": {
      "application/vnd.microsoft.datawrangler.viewer.v0+json": {
       "columns": [
        {
         "name": "index",
         "rawType": "int64",
         "type": "integer"
        },
        {
         "name": "altura",
         "rawType": "int64",
         "type": "integer"
        },
        {
         "name": "ancho",
         "rawType": "int64",
         "type": "integer"
        },
        {
         "name": "pie",
         "rawType": "float64",
         "type": "float"
        }
       ],
       "conversionMethod": "pd.DataFrame",
       "ref": "d0c662df-ecd2-4991-bb38-34d267eedee1",
       "rows": [
        [
         "0",
         "185",
         "55",
         "28.0"
        ],
        [
         "1",
         "173",
         "44",
         "26.5"
        ],
        [
         "2",
         "163",
         "44",
         "24.0"
        ],
        [
         "3",
         "162",
         "44",
         "24.5"
        ],
        [
         "4",
         "172",
         "46",
         "27.0"
        ]
       ],
       "shape": {
        "columns": 3,
        "rows": 5
       }
      },
      "text/html": [
       "<div>\n",
       "<style scoped>\n",
       "    .dataframe tbody tr th:only-of-type {\n",
       "        vertical-align: middle;\n",
       "    }\n",
       "\n",
       "    .dataframe tbody tr th {\n",
       "        vertical-align: top;\n",
       "    }\n",
       "\n",
       "    .dataframe thead th {\n",
       "        text-align: right;\n",
       "    }\n",
       "</style>\n",
       "<table border=\"1\" class=\"dataframe\">\n",
       "  <thead>\n",
       "    <tr style=\"text-align: right;\">\n",
       "      <th></th>\n",
       "      <th>altura</th>\n",
       "      <th>ancho</th>\n",
       "      <th>pie</th>\n",
       "    </tr>\n",
       "  </thead>\n",
       "  <tbody>\n",
       "    <tr>\n",
       "      <th>0</th>\n",
       "      <td>185</td>\n",
       "      <td>55</td>\n",
       "      <td>28.0</td>\n",
       "    </tr>\n",
       "    <tr>\n",
       "      <th>1</th>\n",
       "      <td>173</td>\n",
       "      <td>44</td>\n",
       "      <td>26.5</td>\n",
       "    </tr>\n",
       "    <tr>\n",
       "      <th>2</th>\n",
       "      <td>163</td>\n",
       "      <td>44</td>\n",
       "      <td>24.0</td>\n",
       "    </tr>\n",
       "    <tr>\n",
       "      <th>3</th>\n",
       "      <td>162</td>\n",
       "      <td>44</td>\n",
       "      <td>24.5</td>\n",
       "    </tr>\n",
       "    <tr>\n",
       "      <th>4</th>\n",
       "      <td>172</td>\n",
       "      <td>46</td>\n",
       "      <td>27.0</td>\n",
       "    </tr>\n",
       "  </tbody>\n",
       "</table>\n",
       "</div>"
      ],
      "text/plain": [
       "   altura  ancho   pie\n",
       "0     185     55  28.0\n",
       "1     173     44  26.5\n",
       "2     163     44  24.0\n",
       "3     162     44  24.5\n",
       "4     172     46  27.0"
      ]
     },
     "execution_count": 113,
     "metadata": {},
     "output_type": "execute_result"
    }
   ],
   "source": [
    "df = pd.read_csv('data/datos_gente.csv')\n",
    "df.head()"
   ]
  },
  {
   "cell_type": "code",
   "execution_count": 114,
   "metadata": {},
   "outputs": [
    {
     "name": "stdout",
     "output_type": "stream",
     "text": [
      "<class 'pandas.core.frame.DataFrame'>\n",
      "RangeIndex: 18 entries, 0 to 17\n",
      "Data columns (total 3 columns):\n",
      " #   Column  Non-Null Count  Dtype  \n",
      "---  ------  --------------  -----  \n",
      " 0   altura  18 non-null     int64  \n",
      " 1   ancho   18 non-null     int64  \n",
      " 2   pie     18 non-null     float64\n",
      "dtypes: float64(1), int64(2)\n",
      "memory usage: 564.0 bytes\n"
     ]
    }
   ],
   "source": [
    "df.info()"
   ]
  },
  {
   "cell_type": "code",
   "execution_count": 115,
   "metadata": {},
   "outputs": [
    {
     "data": {
      "application/vnd.microsoft.datawrangler.viewer.v0+json": {
       "columns": [
        {
         "name": "index",
         "rawType": "object",
         "type": "string"
        },
        {
         "name": "altura",
         "rawType": "float64",
         "type": "float"
        },
        {
         "name": "ancho",
         "rawType": "float64",
         "type": "float"
        },
        {
         "name": "pie",
         "rawType": "float64",
         "type": "float"
        }
       ],
       "conversionMethod": "pd.DataFrame",
       "ref": "b70109a9-5c7e-4ac4-b2ad-ffe516e3ee96",
       "rows": [
        [
         "count",
         "18.0",
         "18.0",
         "18.0"
        ],
        [
         "mean",
         "167.11111111111111",
         "45.22222222222222",
         "25.27777777777778"
        ],
        [
         "std",
         "10.208928554075703",
         "6.664705593917467",
         "2.1708105169852097"
        ],
        [
         "min",
         "150.0",
         "38.0",
         "22.0"
        ],
        [
         "25%",
         "159.75",
         "40.0",
         "24.0"
        ],
        [
         "50%",
         "165.5",
         "44.0",
         "24.5"
        ],
        [
         "75%",
         "172.75",
         "48.75",
         "27.375"
        ],
        [
         "max",
         "187.0",
         "61.0",
         "29.0"
        ]
       ],
       "shape": {
        "columns": 3,
        "rows": 8
       }
      },
      "text/html": [
       "<div>\n",
       "<style scoped>\n",
       "    .dataframe tbody tr th:only-of-type {\n",
       "        vertical-align: middle;\n",
       "    }\n",
       "\n",
       "    .dataframe tbody tr th {\n",
       "        vertical-align: top;\n",
       "    }\n",
       "\n",
       "    .dataframe thead th {\n",
       "        text-align: right;\n",
       "    }\n",
       "</style>\n",
       "<table border=\"1\" class=\"dataframe\">\n",
       "  <thead>\n",
       "    <tr style=\"text-align: right;\">\n",
       "      <th></th>\n",
       "      <th>altura</th>\n",
       "      <th>ancho</th>\n",
       "      <th>pie</th>\n",
       "    </tr>\n",
       "  </thead>\n",
       "  <tbody>\n",
       "    <tr>\n",
       "      <th>count</th>\n",
       "      <td>18.000000</td>\n",
       "      <td>18.000000</td>\n",
       "      <td>18.000000</td>\n",
       "    </tr>\n",
       "    <tr>\n",
       "      <th>mean</th>\n",
       "      <td>167.111111</td>\n",
       "      <td>45.222222</td>\n",
       "      <td>25.277778</td>\n",
       "    </tr>\n",
       "    <tr>\n",
       "      <th>std</th>\n",
       "      <td>10.208929</td>\n",
       "      <td>6.664706</td>\n",
       "      <td>2.170811</td>\n",
       "    </tr>\n",
       "    <tr>\n",
       "      <th>min</th>\n",
       "      <td>150.000000</td>\n",
       "      <td>38.000000</td>\n",
       "      <td>22.000000</td>\n",
       "    </tr>\n",
       "    <tr>\n",
       "      <th>25%</th>\n",
       "      <td>159.750000</td>\n",
       "      <td>40.000000</td>\n",
       "      <td>24.000000</td>\n",
       "    </tr>\n",
       "    <tr>\n",
       "      <th>50%</th>\n",
       "      <td>165.500000</td>\n",
       "      <td>44.000000</td>\n",
       "      <td>24.500000</td>\n",
       "    </tr>\n",
       "    <tr>\n",
       "      <th>75%</th>\n",
       "      <td>172.750000</td>\n",
       "      <td>48.750000</td>\n",
       "      <td>27.375000</td>\n",
       "    </tr>\n",
       "    <tr>\n",
       "      <th>max</th>\n",
       "      <td>187.000000</td>\n",
       "      <td>61.000000</td>\n",
       "      <td>29.000000</td>\n",
       "    </tr>\n",
       "  </tbody>\n",
       "</table>\n",
       "</div>"
      ],
      "text/plain": [
       "           altura      ancho        pie\n",
       "count   18.000000  18.000000  18.000000\n",
       "mean   167.111111  45.222222  25.277778\n",
       "std     10.208929   6.664706   2.170811\n",
       "min    150.000000  38.000000  22.000000\n",
       "25%    159.750000  40.000000  24.000000\n",
       "50%    165.500000  44.000000  24.500000\n",
       "75%    172.750000  48.750000  27.375000\n",
       "max    187.000000  61.000000  29.000000"
      ]
     },
     "execution_count": 115,
     "metadata": {},
     "output_type": "execute_result"
    }
   ],
   "source": [
    "df.describe()"
   ]
  },
  {
   "cell_type": "code",
   "execution_count": 116,
   "metadata": {},
   "outputs": [
    {
     "data": {
      "text/plain": [
       "<seaborn.axisgrid.PairGrid at 0x1dfab7ded80>"
      ]
     },
     "execution_count": 116,
     "metadata": {},
     "output_type": "execute_result"
    },
    {
     "data": {
      "image/png": "[encoded data removed]",
      "text/plain": [
       "<Figure size 750x750 with 12 Axes>"
      ]
     },
     "metadata": {},
     "output_type": "display_data"
    }
   ],
   "source": [
    "sns.pairplot(df)"
   ]
  },
  {
   "cell_type": "code",
   "execution_count": 117,
   "metadata": {},
   "outputs": [
    {
     "data": {
      "text/plain": [
       "<Axes: >"
      ]
     },
     "execution_count": 117,
     "metadata": {},
     "output_type": "execute_result"
    },
    {
     "data": {
      "image/png": "[encoded data removed]",
      "text/plain": [
       "<Figure size 640x480 with 2 Axes>"
      ]
     },
     "metadata": {},
     "output_type": "display_data"
    }
   ],
   "source": [
    "sns.heatmap(df.corr(), annot=True)"
   ]
  },
  {
   "cell_type": "markdown",
   "metadata": {},
   "source": [
    "Después de un muy básico analisis inicial podemos ver que:\n",
    "\n",
    "- Tenemos 18 entradas\n",
    "- No hay datos faltantes\n",
    "- Dos variables son de tipo `Int` y una `Float`\n",
    "- Son relaciones lineales, altamente correlacionadas\n",
    "\n",
    "\n",
    "---\n",
    "\n",
    "Ahora empezaremos con la separación de los datos para nuestro modelo."
   ]
  },
  {
   "cell_type": "code",
   "execution_count": 118,
   "metadata": {},
   "outputs": [],
   "source": [
    "X = df[['ancho', 'pie']]\n",
    "y = df['altura']\n",
    "\n",
    "X_train, X_test, y_train, y_test = train_test_split(X, y, test_size=0.3, random_state=42)"
   ]
  },
  {
   "cell_type": "markdown",
   "metadata": {},
   "source": [
    "En este caso, nosotros hemos propuesto tres modelos iniciales.\n",
    "\n",
    "- Una Regresión lineal sin regularización\n",
    "\n",
    "- Ridge\n",
    "\n",
    "- Lasso"
   ]
  },
  {
   "cell_type": "code",
   "execution_count": 119,
   "metadata": {},
   "outputs": [
    {
     "name": "stdout",
     "output_type": "stream",
     "text": [
      "Error cuadrático medio en prueba: 11.6061\n",
      "R² en prueba: 0.8425\n",
      "Pendiente: -0.0031472081218277977\n",
      "Intercepción: 54.28434702353481\n"
     ]
    }
   ],
   "source": [
    "#Regresión lineal\n",
    "#Entrenamiento\n",
    "lr = LinearRegression()\n",
    "lr.fit(X_train, y_train)\n",
    "\n",
    "#Predicción\n",
    "y_test_pred = lr.predict(X_test)\n",
    "mse_test = mean_squared_error(y_test, y_test_pred)\n",
    "r2_test = r2_score(y_test, y_test_pred)\n",
    "\n",
    "#Resultados\n",
    "print(f\"Error cuadrático medio en prueba: {mse_test:.4f}\")\n",
    "print(f\"R² en prueba: {r2_test:.4f}\")\n",
    "\n",
    "print(f\"Pendiente: {lr.coef_[0]}\")\n",
    "print(f\"Intercepción: {lr.intercept_}\")"
   ]
  },
  {
   "cell_type": "code",
   "execution_count": 120,
   "metadata": {},
   "outputs": [
    {
     "name": "stdout",
     "output_type": "stream",
     "text": [
      "Error cuadrático medio en prueba: 11.3509\n",
      "R² en prueba: 0.8459\n",
      "Pendiente: 0.024043647645113467\n",
      "Intercepción: 56.545484126913365\n"
     ]
    }
   ],
   "source": [
    "#Ridge\n",
    "#Entrenamiento\n",
    "ridge = Ridge()\n",
    "ridge.fit(X_train, y_train)\n",
    "\n",
    "#Predicción\n",
    "y_test_pred = ridge.predict(X_test)\n",
    "mse_test = mean_squared_error(y_test, y_test_pred)\n",
    "r2_test = r2_score(y_test, y_test_pred)\n",
    "\n",
    "#Resultados\n",
    "print(f\"Error cuadrático medio en prueba: {mse_test:.4f}\")\n",
    "print(f\"R² en prueba: {r2_test:.4f}\")\n",
    "\n",
    "print(f\"Pendiente: {ridge.coef_[0]}\")\n",
    "print(f\"Intercepción: {ridge.intercept_}\")"
   ]
  },
  {
   "cell_type": "code",
   "execution_count": 121,
   "metadata": {},
   "outputs": [
    {
     "name": "stdout",
     "output_type": "stream",
     "text": [
      "Error cuadrático medio en prueba: 11.3108\n",
      "R² en prueba: 0.8465\n",
      "Pendiente: 0.03718503995685833\n",
      "Intercepción: 60.24261755999828\n"
     ]
    }
   ],
   "source": [
    "#Lasso\n",
    "#Entrenamiento\n",
    "lasso = Lasso()\n",
    "lasso.fit(X_train, y_train)\n",
    "\n",
    "#Predicción\n",
    "y_test_pred = lasso.predict(X_test)\n",
    "mse_test = mean_squared_error(y_test, y_test_pred)\n",
    "r2_test = r2_score(y_test, y_test_pred)\n",
    "\n",
    "#Resultados\n",
    "print(f\"Error cuadrático medio en prueba: {mse_test:.4f}\")\n",
    "print(f\"R² en prueba: {r2_test:.4f}\")\n",
    "\n",
    "print(f\"Pendiente: {lasso.coef_[0]}\")\n",
    "print(f\"Intercepción: {lasso.intercept_}\")"
   ]
  },
  {
   "cell_type": "markdown",
   "metadata": {},
   "source": [
    "Obtuvimos resultados muy similares en primera instancia, veamos si a través del tuneo de híperparametros obtenemos mejores resultados:\n",
    "\n",
    "---\n",
    "Ridge"
   ]
  },
  {
   "cell_type": "code",
   "execution_count": 122,
   "metadata": {},
   "outputs": [
    {
     "name": "stdout",
     "output_type": "stream",
     "text": [
      "Mejor alpha encontrado: 1.5922827933410924\n"
     ]
    }
   ],
   "source": [
    "#Definimos el espacio de busqueda\n",
    "alphas = np.logspace(0, 10, 100)\n",
    "\n",
    "#Parametros y busqueda\n",
    "param_grid = {'alpha': alphas}\n",
    "grid_search = GridSearchCV(ridge, param_grid, cv=5, scoring='r2')\n",
    "grid_search.fit(X_train, y_train)\n",
    "\n",
    "#Mejor alpha\n",
    "best_alpha = grid_search.best_params_['alpha']\n",
    "print(f\"Mejor alpha encontrado: {best_alpha}\")"
   ]
  },
  {
   "cell_type": "markdown",
   "metadata": {},
   "source": [
    "Veamos los resultados con el alpha optimizado a través del grid search:"
   ]
  },
  {
   "cell_type": "code",
   "execution_count": 123,
   "metadata": {},
   "outputs": [
    {
     "name": "stdout",
     "output_type": "stream",
     "text": [
      "Error cuadrático medio en prueba: 11.2384\n",
      "R² en prueba: 0.8474\n",
      "Pendiente: 0.03929014437173918\n",
      "Intercepción: 57.818821907544816\n"
     ]
    }
   ],
   "source": [
    "ridge = Ridge(alpha=best_alpha)\n",
    "ridge.fit(X_train, y_train)\n",
    "\n",
    "#Predicción\n",
    "y_test_pred = ridge.predict(X_test)\n",
    "mse_test = mean_squared_error(y_test, y_test_pred)\n",
    "r2_test = r2_score(y_test, y_test_pred)\n",
    "\n",
    "#Resultados\n",
    "print(f\"Error cuadrático medio en prueba: {mse_test:.4f}\")\n",
    "print(f\"R² en prueba: {r2_test:.4f}\")\n",
    "\n",
    "print(f\"Pendiente: {ridge.coef_[0]}\")\n",
    "print(f\"Intercepción: {ridge.intercept_}\")"
   ]
  },
  {
   "cell_type": "markdown",
   "metadata": {},
   "source": [
    "Los resultados no cambian mucho pero, si obtenemos mejores resultados en la prueba y el testing.\n",
    "\n",
    "Lasso"
   ]
  },
  {
   "cell_type": "code",
   "execution_count": 124,
   "metadata": {},
   "outputs": [
    {
     "name": "stdout",
     "output_type": "stream",
     "text": [
      "Mejor alpha encontrado: 1.5922827933410924\n"
     ]
    }
   ],
   "source": [
    "grid_search = GridSearchCV(lasso, param_grid, cv=5, scoring='r2')\n",
    "grid_search.fit(X_train, y_train)\n",
    "\n",
    "#Mejor alpha\n",
    "best_alpha = grid_search.best_params_['alpha']\n",
    "print(f\"Mejor alpha encontrado: {best_alpha}\")"
   ]
  },
  {
   "cell_type": "code",
   "execution_count": 125,
   "metadata": {},
   "outputs": [
    {
     "name": "stdout",
     "output_type": "stream",
     "text": [
      "Error cuadrático medio en prueba: 11.3785\n",
      "R² en prueba: 0.8455\n",
      "Pendiente: 0.06099087779669846\n",
      "Intercepción: 63.7708782039431\n"
     ]
    }
   ],
   "source": [
    "lasso = Lasso(alpha=best_alpha)\n",
    "lasso.fit(X_train, y_train)\n",
    "\n",
    "#Predicción\n",
    "y_test_pred = lasso.predict(X_test)\n",
    "mse_test = mean_squared_error(y_test, y_test_pred)\n",
    "r2_test = r2_score(y_test, y_test_pred)\n",
    "\n",
    "#Resultados\n",
    "print(f\"Error cuadrático medio en prueba: {mse_test:.4f}\")\n",
    "print(f\"R² en prueba: {r2_test:.4f}\")\n",
    "\n",
    "print(f\"Pendiente: {lasso.coef_[0]}\")\n",
    "print(f\"Intercepción: {lasso.intercept_}\")"
   ]
  },
  {
   "cell_type": "markdown",
   "metadata": {},
   "source": [
    "### Evaluación\n",
    "\n",
    "Después del fine-tuning, podemos observar que el modelo que nos da mejores resultados en la prueba es `Ridge` después de que realizaramos la optimización."
   ]
  },
  {
   "cell_type": "markdown",
   "metadata": {},
   "source": [
    "1. Realiza la gráfica de tu modelo con un scatterplot de los datos incluyendo el valor de R2 y RMSE.\n",
    "\n",
    "    a ¿Por qué seleccionaste ese modelo?\n",
    "    \n",
    "    b. ¿Utilizaste alguna regularización?"
   ]
  }
 ],
 "metadata": {
  "kernelspec": {
   "display_name": "base",
   "language": "python",
   "name": "python3"
  },
  "language_info": {
   "codemirror_mode": {
    "name": "ipython",
    "version": 3
   },
   "file_extension": ".py",
   "mimetype": "text/x-python",
   "name": "python",
   "nbconvert_exporter": "python",
   "pygments_lexer": "ipython3",
   "version": "3.12.4"
  }
 },
 "nbformat": 4,
 "nbformat_minor": 2
}
