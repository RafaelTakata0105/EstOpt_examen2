{
 "cells": [
  {
   "cell_type": "markdown",
   "metadata": {},
   "source": [
    "# Segundo Examen Parcial\n",
    "### Estimación Óptima \n",
    "\n",
    "### Estudiantes:\n",
    "- Clara Paola Aguilar Casillas\n",
    "\n",
    "- Samantha Sánchez Tinoco\n",
    "\n",
    "- Priscila Cervantes Ramírez\n",
    "\n",
    "- Rafael Takata García"
   ]
  },
  {
   "cell_type": "code",
   "execution_count": 1,
   "metadata": {},
   "outputs": [],
   "source": [
    "import pandas as pd\n",
    "import numpy as np\n",
    "import matplotlib.pyplot as plt\n",
    "import seaborn as sns\n",
    "from sklearn.model_selection import train_test_split\n",
    "from sklearn.linear_model import LinearRegression, Lasso, Ridge\n",
    "from sklearn.metrics import r2_score, mean_squared_error\n",
    "from sklearn.model_selection import GridSearchCV"
   ]
  },
  {
   "cell_type": "markdown",
   "metadata": {},
   "source": [
    "Importamos los datos e información básica sobre estos:"
   ]
  },
  {
   "cell_type": "code",
   "execution_count": 2,
   "metadata": {},
   "outputs": [
    {
     "data": {
      "application/vnd.microsoft.datawrangler.viewer.v0+json": {
       "columns": [
        {
         "name": "index",
         "rawType": "int64",
         "type": "integer"
        },
        {
         "name": "altura",
         "rawType": "int64",
         "type": "integer"
        },
        {
         "name": "ancho",
         "rawType": "int64",
         "type": "integer"
        },
        {
         "name": "pie",
         "rawType": "float64",
         "type": "float"
        }
       ],
       "conversionMethod": "pd.DataFrame",
       "ref": "658b9a8d-dcfb-4152-896b-ac6f8eb5940c",
       "rows": [
        [
         "0",
         "185",
         "55",
         "28.0"
        ],
        [
         "1",
         "173",
         "44",
         "26.5"
        ],
        [
         "2",
         "163",
         "44",
         "24.0"
        ],
        [
         "3",
         "162",
         "44",
         "24.5"
        ],
        [
         "4",
         "172",
         "46",
         "27.0"
        ]
       ],
       "shape": {
        "columns": 3,
        "rows": 5
       }
      },
      "text/html": [
       "<div>\n",
       "<style scoped>\n",
       "    .dataframe tbody tr th:only-of-type {\n",
       "        vertical-align: middle;\n",
       "    }\n",
       "\n",
       "    .dataframe tbody tr th {\n",
       "        vertical-align: top;\n",
       "    }\n",
       "\n",
       "    .dataframe thead th {\n",
       "        text-align: right;\n",
       "    }\n",
       "</style>\n",
       "<table border=\"1\" class=\"dataframe\">\n",
       "  <thead>\n",
       "    <tr style=\"text-align: right;\">\n",
       "      <th></th>\n",
       "      <th>altura</th>\n",
       "      <th>ancho</th>\n",
       "      <th>pie</th>\n",
       "    </tr>\n",
       "  </thead>\n",
       "  <tbody>\n",
       "    <tr>\n",
       "      <th>0</th>\n",
       "      <td>185</td>\n",
       "      <td>55</td>\n",
       "      <td>28.0</td>\n",
       "    </tr>\n",
       "    <tr>\n",
       "      <th>1</th>\n",
       "      <td>173</td>\n",
       "      <td>44</td>\n",
       "      <td>26.5</td>\n",
       "    </tr>\n",
       "    <tr>\n",
       "      <th>2</th>\n",
       "      <td>163</td>\n",
       "      <td>44</td>\n",
       "      <td>24.0</td>\n",
       "    </tr>\n",
       "    <tr>\n",
       "      <th>3</th>\n",
       "      <td>162</td>\n",
       "      <td>44</td>\n",
       "      <td>24.5</td>\n",
       "    </tr>\n",
       "    <tr>\n",
       "      <th>4</th>\n",
       "      <td>172</td>\n",
       "      <td>46</td>\n",
       "      <td>27.0</td>\n",
       "    </tr>\n",
       "  </tbody>\n",
       "</table>\n",
       "</div>"
      ],
      "text/plain": [
       "   altura  ancho   pie\n",
       "0     185     55  28.0\n",
       "1     173     44  26.5\n",
       "2     163     44  24.0\n",
       "3     162     44  24.5\n",
       "4     172     46  27.0"
      ]
     },
     "execution_count": 2,
     "metadata": {},
     "output_type": "execute_result"
    }
   ],
   "source": [
    "df = pd.read_csv('data/datos_gente.csv')\n",
    "df.head()"
   ]
  },
  {
   "cell_type": "code",
   "execution_count": 3,
   "metadata": {},
   "outputs": [
    {
     "name": "stdout",
     "output_type": "stream",
     "text": [
      "<class 'pandas.core.frame.DataFrame'>\n",
      "RangeIndex: 18 entries, 0 to 17\n",
      "Data columns (total 3 columns):\n",
      " #   Column  Non-Null Count  Dtype  \n",
      "---  ------  --------------  -----  \n",
      " 0   altura  18 non-null     int64  \n",
      " 1   ancho   18 non-null     int64  \n",
      " 2   pie     18 non-null     float64\n",
      "dtypes: float64(1), int64(2)\n",
      "memory usage: 564.0 bytes\n"
     ]
    }
   ],
   "source": [
    "df.info()"
   ]
  },
  {
   "cell_type": "code",
   "execution_count": 4,
   "metadata": {},
   "outputs": [
    {
     "data": {
      "application/vnd.microsoft.datawrangler.viewer.v0+json": {
       "columns": [
        {
         "name": "index",
         "rawType": "object",
         "type": "string"
        },
        {
         "name": "altura",
         "rawType": "float64",
         "type": "float"
        },
        {
         "name": "ancho",
         "rawType": "float64",
         "type": "float"
        },
        {
         "name": "pie",
         "rawType": "float64",
         "type": "float"
        }
       ],
       "conversionMethod": "pd.DataFrame",
       "ref": "9ee1ac70-9553-4ab6-a6e4-eac1a4c9ca2d",
       "rows": [
        [
         "count",
         "18.0",
         "18.0",
         "18.0"
        ],
        [
         "mean",
         "167.11111111111111",
         "45.22222222222222",
         "25.27777777777778"
        ],
        [
         "std",
         "10.208928554075703",
         "6.664705593917467",
         "2.1708105169852097"
        ],
        [
         "min",
         "150.0",
         "38.0",
         "22.0"
        ],
        [
         "25%",
         "159.75",
         "40.0",
         "24.0"
        ],
        [
         "50%",
         "165.5",
         "44.0",
         "24.5"
        ],
        [
         "75%",
         "172.75",
         "48.75",
         "27.375"
        ],
        [
         "max",
         "187.0",
         "61.0",
         "29.0"
        ]
       ],
       "shape": {
        "columns": 3,
        "rows": 8
       }
      },
      "text/html": [
       "<div>\n",
       "<style scoped>\n",
       "    .dataframe tbody tr th:only-of-type {\n",
       "        vertical-align: middle;\n",
       "    }\n",
       "\n",
       "    .dataframe tbody tr th {\n",
       "        vertical-align: top;\n",
       "    }\n",
       "\n",
       "    .dataframe thead th {\n",
       "        text-align: right;\n",
       "    }\n",
       "</style>\n",
       "<table border=\"1\" class=\"dataframe\">\n",
       "  <thead>\n",
       "    <tr style=\"text-align: right;\">\n",
       "      <th></th>\n",
       "      <th>altura</th>\n",
       "      <th>ancho</th>\n",
       "      <th>pie</th>\n",
       "    </tr>\n",
       "  </thead>\n",
       "  <tbody>\n",
       "    <tr>\n",
       "      <th>count</th>\n",
       "      <td>18.000000</td>\n",
       "      <td>18.000000</td>\n",
       "      <td>18.000000</td>\n",
       "    </tr>\n",
       "    <tr>\n",
       "      <th>mean</th>\n",
       "      <td>167.111111</td>\n",
       "      <td>45.222222</td>\n",
       "      <td>25.277778</td>\n",
       "    </tr>\n",
       "    <tr>\n",
       "      <th>std</th>\n",
       "      <td>10.208929</td>\n",
       "      <td>6.664706</td>\n",
       "      <td>2.170811</td>\n",
       "    </tr>\n",
       "    <tr>\n",
       "      <th>min</th>\n",
       "      <td>150.000000</td>\n",
       "      <td>38.000000</td>\n",
       "      <td>22.000000</td>\n",
       "    </tr>\n",
       "    <tr>\n",
       "      <th>25%</th>\n",
       "      <td>159.750000</td>\n",
       "      <td>40.000000</td>\n",
       "      <td>24.000000</td>\n",
       "    </tr>\n",
       "    <tr>\n",
       "      <th>50%</th>\n",
       "      <td>165.500000</td>\n",
       "      <td>44.000000</td>\n",
       "      <td>24.500000</td>\n",
       "    </tr>\n",
       "    <tr>\n",
       "      <th>75%</th>\n",
       "      <td>172.750000</td>\n",
       "      <td>48.750000</td>\n",
       "      <td>27.375000</td>\n",
       "    </tr>\n",
       "    <tr>\n",
       "      <th>max</th>\n",
       "      <td>187.000000</td>\n",
       "      <td>61.000000</td>\n",
       "      <td>29.000000</td>\n",
       "    </tr>\n",
       "  </tbody>\n",
       "</table>\n",
       "</div>"
      ],
      "text/plain": [
       "           altura      ancho        pie\n",
       "count   18.000000  18.000000  18.000000\n",
       "mean   167.111111  45.222222  25.277778\n",
       "std     10.208929   6.664706   2.170811\n",
       "min    150.000000  38.000000  22.000000\n",
       "25%    159.750000  40.000000  24.000000\n",
       "50%    165.500000  44.000000  24.500000\n",
       "75%    172.750000  48.750000  27.375000\n",
       "max    187.000000  61.000000  29.000000"
      ]
     },
     "execution_count": 4,
     "metadata": {},
     "output_type": "execute_result"
    }
   ],
   "source": [
    "df.describe()"
   ]
  },
  {
   "cell_type": "code",
   "execution_count": 5,
   "metadata": {},
   "outputs": [
    {
     "data": {
      "text/plain": [
       "<seaborn.axisgrid.PairGrid at 0x214ff3b2b40>"
      ]
     },
     "execution_count": 5,
     "metadata": {},
     "output_type": "execute_result"
    },
    {
     "data": {
      "image/png": "[encoded data removed]",
      "text/plain": [
       "<Figure size 750x750 with 12 Axes>"
      ]
     },
     "metadata": {},
     "output_type": "display_data"
    }
   ],
   "source": [
    "sns.pairplot(df)"
   ]
  },
  {
   "cell_type": "code",
   "execution_count": 6,
   "metadata": {},
   "outputs": [
    {
     "data": {
      "text/plain": [
       "<Axes: >"
      ]
     },
     "execution_count": 6,
     "metadata": {},
     "output_type": "execute_result"
    },
    {
     "data": {
      "image/png": "[encoded data removed]",
      "text/plain": [
       "<Figure size 640x480 with 2 Axes>"
      ]
     },
     "metadata": {},
     "output_type": "display_data"
    }
   ],
   "source": [
    "sns.heatmap(df.corr(), annot=True)"
   ]
  },
  {
   "cell_type": "markdown",
   "metadata": {},
   "source": [
    "Después de un muy básico analisis inicial podemos ver que:\n",
    "\n",
    "- Tenemos 18 entradas\n",
    "- No hay datos faltantes\n",
    "- Dos variables son de tipo `Int` y una `Float`\n",
    "- Son relaciones lineales, altamente correlacionadas\n",
    "\n",
    "\n",
    "---\n",
    "\n",
    "Ahora empezaremos con la separación de los datos para nuestro modelo."
   ]
  },
  {
   "cell_type": "code",
   "execution_count": 7,
   "metadata": {},
   "outputs": [],
   "source": [
    "X = df[['ancho', 'pie']]\n",
    "y = df['altura']\n",
    "\n",
    "X_train, X_test, y_train, y_test = train_test_split(X, y, test_size=0.3, random_state=42)"
   ]
  },
  {
   "cell_type": "markdown",
   "metadata": {},
   "source": [
    "En este caso, nosotros hemos propuesto tres modelos iniciales.\n",
    "\n",
    "- Una Regresión lineal sin regularización\n",
    "\n",
    "- Ridge\n",
    "\n",
    "- Lasso"
   ]
  },
  {
   "cell_type": "code",
   "execution_count": 8,
   "metadata": {},
   "outputs": [
    {
     "name": "stdout",
     "output_type": "stream",
     "text": [
      "Error cuadrático medio en prueba: 11.6061\n",
      "R² en prueba: 0.8425\n",
      "Pendiente: -0.0031472081218277977\n",
      "Intercepción: 54.28434702353481\n"
     ]
    }
   ],
   "source": [
    "#Regresión lineal\n",
    "#Entrenamiento\n",
    "lr = LinearRegression()\n",
    "lr.fit(X_train, y_train)\n",
    "\n",
    "#Predicción\n",
    "y_test_pred = lr.predict(X_test)\n",
    "mse_test = mean_squared_error(y_test, y_test_pred)\n",
    "r2_test = r2_score(y_test, y_test_pred)\n",
    "\n",
    "#Resultados\n",
    "print(f\"Error cuadrático medio en prueba: {mse_test:.4f}\")\n",
    "print(f\"R² en prueba: {r2_test:.4f}\")\n",
    "\n",
    "print(f\"Pendiente: {lr.coef_[0]}\")\n",
    "print(f\"Intercepción: {lr.intercept_}\")"
   ]
  },
  {
   "cell_type": "code",
   "execution_count": 9,
   "metadata": {},
   "outputs": [
    {
     "name": "stdout",
     "output_type": "stream",
     "text": [
      "Error cuadrático medio en prueba: 11.3509\n",
      "R² en prueba: 0.8459\n",
      "Pendiente: 0.024043647645113467\n",
      "Intercepción: 56.545484126913365\n"
     ]
    }
   ],
   "source": [
    "#Ridge\n",
    "#Entrenamiento\n",
    "ridge = Ridge()\n",
    "ridge.fit(X_train, y_train)\n",
    "\n",
    "#Predicción\n",
    "y_test_pred = ridge.predict(X_test)\n",
    "mse_test = mean_squared_error(y_test, y_test_pred)\n",
    "r2_test = r2_score(y_test, y_test_pred)\n",
    "\n",
    "#Resultados\n",
    "print(f\"Error cuadrático medio en prueba: {mse_test:.4f}\")\n",
    "print(f\"R² en prueba: {r2_test:.4f}\")\n",
    "\n",
    "print(f\"Pendiente: {ridge.coef_[0]}\")\n",
    "print(f\"Intercepción: {ridge.intercept_}\")"
   ]
  },
  {
   "cell_type": "code",
   "execution_count": 10,
   "metadata": {},
   "outputs": [
    {
     "name": "stdout",
     "output_type": "stream",
     "text": [
      "Error cuadrático medio en prueba: 11.3108\n",
      "R² en prueba: 0.8465\n",
      "Pendiente: 0.03718503995685833\n",
      "Intercepción: 60.24261755999828\n"
     ]
    }
   ],
   "source": [
    "#Lasso\n",
    "#Entrenamiento\n",
    "lasso = Lasso()\n",
    "lasso.fit(X_train, y_train)\n",
    "\n",
    "#Predicción\n",
    "y_test_pred = lasso.predict(X_test)\n",
    "mse_test = mean_squared_error(y_test, y_test_pred)\n",
    "r2_test = r2_score(y_test, y_test_pred)\n",
    "\n",
    "#Resultados\n",
    "print(f\"Error cuadrático medio en prueba: {mse_test:.4f}\")\n",
    "print(f\"R² en prueba: {r2_test:.4f}\")\n",
    "\n",
    "print(f\"Pendiente: {lasso.coef_[0]}\")\n",
    "print(f\"Intercepción: {lasso.intercept_}\")"
   ]
  },
  {
   "cell_type": "markdown",
   "metadata": {},
   "source": [
    "Obtuvimos resultados muy similares en primera instancia, veamos si a través del tuneo de híperparametros obtenemos mejores resultados:\n",
    "\n",
    "---\n",
    "Ridge"
   ]
  },
  {
   "cell_type": "code",
   "execution_count": 11,
   "metadata": {},
   "outputs": [
    {
     "name": "stdout",
     "output_type": "stream",
     "text": [
      "Mejor alpha encontrado: 1.5922827933410924\n"
     ]
    }
   ],
   "source": [
    "#Definimos el espacio de busqueda\n",
    "alphas = np.logspace(0, 10, 100)\n",
    "\n",
    "#Parametros y busqueda\n",
    "param_grid = {'alpha': alphas}\n",
    "grid_search = GridSearchCV(ridge, param_grid, cv=5, scoring='r2')\n",
    "grid_search.fit(X_train, y_train)\n",
    "\n",
    "#Mejor alpha\n",
    "best_alpha = grid_search.best_params_['alpha']\n",
    "print(f\"Mejor alpha encontrado: {best_alpha}\")"
   ]
  },
  {
   "cell_type": "markdown",
   "metadata": {},
   "source": [
    "Veamos los resultados con el alpha optimizado a través del grid search:"
   ]
  },
  {
   "cell_type": "code",
   "execution_count": 12,
   "metadata": {},
   "outputs": [
    {
     "name": "stdout",
     "output_type": "stream",
     "text": [
      "Error cuadrático medio en prueba: 11.2384\n",
      "R² en prueba: 0.8474\n",
      "Pendiente: 0.03929014437173918\n",
      "Intercepción: 57.818821907544816\n"
     ]
    }
   ],
   "source": [
    "ridge = Ridge(alpha=best_alpha)\n",
    "ridge.fit(X_train, y_train)\n",
    "\n",
    "#Predicción\n",
    "y_test_pred = ridge.predict(X_test)\n",
    "mse_test = mean_squared_error(y_test, y_test_pred)\n",
    "r2_test = r2_score(y_test, y_test_pred)\n",
    "\n",
    "#Resultados\n",
    "print(f\"Error cuadrático medio en prueba: {mse_test:.4f}\")\n",
    "print(f\"R² en prueba: {r2_test:.4f}\")\n",
    "\n",
    "print(f\"Pendiente: {ridge.coef_[0]}\")\n",
    "print(f\"Intercepción: {ridge.intercept_}\")"
   ]
  },
  {
   "cell_type": "markdown",
   "metadata": {},
   "source": [
    "Los resultados no cambian mucho pero, si obtenemos mejores resultados en la prueba y el testing.\n",
    "\n",
    "Lasso"
   ]
  },
  {
   "cell_type": "code",
   "execution_count": 13,
   "metadata": {},
   "outputs": [
    {
     "name": "stdout",
     "output_type": "stream",
     "text": [
      "Mejor alpha encontrado: 1.5922827933410924\n"
     ]
    }
   ],
   "source": [
    "grid_search = GridSearchCV(lasso, param_grid, cv=5, scoring='r2')\n",
    "grid_search.fit(X_train, y_train)\n",
    "\n",
    "#Mejor alpha\n",
    "best_alpha = grid_search.best_params_['alpha']\n",
    "print(f\"Mejor alpha encontrado: {best_alpha}\")"
   ]
  },
  {
   "cell_type": "code",
   "execution_count": 14,
   "metadata": {},
   "outputs": [
    {
     "name": "stdout",
     "output_type": "stream",
     "text": [
      "Error cuadrático medio en prueba: 11.3785\n",
      "R² en prueba: 0.8455\n",
      "Pendiente: 0.06099087779669846\n",
      "Intercepción: 63.7708782039431\n"
     ]
    }
   ],
   "source": [
    "lasso = Lasso(alpha=best_alpha)\n",
    "lasso.fit(X_train, y_train)\n",
    "\n",
    "#Predicción\n",
    "y_test_pred = lasso.predict(X_test)\n",
    "mse_test = mean_squared_error(y_test, y_test_pred)\n",
    "r2_test = r2_score(y_test, y_test_pred)\n",
    "\n",
    "#Resultados\n",
    "print(f\"Error cuadrático medio en prueba: {mse_test:.4f}\")\n",
    "print(f\"R² en prueba: {r2_test:.4f}\")\n",
    "\n",
    "print(f\"Pendiente: {lasso.coef_[0]}\")\n",
    "print(f\"Intercepción: {lasso.intercept_}\")"
   ]
  },
  {
   "cell_type": "markdown",
   "metadata": {},
   "source": [
    "### Evaluación\n",
    "\n",
    "Después del fine-tuning, podemos observar que el modelo que nos da mejores resultados en la prueba es `Ridge` después de que realizaramos la optimización."
   ]
  },
  {
   "cell_type": "markdown",
   "metadata": {},
   "source": [
    "1. Realiza la gráfica de tu modelo con un scatterplot de los datos incluyendo el valor de R2 y RMSE.\n",
    "\n",
    "a. ¿Por qué seleccionaste ese modelo?\n",
    "\n",
    "Como se mencionó anteriormente se seleccionó el modelo de **Ridge** ya que fue el que nos dio mejores resultados, y se seleccionó un modelo múltiple ya que estaremos trabajando con las dos variables independientes ('ancho','pie') para obtener mejores resultados de la dependiente ('altura') o a predecir."
   ]
  },
  {
   "cell_type": "code",
   "execution_count": 15,
   "metadata": {},
   "outputs": [
    {
     "data": {
      "image/png": "[encoded data removed]",
      "text/plain": [
       "<Figure size 800x600 with 1 Axes>"
      ]
     },
     "metadata": {},
     "output_type": "display_data"
    }
   ],
   "source": [
    "# Predicciones del modelo\n",
    "y_pred = ridge.predict(X_test)\n",
    "rmse = np.sqrt(mean_squared_error(y_test, y_pred))\n",
    "r2 = r2_score(y_test, y_pred)\n",
    "\n",
    "# Gráfico de dispersión\n",
    "plt.figure(figsize=(8, 6))\n",
    "sns.scatterplot(x=y_test, y=y_pred, alpha=0.7, label=\"Predicciones vs Reales\", color=\"blue\")\n",
    "plt.plot([y_test.min(), y_test.max()], [y_test.min(), y_test.max()], 'r--', lw=2, label=\"Línea Ideal\")\n",
    "\n",
    "# Agregar valores de R² y RMSE a la gráfica\n",
    "plt.text(y_test.min(), y_test.max() * 0.9, f\"$R^2$: {r2:.2f}\\nRMSE: {rmse:.2f}\", fontsize=12, color=\"red\")\n",
    "\n",
    "# Etiquetas y título\n",
    "plt.xlabel(\"Valores Reales (y_test)\")\n",
    "plt.ylabel(\"Predicciones (y_pred)\")\n",
    "plt.title(\"Ridge Regression: Predicciones vs Valores Reales\")\n",
    "plt.legend()\n",
    "plt.show()"
   ]
  },
  {
   "cell_type": "markdown",
   "metadata": {},
   "source": [
    "Podemos observar que el modelo explica en un 85% de la variabilidad de los datos de prueba, eso nos quiere decir que no está tan mal pero podría mejorar.\n",
    "\n",
    "Por otro lado las predicciones del modelo están a 3.35 valores, esto nos indica que tenemos varios outliers altos que nos está afectando nuestro modelo. \n",
    "\n",
    "\n",
    "b. ¿Utilizaste alguna regularización?\n",
    "\n",
    "El algoritmo propuesto usa una regularización L2 o de Ridge, en este caso, con un alpha de: $1.5922827933410924$ Con esto, podemos evitar el sobreajuste y mejorar la calidad de nuestras predicciones."
   ]
  },
  {
   "cell_type": "markdown",
   "metadata": {},
   "source": [
    "2. Se te solicita que tu modelo sea tropicalizado a la población de estudiantes del iteso. Realiza la gráfica de tu propuesta con un scatterplot de los datos incluyendo el valor de R2 y RMSE."
   ]
  },
  {
   "cell_type": "markdown",
   "metadata": {},
   "source": [
    "a. ¿Agregarías datos a tu base de datos para mejorar las predicciones del modelo?\n",
    "\n",
    "Sí, como nuestra base de datos inicial es pequeña, el rendimiento del modelo no es lo suficientemente bueno.\n",
    "\n",
    "Es por esto que, se agregaron más datos a nuestra base ya que, con los anteriores no eran  suficientes para poder realizar predicciones de la mejor manera y se concentraba en el promedio de la mayoría de las personas que tomamos las medidas principales (el promedio de la muestra). Esto hacía que con los valores atípicos las predicciones no se le acercaban en los valores reales en lo más mínimo. Al agregar más datos se amplía el panorama para poder mejorar el modelo. "
   ]
  },
  {
   "cell_type": "code",
   "execution_count": 16,
   "metadata": {},
   "outputs": [
    {
     "data": {
      "text/plain": [
       "(18, 3)"
      ]
     },
     "execution_count": 16,
     "metadata": {},
     "output_type": "execute_result"
    }
   ],
   "source": [
    "#Solo tenemos 18 muestras\n",
    "df.shape"
   ]
  },
  {
   "cell_type": "markdown",
   "metadata": {},
   "source": [
    "b. ¿Cómo conseguirías dicha información?\n",
    "\n",
    "La información se podría obtener a través de las mediciones de los alumnos del iteso, no necesariamente que conozcamos, sino recaudar más infromación posible, acercándonos a preguntarles. \n",
    "\n",
    "Otra manera sería la creación de datos sínteticos que asemejen a los outliers o aquellos datos que tenemos pocos.\n",
    "\n",
    "En esta práctica, hemos tomado más muestras de alumnos obteniendo el siguiente resultado:"
   ]
  },
  {
   "cell_type": "code",
   "execution_count": 17,
   "metadata": {},
   "outputs": [
    {
     "data": {
      "text/plain": [
       "(99, 3)"
      ]
     },
     "execution_count": 17,
     "metadata": {},
     "output_type": "execute_result"
    }
   ],
   "source": [
    "df_amp = pd.read_csv('data/datos_gente_nuevo.csv')\n",
    "df_amp.shape"
   ]
  },
  {
   "cell_type": "markdown",
   "metadata": {},
   "source": [
    "Es un dataframe con 99 muestras, lo que amplia mucho más el panorama y nuestra información para el modelo."
   ]
  },
  {
   "cell_type": "markdown",
   "metadata": {},
   "source": [
    "c. ¿Modificarías algún parámetro de tu modelo?\n",
    "\n",
    "Sí, al añadir datos a nuestro modelo y mantener el alpha actual, al momento de hacer el entrenamiento y debido a la cantidad nueva de datos disponibles, podríamos caer nuevamente en un sobreajuste y sería necesario el buscar otro alpha que evite el overfitting.\n",
    "\n",
    "Nuestros datos nuevos (obtenidos a través de medición empirica de los estudiantes) se ve así:"
   ]
  },
  {
   "cell_type": "code",
   "execution_count": 18,
   "metadata": {},
   "outputs": [
    {
     "data": {
      "text/plain": [
       "<Axes: >"
      ]
     },
     "execution_count": 18,
     "metadata": {},
     "output_type": "execute_result"
    },
    {
     "data": {
      "image/png": "[encoded data removed]",
      "text/plain": [
       "<Figure size 640x480 with 1 Axes>"
      ]
     },
     "metadata": {},
     "output_type": "display_data"
    }
   ],
   "source": [
    "df_amp['altura'].hist(bins=15)"
   ]
  },
  {
   "cell_type": "markdown",
   "metadata": {},
   "source": [
    "Podemos apreciar que, a pesar de las nuevas muestras, seguimos teniendo muy poca información de las personas que miden más de 175 y menos de 160. Podemos crear modelos enfocados solo a estas alturas y crear copias sínteticas para su entrenamiento.\n",
    "\n",
    "Esto mejoraría la calidad de nuestras predicciones en estos rangos de altura.\n",
    "\n",
    "### Creación de los modelos enfocados a outliers:"
   ]
  },
  {
   "cell_type": "code",
   "execution_count": 19,
   "metadata": {},
   "outputs": [
    {
     "data": {
      "text/plain": [
       "((17, 3), (19, 3))"
      ]
     },
     "execution_count": 19,
     "metadata": {},
     "output_type": "execute_result"
    }
   ],
   "source": [
    "df_menor = df_amp[df_amp['altura'] < 160]\n",
    "df_mayor = df_amp[df_amp['altura'] > 175]\n",
    "\n",
    "df_menor.shape, df_mayor.shape"
   ]
  },
  {
   "cell_type": "markdown",
   "metadata": {},
   "source": [
    "A pesar de representar rangos de altura de 10 cm o más, solo tienen una concentración del 20% o menos de nuestros datos en cada una.\n",
    "\n",
    "Ahora creamos los datos sínteticos:\n",
    "\n",
    "#### Menor"
   ]
  },
  {
   "cell_type": "code",
   "execution_count": 20,
   "metadata": {},
   "outputs": [
    {
     "data": {
      "text/plain": [
       "(altura    154.588235\n",
       " ancho      40.058824\n",
       " pie        23.117647\n",
       " dtype: float64,\n",
       " altura    2.895229\n",
       " ancho     3.051036\n",
       " pie       0.820240\n",
       " dtype: float64)"
      ]
     },
     "execution_count": 20,
     "metadata": {},
     "output_type": "execute_result"
    }
   ],
   "source": [
    "df_menor.mean(), df_menor.std()"
   ]
  },
  {
   "cell_type": "markdown",
   "metadata": {},
   "source": [
    "Ahora solo nos apoyamos de herramientas como numpy para la creación síntetica de los datos:"
   ]
  },
  {
   "cell_type": "code",
   "execution_count": 21,
   "metadata": {},
   "outputs": [],
   "source": [
    "#Garantizamos los mismos resultados para que no dependan de la aleatoriedad del generador\n",
    "np.random.seed(42)"
   ]
  },
  {
   "cell_type": "code",
   "execution_count": 22,
   "metadata": {},
   "outputs": [
    {
     "data": {
      "application/vnd.microsoft.datawrangler.viewer.v0+json": {
       "columns": [
        {
         "name": "index",
         "rawType": "int64",
         "type": "integer"
        },
        {
         "name": "altura",
         "rawType": "float64",
         "type": "float"
        },
        {
         "name": "ancho",
         "rawType": "float64",
         "type": "float"
        },
        {
         "name": "pie",
         "rawType": "float64",
         "type": "float"
        }
       ],
       "conversionMethod": "pd.DataFrame",
       "ref": "69743392-3301-40d3-a387-40a892dc25c7",
       "rows": [
        [
         "0",
         "147.0",
         "34.0",
         "20.5"
        ],
        [
         "1",
         "149.0",
         "35.0",
         "21.5"
        ],
        [
         "2",
         "149.0",
         "35.0",
         "21.5"
        ],
        [
         "3",
         "149.0",
         "35.0",
         "21.6"
        ],
        [
         "4",
         "149.0",
         "36.0",
         "21.8"
        ]
       ],
       "shape": {
        "columns": 3,
        "rows": 5
       }
      },
      "text/html": [
       "<div>\n",
       "<style scoped>\n",
       "    .dataframe tbody tr th:only-of-type {\n",
       "        vertical-align: middle;\n",
       "    }\n",
       "\n",
       "    .dataframe tbody tr th {\n",
       "        vertical-align: top;\n",
       "    }\n",
       "\n",
       "    .dataframe thead th {\n",
       "        text-align: right;\n",
       "    }\n",
       "</style>\n",
       "<table border=\"1\" class=\"dataframe\">\n",
       "  <thead>\n",
       "    <tr style=\"text-align: right;\">\n",
       "      <th></th>\n",
       "      <th>altura</th>\n",
       "      <th>ancho</th>\n",
       "      <th>pie</th>\n",
       "    </tr>\n",
       "  </thead>\n",
       "  <tbody>\n",
       "    <tr>\n",
       "      <th>0</th>\n",
       "      <td>147.0</td>\n",
       "      <td>34.0</td>\n",
       "      <td>20.5</td>\n",
       "    </tr>\n",
       "    <tr>\n",
       "      <th>1</th>\n",
       "      <td>149.0</td>\n",
       "      <td>35.0</td>\n",
       "      <td>21.5</td>\n",
       "    </tr>\n",
       "    <tr>\n",
       "      <th>2</th>\n",
       "      <td>149.0</td>\n",
       "      <td>35.0</td>\n",
       "      <td>21.5</td>\n",
       "    </tr>\n",
       "    <tr>\n",
       "      <th>3</th>\n",
       "      <td>149.0</td>\n",
       "      <td>35.0</td>\n",
       "      <td>21.6</td>\n",
       "    </tr>\n",
       "    <tr>\n",
       "      <th>4</th>\n",
       "      <td>149.0</td>\n",
       "      <td>36.0</td>\n",
       "      <td>21.8</td>\n",
       "    </tr>\n",
       "  </tbody>\n",
       "</table>\n",
       "</div>"
      ],
      "text/plain": [
       "   altura  ancho   pie\n",
       "0   147.0   34.0  20.5\n",
       "1   149.0   35.0  21.5\n",
       "2   149.0   35.0  21.5\n",
       "3   149.0   35.0  21.6\n",
       "4   149.0   36.0  21.8"
      ]
     },
     "execution_count": 22,
     "metadata": {},
     "output_type": "execute_result"
    }
   ],
   "source": [
    "altura_m = np.sort(np.round(np.random.normal(loc=154.58823529411765, scale=2.895229341723462, size=100), 0))\n",
    "ancho_m = np.sort(np.round(np.random.normal(loc=40.058824, scale=3.051036, size=100), 0))\n",
    "pie_m = np.sort(np.round(np.random.normal(loc=23.117647, scale=0.820240, size=100), 1))\n",
    "df_menor_sintetico = pd.DataFrame({'altura': altura_m, 'ancho': ancho_m, 'pie': pie_m})\n",
    "df_menor_sintetico.head()"
   ]
  },
  {
   "cell_type": "markdown",
   "metadata": {},
   "source": [
    "### Mayor"
   ]
  },
  {
   "cell_type": "code",
   "execution_count": 23,
   "metadata": {},
   "outputs": [
    {
     "data": {
      "text/plain": [
       "(altura    180.105263\n",
       " ancho      49.263158\n",
       " pie        27.657895\n",
       " dtype: float64,\n",
       " altura    3.695263\n",
       " ancho     4.805577\n",
       " pie       1.014515\n",
       " dtype: float64)"
      ]
     },
     "execution_count": 23,
     "metadata": {},
     "output_type": "execute_result"
    }
   ],
   "source": [
    "df_mayor.mean(), df_mayor.std()"
   ]
  },
  {
   "cell_type": "code",
   "execution_count": 24,
   "metadata": {},
   "outputs": [
    {
     "data": {
      "application/vnd.microsoft.datawrangler.viewer.v0+json": {
       "columns": [
        {
         "name": "index",
         "rawType": "int64",
         "type": "integer"
        },
        {
         "name": "altura",
         "rawType": "float64",
         "type": "float"
        },
        {
         "name": "ancho",
         "rawType": "float64",
         "type": "float"
        },
        {
         "name": "pie",
         "rawType": "float64",
         "type": "float"
        }
       ],
       "conversionMethod": "pd.DataFrame",
       "ref": "55052801-c03e-46b9-a216-a540c536cb3a",
       "rows": [
        [
         "0",
         "172.0",
         "38.0",
         "25.2"
        ],
        [
         "1",
         "174.0",
         "39.0",
         "25.4"
        ],
        [
         "2",
         "175.0",
         "39.0",
         "25.6"
        ],
        [
         "3",
         "175.0",
         "41.0",
         "25.8"
        ],
        [
         "4",
         "175.0",
         "41.0",
         "25.8"
        ]
       ],
       "shape": {
        "columns": 3,
        "rows": 5
       }
      },
      "text/html": [
       "<div>\n",
       "<style scoped>\n",
       "    .dataframe tbody tr th:only-of-type {\n",
       "        vertical-align: middle;\n",
       "    }\n",
       "\n",
       "    .dataframe tbody tr th {\n",
       "        vertical-align: top;\n",
       "    }\n",
       "\n",
       "    .dataframe thead th {\n",
       "        text-align: right;\n",
       "    }\n",
       "</style>\n",
       "<table border=\"1\" class=\"dataframe\">\n",
       "  <thead>\n",
       "    <tr style=\"text-align: right;\">\n",
       "      <th></th>\n",
       "      <th>altura</th>\n",
       "      <th>ancho</th>\n",
       "      <th>pie</th>\n",
       "    </tr>\n",
       "  </thead>\n",
       "  <tbody>\n",
       "    <tr>\n",
       "      <th>0</th>\n",
       "      <td>172.0</td>\n",
       "      <td>38.0</td>\n",
       "      <td>25.2</td>\n",
       "    </tr>\n",
       "    <tr>\n",
       "      <th>1</th>\n",
       "      <td>174.0</td>\n",
       "      <td>39.0</td>\n",
       "      <td>25.4</td>\n",
       "    </tr>\n",
       "    <tr>\n",
       "      <th>2</th>\n",
       "      <td>175.0</td>\n",
       "      <td>39.0</td>\n",
       "      <td>25.6</td>\n",
       "    </tr>\n",
       "    <tr>\n",
       "      <th>3</th>\n",
       "      <td>175.0</td>\n",
       "      <td>41.0</td>\n",
       "      <td>25.8</td>\n",
       "    </tr>\n",
       "    <tr>\n",
       "      <th>4</th>\n",
       "      <td>175.0</td>\n",
       "      <td>41.0</td>\n",
       "      <td>25.8</td>\n",
       "    </tr>\n",
       "  </tbody>\n",
       "</table>\n",
       "</div>"
      ],
      "text/plain": [
       "   altura  ancho   pie\n",
       "0   172.0   38.0  25.2\n",
       "1   174.0   39.0  25.4\n",
       "2   175.0   39.0  25.6\n",
       "3   175.0   41.0  25.8\n",
       "4   175.0   41.0  25.8"
      ]
     },
     "execution_count": 24,
     "metadata": {},
     "output_type": "execute_result"
    }
   ],
   "source": [
    "altura_M = np.sort(np.round(np.random.normal(loc=180.105263, scale=3.695263, size=100), 0))\n",
    "ancho_M = np.sort(np.round(np.random.normal(loc=49.263158, scale=4.805577, size=100), 0))\n",
    "pie_M = np.sort(np.round(np.random.normal(loc=27.657895, scale=1.014515, size=100), 1))\n",
    "df_mayor_sintetico = pd.DataFrame({'altura': altura_M, 'ancho': ancho_M, 'pie': pie_M})\n",
    "df_mayor_sintetico.head()"
   ]
  },
  {
   "cell_type": "markdown",
   "metadata": {},
   "source": [
    "### Media\n",
    "\n",
    "Para no generar un desbalanceo, debemos de crear datos sínteticos en la media tambien"
   ]
  },
  {
   "cell_type": "code",
   "execution_count": 25,
   "metadata": {},
   "outputs": [
    {
     "data": {
      "text/plain": [
       "(55, 3)"
      ]
     },
     "execution_count": 25,
     "metadata": {},
     "output_type": "execute_result"
    }
   ],
   "source": [
    "df_media = df_amp[(df_amp['altura'] > 160) & (df_amp['altura'] < 175)]\n",
    "df_media.shape #Hacen falta mínimo unos 67 datos"
   ]
  },
  {
   "cell_type": "code",
   "execution_count": 26,
   "metadata": {},
   "outputs": [
    {
     "data": {
      "text/plain": [
       "(altura    168.090909\n",
       " ancho      44.254545\n",
       " pie        25.272727\n",
       " dtype: float64,\n",
       " altura    4.551242\n",
       " ancho     4.074392\n",
       " pie       1.426658\n",
       " dtype: float64)"
      ]
     },
     "execution_count": 26,
     "metadata": {},
     "output_type": "execute_result"
    }
   ],
   "source": [
    "df_media.mean(), df_media.std()"
   ]
  },
  {
   "cell_type": "code",
   "execution_count": 27,
   "metadata": {},
   "outputs": [
    {
     "data": {
      "application/vnd.microsoft.datawrangler.viewer.v0+json": {
       "columns": [
        {
         "name": "index",
         "rawType": "int64",
         "type": "integer"
        },
        {
         "name": "altura",
         "rawType": "float64",
         "type": "float"
        },
        {
         "name": "ancho",
         "rawType": "float64",
         "type": "float"
        },
        {
         "name": "pie",
         "rawType": "float64",
         "type": "float"
        }
       ],
       "conversionMethod": "pd.DataFrame",
       "ref": "facd2d79-c4bb-4484-b441-c8205f1e3bb8",
       "rows": [
        [
         "0",
         "162.0",
         "39.0",
         "23.8"
        ],
        [
         "1",
         "164.0",
         "40.0",
         "24.0"
        ],
        [
         "2",
         "164.0",
         "40.0",
         "24.1"
        ],
        [
         "3",
         "164.0",
         "41.0",
         "24.3"
        ],
        [
         "4",
         "164.0",
         "41.0",
         "24.4"
        ]
       ],
       "shape": {
        "columns": 3,
        "rows": 5
       }
      },
      "text/html": [
       "<div>\n",
       "<style scoped>\n",
       "    .dataframe tbody tr th:only-of-type {\n",
       "        vertical-align: middle;\n",
       "    }\n",
       "\n",
       "    .dataframe tbody tr th {\n",
       "        vertical-align: top;\n",
       "    }\n",
       "\n",
       "    .dataframe thead th {\n",
       "        text-align: right;\n",
       "    }\n",
       "</style>\n",
       "<table border=\"1\" class=\"dataframe\">\n",
       "  <thead>\n",
       "    <tr style=\"text-align: right;\">\n",
       "      <th></th>\n",
       "      <th>altura</th>\n",
       "      <th>ancho</th>\n",
       "      <th>pie</th>\n",
       "    </tr>\n",
       "  </thead>\n",
       "  <tbody>\n",
       "    <tr>\n",
       "      <th>0</th>\n",
       "      <td>162.0</td>\n",
       "      <td>39.0</td>\n",
       "      <td>23.8</td>\n",
       "    </tr>\n",
       "    <tr>\n",
       "      <th>1</th>\n",
       "      <td>164.0</td>\n",
       "      <td>40.0</td>\n",
       "      <td>24.0</td>\n",
       "    </tr>\n",
       "    <tr>\n",
       "      <th>2</th>\n",
       "      <td>164.0</td>\n",
       "      <td>40.0</td>\n",
       "      <td>24.1</td>\n",
       "    </tr>\n",
       "    <tr>\n",
       "      <th>3</th>\n",
       "      <td>164.0</td>\n",
       "      <td>41.0</td>\n",
       "      <td>24.3</td>\n",
       "    </tr>\n",
       "    <tr>\n",
       "      <th>4</th>\n",
       "      <td>164.0</td>\n",
       "      <td>41.0</td>\n",
       "      <td>24.4</td>\n",
       "    </tr>\n",
       "  </tbody>\n",
       "</table>\n",
       "</div>"
      ],
      "text/plain": [
       "   altura  ancho   pie\n",
       "0   162.0   39.0  23.8\n",
       "1   164.0   40.0  24.0\n",
       "2   164.0   40.0  24.1\n",
       "3   164.0   41.0  24.3\n",
       "4   164.0   41.0  24.4"
      ]
     },
     "execution_count": 27,
     "metadata": {},
     "output_type": "execute_result"
    }
   ],
   "source": [
    "#En este caso, usamos la mediana en vez de la media \n",
    "altura_media = np.sort(np.round(np.random.normal(loc=167.5, scale=2.13, size=67), 0)) \n",
    "ancho_media = np.sort(np.round(np.random.normal(loc=44.5, scale=2.01, size=67), 0))\n",
    "pie_media = np.sort(np.round(np.random.normal(loc=26, scale=1.19, size=67), 1))\n",
    "df_media_sint = pd.DataFrame({'altura': altura_media, 'ancho': ancho_media, 'pie': pie_media})\n",
    "df_media_sint.head()"
   ]
  },
  {
   "cell_type": "code",
   "execution_count": 28,
   "metadata": {},
   "outputs": [
    {
     "data": {
      "application/vnd.microsoft.datawrangler.viewer.v0+json": {
       "columns": [
        {
         "name": "index",
         "rawType": "int64",
         "type": "integer"
        },
        {
         "name": "altura",
         "rawType": "float64",
         "type": "float"
        },
        {
         "name": "ancho",
         "rawType": "float64",
         "type": "float"
        },
        {
         "name": "pie",
         "rawType": "float64",
         "type": "float"
        }
       ],
       "conversionMethod": "pd.DataFrame",
       "ref": "fb4b6854-c80c-465c-b6ec-a89e1a6b4b11",
       "rows": [
        [
         "0",
         "161.0",
         "35.0",
         "21.8"
        ],
        [
         "1",
         "161.0",
         "38.0",
         "22.4"
        ],
        [
         "2",
         "162.0",
         "38.0",
         "22.6"
        ],
        [
         "3",
         "163.0",
         "39.0",
         "23.0"
        ],
        [
         "4",
         "164.0",
         "39.0",
         "23.1"
        ]
       ],
       "shape": {
        "columns": 3,
        "rows": 5
       }
      },
      "text/html": [
       "<div>\n",
       "<style scoped>\n",
       "    .dataframe tbody tr th:only-of-type {\n",
       "        vertical-align: middle;\n",
       "    }\n",
       "\n",
       "    .dataframe tbody tr th {\n",
       "        vertical-align: top;\n",
       "    }\n",
       "\n",
       "    .dataframe thead th {\n",
       "        text-align: right;\n",
       "    }\n",
       "</style>\n",
       "<table border=\"1\" class=\"dataframe\">\n",
       "  <thead>\n",
       "    <tr style=\"text-align: right;\">\n",
       "      <th></th>\n",
       "      <th>altura</th>\n",
       "      <th>ancho</th>\n",
       "      <th>pie</th>\n",
       "    </tr>\n",
       "  </thead>\n",
       "  <tbody>\n",
       "    <tr>\n",
       "      <th>0</th>\n",
       "      <td>161.0</td>\n",
       "      <td>35.0</td>\n",
       "      <td>21.8</td>\n",
       "    </tr>\n",
       "    <tr>\n",
       "      <th>1</th>\n",
       "      <td>161.0</td>\n",
       "      <td>38.0</td>\n",
       "      <td>22.4</td>\n",
       "    </tr>\n",
       "    <tr>\n",
       "      <th>2</th>\n",
       "      <td>162.0</td>\n",
       "      <td>38.0</td>\n",
       "      <td>22.6</td>\n",
       "    </tr>\n",
       "    <tr>\n",
       "      <th>3</th>\n",
       "      <td>163.0</td>\n",
       "      <td>39.0</td>\n",
       "      <td>23.0</td>\n",
       "    </tr>\n",
       "    <tr>\n",
       "      <th>4</th>\n",
       "      <td>164.0</td>\n",
       "      <td>39.0</td>\n",
       "      <td>23.1</td>\n",
       "    </tr>\n",
       "  </tbody>\n",
       "</table>\n",
       "</div>"
      ],
      "text/plain": [
       "   altura  ancho   pie\n",
       "0   161.0   35.0  21.8\n",
       "1   161.0   38.0  22.4\n",
       "2   162.0   38.0  22.6\n",
       "3   163.0   39.0  23.0\n",
       "4   164.0   39.0  23.1"
      ]
     },
     "execution_count": 28,
     "metadata": {},
     "output_type": "execute_result"
    }
   ],
   "source": [
    "altura_media = np.sort(np.round(np.random.normal(loc=168.090909, scale=4.551242, size=67), 0)) \n",
    "ancho_media = np.sort(np.round(np.random.normal(loc=44.254545, scale=4.074392, size=67), 0))\n",
    "pie_media = np.sort(np.round(np.random.normal(loc=25.272727, scale=1.426658, size=67), 1))\n",
    "df_media_sint = pd.DataFrame({'altura': altura_media, 'ancho': ancho_media, 'pie': pie_media})\n",
    "df_media_sint.head()"
   ]
  },
  {
   "cell_type": "markdown",
   "metadata": {},
   "source": [
    "### Dataframe junto\n",
    "\n",
    "Gracias a las nuevas muestras, tanto reales como sínteticas, podemos obtener este dataframe nuevo:"
   ]
  },
  {
   "cell_type": "code",
   "execution_count": 29,
   "metadata": {},
   "outputs": [
    {
     "data": {
      "text/plain": [
       "(267, 3)"
      ]
     },
     "execution_count": 29,
     "metadata": {},
     "output_type": "execute_result"
    }
   ],
   "source": [
    "df_amp_sint = pd.concat([df_media_sint, df_menor_sintetico, df_mayor_sintetico], ignore_index=True)\n",
    "df_amp_sint.shape"
   ]
  },
  {
   "cell_type": "markdown",
   "metadata": {},
   "source": [
    "Ahora tenemos un dataframe con casí 300 muestras y que, su distribución de alturas se ve así:"
   ]
  },
  {
   "cell_type": "code",
   "execution_count": 30,
   "metadata": {},
   "outputs": [
    {
     "data": {
      "text/plain": [
       "<Axes: >"
      ]
     },
     "execution_count": 30,
     "metadata": {},
     "output_type": "execute_result"
    },
    {
     "data": {
      "image/png": "[encoded data removed]",
      "text/plain": [
       "<Figure size 640x480 with 1 Axes>"
      ]
     },
     "metadata": {},
     "output_type": "display_data"
    }
   ],
   "source": [
    "df_amp_sint['altura'].hist(bins=30)"
   ]
  },
  {
   "cell_type": "markdown",
   "metadata": {},
   "source": [
    "Esta distribución ya representa más información en los datos donde no teniamos información. Además, tenemos los datos separados en menores y mayores donde nuestra primera muestra de la población carecía de entradas por lo que, ahora podemos entrenar modelos especificos para estos rangos o mejorar la calidad de un algoritmo general.\n",
    "\n",
    "Veamos como funciona nuestro modelo tomando estos datos, representando de mejor forma la población general del ITESO:\n",
    "\n",
    "Primero separamos en entrenamiento y prueba:"
   ]
  },
  {
   "cell_type": "code",
   "execution_count": 31,
   "metadata": {},
   "outputs": [],
   "source": [
    "X = df_amp_sint[['ancho','pie']]\n",
    "y = df_amp_sint['altura']\n",
    "X_train_iteso, X_test_iteso, y_train_iteso, y_test_iteso = train_test_split(X, y, test_size = 0.2, random_state = 42)"
   ]
  },
  {
   "cell_type": "markdown",
   "metadata": {},
   "source": [
    "Entrenamos y buscamos el mejor alpha:"
   ]
  },
  {
   "cell_type": "code",
   "execution_count": 32,
   "metadata": {},
   "outputs": [
    {
     "name": "stdout",
     "output_type": "stream",
     "text": [
      "Mejor alpha encontrado: 1.0\n"
     ]
    }
   ],
   "source": [
    "ridge_iteso = Ridge()\n",
    "grid_search = GridSearchCV(ridge_iteso, param_grid, cv=5, scoring='r2')\n",
    "grid_search.fit(X_train_iteso, y_train_iteso)\n",
    "best_alpha_iteso = grid_search.best_params_['alpha']\n",
    "print(f\"Mejor alpha encontrado: {best_alpha_iteso}\")"
   ]
  },
  {
   "cell_type": "code",
   "execution_count": 33,
   "metadata": {},
   "outputs": [
    {
     "name": "stdout",
     "output_type": "stream",
     "text": [
      "R2 0.9612139521745917 RMSE 2.3177031548053977\n"
     ]
    }
   ],
   "source": [
    "ridge_iteso = Ridge(best_alpha_iteso)\n",
    "ridge_iteso.fit(X_train_iteso, y_train_iteso)\n",
    "y_pred_iteso = ridge_iteso.predict(X_test_iteso)\n",
    "r2 = r2_score(y_test_iteso, y_pred_iteso)\n",
    "rmse = np.sqrt(mean_squared_error(y_test_iteso, y_pred_iteso))\n",
    "print(\"R2\", r2, 'RMSE', rmse)"
   ]
  },
  {
   "cell_type": "markdown",
   "metadata": {},
   "source": [
    "Obtenemos buenos resultados en el R2 que no muestrns un sobreajuste claro, sin embargo, el RMSE es bastante alto. Veamos como se ve la gráfica de los resultados:"
   ]
  },
  {
   "cell_type": "code",
   "execution_count": 34,
   "metadata": {},
   "outputs": [
    {
     "data": {
      "image/png": "[encoded data removed]",
      "text/plain": [
       "<Figure size 800x600 with 1 Axes>"
      ]
     },
     "metadata": {},
     "output_type": "display_data"
    }
   ],
   "source": [
    "plt.figure(figsize=(8, 6))\n",
    "plt.scatter(x=y_test_iteso, y=y_pred_iteso, alpha=0.6, edgecolors='k',label=\"Predicciones vs Reales\", color=\"blue\")\n",
    "plt.plot([y_test_iteso.min(), y_test_iteso.max()], [y_test_iteso.min(), y_test_iteso.max()], 'r--', lw=2,label=\"Línea Ideal\")  # Línea de referencia\n",
    "plt.xlabel(\"Altura real\")\n",
    "plt.ylabel(\"Altura predicha\")\n",
    "plt.title(f\"Scatterplot de predicciones\")\n",
    "plt.text(y_test_iteso.min(), y_test_iteso.max() * 0.9, f\"$R^2$: {r2:.2f}\\nRMSE: {rmse:.2f}\", fontsize=12, color=\"red\")\n",
    "plt.grid(True)\n",
    "plt.show()"
   ]
  },
  {
   "cell_type": "markdown",
   "metadata": {},
   "source": [
    "La mayoría de los errores se encuentran en donde era la media de nuestros valores reales, por lo que tal vez sea recomendable separar en 3 modelos de predicción. Los sínteticos menores, los normales y los mayores."
   ]
  },
  {
   "cell_type": "markdown",
   "metadata": {},
   "source": [
    "### Creación de los 3 modelos separados:\n",
    "\n",
    "Modelo de los menores:"
   ]
  },
  {
   "cell_type": "code",
   "execution_count": 35,
   "metadata": {},
   "outputs": [],
   "source": [
    "X = df_menor_sintetico[['ancho','pie']]\n",
    "y = df_menor_sintetico['altura']\n",
    "X_train_menor, X_test_menor, y_train_menor, y_test_menor = train_test_split(X, y, test_size = 0.2, random_state = 42)"
   ]
  },
  {
   "cell_type": "code",
   "execution_count": 36,
   "metadata": {},
   "outputs": [
    {
     "name": "stdout",
     "output_type": "stream",
     "text": [
      "Mejor alpha encontrado: 2.535364493970112\n"
     ]
    }
   ],
   "source": [
    "ridge_menor = Ridge()\n",
    "grid_search = GridSearchCV(ridge_menor, param_grid, cv=5, scoring='r2')\n",
    "grid_search.fit(X_train_menor, y_train_menor)\n",
    "best_alpha_menor = grid_search.best_params_['alpha']\n",
    "print(f\"Mejor alpha encontrado: {best_alpha_menor}\")"
   ]
  },
  {
   "cell_type": "code",
   "execution_count": 37,
   "metadata": {},
   "outputs": [
    {
     "name": "stdout",
     "output_type": "stream",
     "text": [
      "R2 0.9436357795918601 RMSE 0.6496361291568902\n"
     ]
    }
   ],
   "source": [
    "ridge_menor = Ridge(best_alpha_menor)\n",
    "ridge_menor.fit(X_train_menor, y_train_menor)\n",
    "y_pred_menor = ridge_menor.predict(X_test_menor)\n",
    "r2 = r2_score(y_test_menor, y_pred_menor)\n",
    "rmse = np.sqrt(mean_squared_error(y_test_menor, y_pred_menor))\n",
    "print(\"R2\", r2, 'RMSE', rmse)"
   ]
  },
  {
   "cell_type": "markdown",
   "metadata": {},
   "source": [
    "Estos resultados muestran un claro sobreajuste, podemos mover las alphas para evitar el overfitting."
   ]
  },
  {
   "cell_type": "code",
   "execution_count": 38,
   "metadata": {},
   "outputs": [
    {
     "name": "stdout",
     "output_type": "stream",
     "text": [
      "alpha 1.0 R2 0.9525103232419085 RMSE 0.5963044144782175\n",
      "alpha 23.11111111111111 R2 0.9199552811998123 RMSE 0.7741671860886417\n",
      "alpha 45.22222222222222 R2 0.9103270481802812 RMSE 0.8194060206943472\n",
      "alpha 67.33333333333333 R2 0.9014534422512522 RMSE 0.8589920553437902\n",
      "alpha 89.44444444444444 R2 0.8925195728339553 RMSE 0.8970839974081353\n",
      "alpha 111.55555555555556 R2 0.8834077706011008 RMSE 0.9343362979271745\n",
      "alpha 133.66666666666666 R2 0.8741210317932538 RMSE 0.9708340612318936\n",
      "alpha 155.77777777777777 R2 0.8646911872482893 RMSE 1.0065409755585877\n",
      "alpha 177.88888888888889 R2 0.8551558527309983 RMSE 1.0414031652902975\n",
      "alpha 200.0 R2 0.8455513877476604 RMSE 1.0753762059109329\n"
     ]
    }
   ],
   "source": [
    "alphas_test = np.linspace(1, 200, 10)\n",
    "for alpha in alphas_test:\n",
    "    ridge_menor = Ridge(alpha=alpha)\n",
    "    ridge_menor.fit(X_train_menor, y_train_menor)\n",
    "    y_pred_menor = ridge_menor.predict(X_test_menor)\n",
    "    r2_menor = r2_score(y_test_menor, y_pred_menor)\n",
    "    rmse_menor = np.sqrt(mean_squared_error(y_test_menor, y_pred_menor))\n",
    "    print(\"alpha\", alpha, \"R2\", r2_menor, 'RMSE', rmse_menor)"
   ]
  },
  {
   "cell_type": "markdown",
   "metadata": {},
   "source": [
    "Creemos que el que tiene un `R2` de 0.901 puede ser un buen alpha."
   ]
  },
  {
   "cell_type": "code",
   "execution_count": 39,
   "metadata": {},
   "outputs": [
    {
     "name": "stdout",
     "output_type": "stream",
     "text": [
      "R2 0.9014668042701455 RMSE 0.8589338176060397\n"
     ]
    }
   ],
   "source": [
    "ridge_menor = Ridge(alpha=67.3)\n",
    "ridge_menor.fit(X_train_menor, y_train_menor)\n",
    "y_pred_menor = ridge_menor.predict(X_test_menor)\n",
    "r2_menor = r2_score(y_test_menor, y_pred_menor)\n",
    "rmse_menor = np.sqrt(mean_squared_error(y_test_menor, y_pred_menor))\n",
    "print(\"R2\", r2_menor, 'RMSE', rmse_menor)"
   ]
  },
  {
   "cell_type": "markdown",
   "metadata": {},
   "source": [
    "Modelo de la media 'real':"
   ]
  },
  {
   "cell_type": "code",
   "execution_count": 40,
   "metadata": {},
   "outputs": [],
   "source": [
    "X = df_media_sint[['ancho','pie']]\n",
    "y = df_media_sint['altura']\n",
    "X_train_media, X_test_media, y_train_media, y_test_media = train_test_split(X, y, test_size = 0.2, random_state = 42)"
   ]
  },
  {
   "cell_type": "code",
   "execution_count": 41,
   "metadata": {},
   "outputs": [
    {
     "name": "stdout",
     "output_type": "stream",
     "text": [
      "Mejor alpha encontrado: 20.565123083486515\n"
     ]
    }
   ],
   "source": [
    "ridge_media = Ridge()\n",
    "grid_search = GridSearchCV(ridge_media, param_grid, cv=5, scoring='r2')\n",
    "grid_search.fit(X_train_media, y_train_media)\n",
    "best_alpha_media = grid_search.best_params_['alpha']\n",
    "print(f\"Mejor alpha encontrado: {best_alpha_media}\")"
   ]
  },
  {
   "cell_type": "code",
   "execution_count": 42,
   "metadata": {},
   "outputs": [
    {
     "name": "stdout",
     "output_type": "stream",
     "text": [
      "alpha 1.0 R2 0.8825166026036829 RMSE 1.5299270804829197\n",
      "alpha 23.11111111111111 R2 0.8969562697695366 RMSE 1.432825392309451\n",
      "alpha 45.22222222222222 R2 0.9084613353964729 RMSE 1.350469467268458\n",
      "alpha 67.33333333333333 R2 0.9175933136800949 RMSE 1.2813380085835921\n",
      "alpha 89.44444444444444 R2 0.9246630737125617 RMSE 1.2251420099953063\n",
      "alpha 111.55555555555556 R2 0.9299357150067946 RMSE 1.181492123222612\n",
      "alpha 133.66666666666666 R2 0.9336400842119718 RMSE 1.149834662365328\n",
      "alpha 155.77777777777777 R2 0.9359745626517519 RMSE 1.1294285462327633\n",
      "alpha 177.88888888888889 R2 0.9371116198150832 RMSE 1.1193545986235531\n",
      "alpha 200.0 R2 0.9372015667294907 RMSE 1.1185538265385233\n"
     ]
    }
   ],
   "source": [
    "for alpha in alphas_test:\n",
    "    ridge_media = Ridge(alpha=alpha)\n",
    "    ridge_media.fit(X_train_media, y_train_media)\n",
    "    y_pred_media = ridge_media.predict(X_test_media)\n",
    "    r2_media = r2_score(y_test_media, y_pred_media)\n",
    "    rmse_media = np.sqrt(mean_squared_error(y_test_media, y_pred_media))\n",
    "    print(\"alpha\", alpha, \"R2\", r2_media, 'RMSE', rmse_media)"
   ]
  },
  {
   "cell_type": "markdown",
   "metadata": {},
   "source": [
    "Creemos que el que tiene un `R2` de 0.917 es el ideal para prevenir el sobreajuste."
   ]
  },
  {
   "cell_type": "code",
   "execution_count": 43,
   "metadata": {},
   "outputs": [
    {
     "name": "stdout",
     "output_type": "stream",
     "text": [
      "R2 0.9175811706714606 RMSE 1.2814324106646309\n"
     ]
    }
   ],
   "source": [
    "ridge_media = Ridge(alpha=67.3)\n",
    "ridge_media.fit(X_train_media, y_train_media)\n",
    "y_pred_media = ridge_media.predict(X_test_media)\n",
    "r2 = r2_score(y_test_media, y_pred_media)\n",
    "rmse = np.sqrt(mean_squared_error(y_test_media, y_pred_media))\n",
    "print(\"R2\", r2, 'RMSE', rmse)"
   ]
  },
  {
   "cell_type": "markdown",
   "metadata": {},
   "source": [
    "Modelo de los mayores:"
   ]
  },
  {
   "cell_type": "code",
   "execution_count": 44,
   "metadata": {},
   "outputs": [],
   "source": [
    "X = df_mayor_sintetico[['ancho','pie']]\n",
    "y = df_mayor_sintetico['altura']\n",
    "X_train_mayor, X_test_mayor, y_train_mayor, y_test_mayor = train_test_split(X, y, test_size = 0.2, random_state = 42)"
   ]
  },
  {
   "cell_type": "code",
   "execution_count": 45,
   "metadata": {},
   "outputs": [
    {
     "name": "stdout",
     "output_type": "stream",
     "text": [
      "Mejor alpha encontrado: 1.0\n"
     ]
    }
   ],
   "source": [
    "ridge_mayor = Ridge()\n",
    "grid_search = GridSearchCV(ridge_mayor, param_grid, cv=5, scoring='r2')\n",
    "grid_search.fit(X_train_mayor, y_train_mayor)\n",
    "best_alpha_mayor = grid_search.best_params_['alpha']\n",
    "print(f\"Mejor alpha encontrado: {best_alpha_mayor}\")"
   ]
  },
  {
   "cell_type": "code",
   "execution_count": 46,
   "metadata": {},
   "outputs": [
    {
     "name": "stdout",
     "output_type": "stream",
     "text": [
      "alpha 10.0 R2 0.9794418014343916 RMSE 0.45539085193992906\n",
      "alpha 16.378937069540637 R2 0.9786483812672835 RMSE 0.4640953069858368\n",
      "alpha 26.826957952797258 R2 0.977732285562313 RMSE 0.4739468001687199\n",
      "alpha 43.939705607607905 R2 0.9764559330631881 RMSE 0.4873405126039595\n",
      "alpha 71.96856730011521 R2 0.9743751037695514 RMSE 0.5084202402783063\n",
      "alpha 117.87686347935866 R2 0.970620167610806 RMSE 0.5443978868676784\n",
      "alpha 193.06977288832496 R2 0.9634408698683203 RMSE 0.6072810100796163\n",
      "alpha 316.22776601683796 R2 0.9493948342120831 RMSE 0.7144785580306877\n",
      "alpha 517.9474679231213 R2 0.9222867160827566 RMSE 0.8853997693218544\n",
      "alpha 848.3428982440716 R2 0.8728090199043527 RMSE 1.132713119776955\n",
      "alpha 1389.4954943731375 R2 0.7911006131461115 RMSE 1.451644779168995\n",
      "alpha 2275.8459260747886 R2 0.6736137038920433 RMSE 1.8145031722179525\n",
      "alpha 3727.593720314938 R2 0.5299256499073636 RMSE 2.1775846726498305\n",
      "alpha 6105.402296585326 R2 0.3808494807348657 RMSE 2.49913602332627\n",
      "alpha 10000.0 R2 0.24744458269311786 RMSE 2.755250038033422\n"
     ]
    }
   ],
   "source": [
    "alphas_test = np.logspace(1, 4, 15)\n",
    "for alpha in alphas_test:\n",
    "    ridge_mayor = Ridge(alpha=alpha)\n",
    "    ridge_mayor.fit(X_train_mayor, y_train_mayor)\n",
    "    y_pred_mayor = ridge_mayor.predict(X_test_mayor)\n",
    "    r2_mayor = r2_score(y_test_mayor, y_pred_mayor)\n",
    "    rmse_mayor = np.sqrt(mean_squared_error(y_test_mayor, y_pred_mayor))\n",
    "    print(\"alpha\", alpha, \"R2\", r2_mayor, 'RMSE', rmse_mayor)"
   ]
  },
  {
   "cell_type": "markdown",
   "metadata": {},
   "source": [
    "El alpha que usaremos es el que nos tiene un `R2` de $0.9222867160827566$"
   ]
  },
  {
   "cell_type": "code",
   "execution_count": 47,
   "metadata": {},
   "outputs": [
    {
     "name": "stdout",
     "output_type": "stream",
     "text": [
      "R2 0.9222877837230092 RMSE 0.8853936874036006\n"
     ]
    }
   ],
   "source": [
    "ridge_mayor = Ridge(alpha=517.94)\n",
    "ridge_mayor.fit(X_train_mayor, y_train_mayor)\n",
    "y_pred_mayor = ridge_mayor.predict(X_test_mayor)\n",
    "r2_mayor = r2_score(y_test_mayor, y_pred_mayor)\n",
    "rmse_mayor = np.sqrt(mean_squared_error(y_test_mayor, y_pred_mayor))\n",
    "print(\"R2\", r2_mayor, 'RMSE', rmse_mayor)"
   ]
  },
  {
   "cell_type": "markdown",
   "metadata": {},
   "source": [
    "### Unión de los 3 modelos"
   ]
  },
  {
   "cell_type": "code",
   "execution_count": 48,
   "metadata": {},
   "outputs": [
    {
     "data": {
      "application/vnd.microsoft.datawrangler.viewer.v0+json": {
       "columns": [
        {
         "name": "index",
         "rawType": "object",
         "type": "string"
        },
        {
         "name": "altura",
         "rawType": "float64",
         "type": "float"
        },
        {
         "name": "ancho",
         "rawType": "float64",
         "type": "float"
        },
        {
         "name": "pie",
         "rawType": "float64",
         "type": "float"
        }
       ],
       "conversionMethod": "pd.DataFrame",
       "ref": "1fa53e13-b6f8-40c9-b516-1adcdd9563ca",
       "rows": [
        [
         "count",
         "100.0",
         "100.0",
         "100.0"
        ],
        [
         "mean",
         "154.29",
         "40.15",
         "23.171000000000003"
        ],
        [
         "std",
         "2.663994873656605",
         "2.98607881119482",
         "0.8938956846016729"
        ],
        [
         "min",
         "147.0",
         "34.0",
         "20.5"
        ],
        [
         "25%",
         "153.0",
         "38.0",
         "22.6"
        ],
        [
         "50%",
         "154.0",
         "40.0",
         "23.2"
        ],
        [
         "75%",
         "156.0",
         "42.0",
         "23.7"
        ],
        [
         "max",
         "160.0",
         "48.0",
         "26.3"
        ]
       ],
       "shape": {
        "columns": 3,
        "rows": 8
       }
      },
      "text/html": [
       "<div>\n",
       "<style scoped>\n",
       "    .dataframe tbody tr th:only-of-type {\n",
       "        vertical-align: middle;\n",
       "    }\n",
       "\n",
       "    .dataframe tbody tr th {\n",
       "        vertical-align: top;\n",
       "    }\n",
       "\n",
       "    .dataframe thead th {\n",
       "        text-align: right;\n",
       "    }\n",
       "</style>\n",
       "<table border=\"1\" class=\"dataframe\">\n",
       "  <thead>\n",
       "    <tr style=\"text-align: right;\">\n",
       "      <th></th>\n",
       "      <th>altura</th>\n",
       "      <th>ancho</th>\n",
       "      <th>pie</th>\n",
       "    </tr>\n",
       "  </thead>\n",
       "  <tbody>\n",
       "    <tr>\n",
       "      <th>count</th>\n",
       "      <td>100.000000</td>\n",
       "      <td>100.000000</td>\n",
       "      <td>100.000000</td>\n",
       "    </tr>\n",
       "    <tr>\n",
       "      <th>mean</th>\n",
       "      <td>154.290000</td>\n",
       "      <td>40.150000</td>\n",
       "      <td>23.171000</td>\n",
       "    </tr>\n",
       "    <tr>\n",
       "      <th>std</th>\n",
       "      <td>2.663995</td>\n",
       "      <td>2.986079</td>\n",
       "      <td>0.893896</td>\n",
       "    </tr>\n",
       "    <tr>\n",
       "      <th>min</th>\n",
       "      <td>147.000000</td>\n",
       "      <td>34.000000</td>\n",
       "      <td>20.500000</td>\n",
       "    </tr>\n",
       "    <tr>\n",
       "      <th>25%</th>\n",
       "      <td>153.000000</td>\n",
       "      <td>38.000000</td>\n",
       "      <td>22.600000</td>\n",
       "    </tr>\n",
       "    <tr>\n",
       "      <th>50%</th>\n",
       "      <td>154.000000</td>\n",
       "      <td>40.000000</td>\n",
       "      <td>23.200000</td>\n",
       "    </tr>\n",
       "    <tr>\n",
       "      <th>75%</th>\n",
       "      <td>156.000000</td>\n",
       "      <td>42.000000</td>\n",
       "      <td>23.700000</td>\n",
       "    </tr>\n",
       "    <tr>\n",
       "      <th>max</th>\n",
       "      <td>160.000000</td>\n",
       "      <td>48.000000</td>\n",
       "      <td>26.300000</td>\n",
       "    </tr>\n",
       "  </tbody>\n",
       "</table>\n",
       "</div>"
      ],
      "text/plain": [
       "           altura       ancho         pie\n",
       "count  100.000000  100.000000  100.000000\n",
       "mean   154.290000   40.150000   23.171000\n",
       "std      2.663995    2.986079    0.893896\n",
       "min    147.000000   34.000000   20.500000\n",
       "25%    153.000000   38.000000   22.600000\n",
       "50%    154.000000   40.000000   23.200000\n",
       "75%    156.000000   42.000000   23.700000\n",
       "max    160.000000   48.000000   26.300000"
      ]
     },
     "execution_count": 48,
     "metadata": {},
     "output_type": "execute_result"
    }
   ],
   "source": [
    "df_menor_sintetico.describe()"
   ]
  },
  {
   "cell_type": "code",
   "execution_count": 70,
   "metadata": {},
   "outputs": [
    {
     "data": {
      "application/vnd.microsoft.datawrangler.viewer.v0+json": {
       "columns": [
        {
         "name": "index",
         "rawType": "object",
         "type": "string"
        },
        {
         "name": "altura",
         "rawType": "float64",
         "type": "float"
        },
        {
         "name": "ancho",
         "rawType": "float64",
         "type": "float"
        },
        {
         "name": "pie",
         "rawType": "float64",
         "type": "float"
        }
       ],
       "conversionMethod": "pd.DataFrame",
       "ref": "8c791ab9-2468-464c-a835-2bcc16d2f3dc",
       "rows": [
        [
         "count",
         "67.0",
         "67.0",
         "67.0"
        ],
        [
         "mean",
         "168.56716417910448",
         "45.492537313432834",
         "25.280597014925373"
        ],
        [
         "std",
         "4.239868067547923",
         "4.01275668235297",
         "1.3905785591191402"
        ],
        [
         "min",
         "161.0",
         "35.0",
         "21.8"
        ],
        [
         "25%",
         "166.0",
         "43.0",
         "24.3"
        ],
        [
         "50%",
         "168.0",
         "45.0",
         "25.3"
        ],
        [
         "75%",
         "171.0",
         "49.0",
         "26.25"
        ],
        [
         "max",
         "179.0",
         "55.0",
         "27.9"
        ]
       ],
       "shape": {
        "columns": 3,
        "rows": 8
       }
      },
      "text/html": [
       "<div>\n",
       "<style scoped>\n",
       "    .dataframe tbody tr th:only-of-type {\n",
       "        vertical-align: middle;\n",
       "    }\n",
       "\n",
       "    .dataframe tbody tr th {\n",
       "        vertical-align: top;\n",
       "    }\n",
       "\n",
       "    .dataframe thead th {\n",
       "        text-align: right;\n",
       "    }\n",
       "</style>\n",
       "<table border=\"1\" class=\"dataframe\">\n",
       "  <thead>\n",
       "    <tr style=\"text-align: right;\">\n",
       "      <th></th>\n",
       "      <th>altura</th>\n",
       "      <th>ancho</th>\n",
       "      <th>pie</th>\n",
       "    </tr>\n",
       "  </thead>\n",
       "  <tbody>\n",
       "    <tr>\n",
       "      <th>count</th>\n",
       "      <td>67.000000</td>\n",
       "      <td>67.000000</td>\n",
       "      <td>67.000000</td>\n",
       "    </tr>\n",
       "    <tr>\n",
       "      <th>mean</th>\n",
       "      <td>168.567164</td>\n",
       "      <td>45.492537</td>\n",
       "      <td>25.280597</td>\n",
       "    </tr>\n",
       "    <tr>\n",
       "      <th>std</th>\n",
       "      <td>4.239868</td>\n",
       "      <td>4.012757</td>\n",
       "      <td>1.390579</td>\n",
       "    </tr>\n",
       "    <tr>\n",
       "      <th>min</th>\n",
       "      <td>161.000000</td>\n",
       "      <td>35.000000</td>\n",
       "      <td>21.800000</td>\n",
       "    </tr>\n",
       "    <tr>\n",
       "      <th>25%</th>\n",
       "      <td>166.000000</td>\n",
       "      <td>43.000000</td>\n",
       "      <td>24.300000</td>\n",
       "    </tr>\n",
       "    <tr>\n",
       "      <th>50%</th>\n",
       "      <td>168.000000</td>\n",
       "      <td>45.000000</td>\n",
       "      <td>25.300000</td>\n",
       "    </tr>\n",
       "    <tr>\n",
       "      <th>75%</th>\n",
       "      <td>171.000000</td>\n",
       "      <td>49.000000</td>\n",
       "      <td>26.250000</td>\n",
       "    </tr>\n",
       "    <tr>\n",
       "      <th>max</th>\n",
       "      <td>179.000000</td>\n",
       "      <td>55.000000</td>\n",
       "      <td>27.900000</td>\n",
       "    </tr>\n",
       "  </tbody>\n",
       "</table>\n",
       "</div>"
      ],
      "text/plain": [
       "           altura      ancho        pie\n",
       "count   67.000000  67.000000  67.000000\n",
       "mean   168.567164  45.492537  25.280597\n",
       "std      4.239868   4.012757   1.390579\n",
       "min    161.000000  35.000000  21.800000\n",
       "25%    166.000000  43.000000  24.300000\n",
       "50%    168.000000  45.000000  25.300000\n",
       "75%    171.000000  49.000000  26.250000\n",
       "max    179.000000  55.000000  27.900000"
      ]
     },
     "execution_count": 70,
     "metadata": {},
     "output_type": "execute_result"
    }
   ],
   "source": [
    "df_media_sint.describe()"
   ]
  },
  {
   "cell_type": "code",
   "execution_count": 50,
   "metadata": {},
   "outputs": [
    {
     "data": {
      "application/vnd.microsoft.datawrangler.viewer.v0+json": {
       "columns": [
        {
         "name": "index",
         "rawType": "object",
         "type": "string"
        },
        {
         "name": "altura",
         "rawType": "float64",
         "type": "float"
        },
        {
         "name": "ancho",
         "rawType": "float64",
         "type": "float"
        },
        {
         "name": "pie",
         "rawType": "float64",
         "type": "float"
        }
       ],
       "conversionMethod": "pd.DataFrame",
       "ref": "1c540a4c-b0f5-45da-aed1-2d35ad330d26",
       "rows": [
        [
         "count",
         "100.0",
         "100.0",
         "100.0"
        ],
        [
         "mean",
         "180.47",
         "49.02",
         "27.538"
        ],
        [
         "std",
         "3.2889622568939147",
         "5.098979894017621",
         "0.9350395659537573"
        ],
        [
         "min",
         "172.0",
         "38.0",
         "25.2"
        ],
        [
         "25%",
         "178.0",
         "45.0",
         "27.0"
        ],
        [
         "50%",
         "180.0",
         "49.0",
         "27.55"
        ],
        [
         "75%",
         "183.0",
         "52.0",
         "28.2"
        ],
        [
         "max",
         "188.0",
         "64.0",
         "30.0"
        ]
       ],
       "shape": {
        "columns": 3,
        "rows": 8
       }
      },
      "text/html": [
       "<div>\n",
       "<style scoped>\n",
       "    .dataframe tbody tr th:only-of-type {\n",
       "        vertical-align: middle;\n",
       "    }\n",
       "\n",
       "    .dataframe tbody tr th {\n",
       "        vertical-align: top;\n",
       "    }\n",
       "\n",
       "    .dataframe thead th {\n",
       "        text-align: right;\n",
       "    }\n",
       "</style>\n",
       "<table border=\"1\" class=\"dataframe\">\n",
       "  <thead>\n",
       "    <tr style=\"text-align: right;\">\n",
       "      <th></th>\n",
       "      <th>altura</th>\n",
       "      <th>ancho</th>\n",
       "      <th>pie</th>\n",
       "    </tr>\n",
       "  </thead>\n",
       "  <tbody>\n",
       "    <tr>\n",
       "      <th>count</th>\n",
       "      <td>100.000000</td>\n",
       "      <td>100.00000</td>\n",
       "      <td>100.00000</td>\n",
       "    </tr>\n",
       "    <tr>\n",
       "      <th>mean</th>\n",
       "      <td>180.470000</td>\n",
       "      <td>49.02000</td>\n",
       "      <td>27.53800</td>\n",
       "    </tr>\n",
       "    <tr>\n",
       "      <th>std</th>\n",
       "      <td>3.288962</td>\n",
       "      <td>5.09898</td>\n",
       "      <td>0.93504</td>\n",
       "    </tr>\n",
       "    <tr>\n",
       "      <th>min</th>\n",
       "      <td>172.000000</td>\n",
       "      <td>38.00000</td>\n",
       "      <td>25.20000</td>\n",
       "    </tr>\n",
       "    <tr>\n",
       "      <th>25%</th>\n",
       "      <td>178.000000</td>\n",
       "      <td>45.00000</td>\n",
       "      <td>27.00000</td>\n",
       "    </tr>\n",
       "    <tr>\n",
       "      <th>50%</th>\n",
       "      <td>180.000000</td>\n",
       "      <td>49.00000</td>\n",
       "      <td>27.55000</td>\n",
       "    </tr>\n",
       "    <tr>\n",
       "      <th>75%</th>\n",
       "      <td>183.000000</td>\n",
       "      <td>52.00000</td>\n",
       "      <td>28.20000</td>\n",
       "    </tr>\n",
       "    <tr>\n",
       "      <th>max</th>\n",
       "      <td>188.000000</td>\n",
       "      <td>64.00000</td>\n",
       "      <td>30.00000</td>\n",
       "    </tr>\n",
       "  </tbody>\n",
       "</table>\n",
       "</div>"
      ],
      "text/plain": [
       "           altura      ancho        pie\n",
       "count  100.000000  100.00000  100.00000\n",
       "mean   180.470000   49.02000   27.53800\n",
       "std      3.288962    5.09898    0.93504\n",
       "min    172.000000   38.00000   25.20000\n",
       "25%    178.000000   45.00000   27.00000\n",
       "50%    180.000000   49.00000   27.55000\n",
       "75%    183.000000   52.00000   28.20000\n",
       "max    188.000000   64.00000   30.00000"
      ]
     },
     "execution_count": 50,
     "metadata": {},
     "output_type": "execute_result"
    }
   ],
   "source": [
    "df_mayor_sintetico.describe()"
   ]
  },
  {
   "cell_type": "code",
   "execution_count": 220,
   "metadata": {},
   "outputs": [],
   "source": [
    "def modelos(x_test, modelos=[ridge_menor, ridge_media, ridge_mayor])-> pd.Series:\n",
    "    predicciones = []\n",
    "    for _, row in x_test.iterrows():\n",
    "        predicciones_modelo = []\n",
    "        pesos = []\n",
    "\n",
    "        if row.iloc[0] <= 45 and row.iloc[1] <= 24:  \n",
    "            prediccion = modelos[0].predict(row.values.reshape(1, -1))  \n",
    "            predicciones_modelo.append(np.round(prediccion, 0))\n",
    "            pesos.append(1)\n",
    "\n",
    "        if 40 < row.iloc[0] < 50 and  22 < row.iloc[1] <= 26.5:\n",
    "            prediccion = modelos[1].predict(row.values.reshape(1, -1))\n",
    "            predicciones_modelo.append(np.round(prediccion, 0))\n",
    "            #Agregamos pesos para mejorar la calidad de la probabilidad\n",
    "            distancia_menor = abs(row.iloc[1] - 22) / 4.5 \n",
    "            distancia_mayor = abs(row.iloc[1] - 26.5) / 4.5\n",
    "            peso = np.exp(-1.5 * (distancia_menor + distancia_mayor))\n",
    "            pesos.append(peso)\n",
    "\n",
    "        if row.iloc[0] >= 43 and row.iloc[1] > 26:\n",
    "            prediccion = modelos[2].predict(row.values.reshape(1, -1))\n",
    "            predicciones_modelo.append(np.round(prediccion, 0))\n",
    "            pesos.append(1)\n",
    "\n",
    "        if predicciones_modelo:\n",
    "            predicciones_modelo = np.array(predicciones_modelo).flatten()  \n",
    "            pesos = np.array(pesos) / np.sum(pesos)  \n",
    "            prediccion = np.dot(predicciones_modelo, pesos)\n",
    "               \n",
    "        else:\n",
    "            prediccion = np.mean([modelo.predict(row.values.reshape(1, -1))[0] for modelo in modelos]) \n",
    "            \n",
    "        predicciones.append(np.round(prediccion, 0))\n",
    "    return  pd.Series(predicciones)"
   ]
  },
  {
   "cell_type": "code",
   "execution_count": 221,
   "metadata": {},
   "outputs": [
    {
     "name": "stdout",
     "output_type": "stream",
     "text": [
      "r2 0.9211106901700354, rmse 3.3054388401430037\n"
     ]
    },
    {
     "name": "stderr",
     "output_type": "stream",
     "text": [
      "c:\\Users\\Rafa\\anaconda3\\Lib\\site-packages\\sklearn\\base.py:493: UserWarning: X does not have valid feature names, but Ridge was fitted with feature names\n",
      "  warnings.warn(\n",
      "c:\\Users\\Rafa\\anaconda3\\Lib\\site-packages\\sklearn\\base.py:493: UserWarning: X does not have valid feature names, but Ridge was fitted with feature names\n",
      "  warnings.warn(\n",
      "c:\\Users\\Rafa\\anaconda3\\Lib\\site-packages\\sklearn\\base.py:493: UserWarning: X does not have valid feature names, but Ridge was fitted with feature names\n",
      "  warnings.warn(\n",
      "c:\\Users\\Rafa\\anaconda3\\Lib\\site-packages\\sklearn\\base.py:493: UserWarning: X does not have valid feature names, but Ridge was fitted with feature names\n",
      "  warnings.warn(\n",
      "c:\\Users\\Rafa\\anaconda3\\Lib\\site-packages\\sklearn\\base.py:493: UserWarning: X does not have valid feature names, but Ridge was fitted with feature names\n",
      "  warnings.warn(\n",
      "c:\\Users\\Rafa\\anaconda3\\Lib\\site-packages\\sklearn\\base.py:493: UserWarning: X does not have valid feature names, but Ridge was fitted with feature names\n",
      "  warnings.warn(\n",
      "c:\\Users\\Rafa\\anaconda3\\Lib\\site-packages\\sklearn\\base.py:493: UserWarning: X does not have valid feature names, but Ridge was fitted with feature names\n",
      "  warnings.warn(\n",
      "c:\\Users\\Rafa\\anaconda3\\Lib\\site-packages\\sklearn\\base.py:493: UserWarning: X does not have valid feature names, but Ridge was fitted with feature names\n",
      "  warnings.warn(\n",
      "c:\\Users\\Rafa\\anaconda3\\Lib\\site-packages\\sklearn\\base.py:493: UserWarning: X does not have valid feature names, but Ridge was fitted with feature names\n",
      "  warnings.warn(\n",
      "c:\\Users\\Rafa\\anaconda3\\Lib\\site-packages\\sklearn\\base.py:493: UserWarning: X does not have valid feature names, but Ridge was fitted with feature names\n",
      "  warnings.warn(\n",
      "c:\\Users\\Rafa\\anaconda3\\Lib\\site-packages\\sklearn\\base.py:493: UserWarning: X does not have valid feature names, but Ridge was fitted with feature names\n",
      "  warnings.warn(\n",
      "c:\\Users\\Rafa\\anaconda3\\Lib\\site-packages\\sklearn\\base.py:493: UserWarning: X does not have valid feature names, but Ridge was fitted with feature names\n",
      "  warnings.warn(\n",
      "c:\\Users\\Rafa\\anaconda3\\Lib\\site-packages\\sklearn\\base.py:493: UserWarning: X does not have valid feature names, but Ridge was fitted with feature names\n",
      "  warnings.warn(\n",
      "c:\\Users\\Rafa\\anaconda3\\Lib\\site-packages\\sklearn\\base.py:493: UserWarning: X does not have valid feature names, but Ridge was fitted with feature names\n",
      "  warnings.warn(\n",
      "c:\\Users\\Rafa\\anaconda3\\Lib\\site-packages\\sklearn\\base.py:493: UserWarning: X does not have valid feature names, but Ridge was fitted with feature names\n",
      "  warnings.warn(\n",
      "c:\\Users\\Rafa\\anaconda3\\Lib\\site-packages\\sklearn\\base.py:493: UserWarning: X does not have valid feature names, but Ridge was fitted with feature names\n",
      "  warnings.warn(\n",
      "c:\\Users\\Rafa\\anaconda3\\Lib\\site-packages\\sklearn\\base.py:493: UserWarning: X does not have valid feature names, but Ridge was fitted with feature names\n",
      "  warnings.warn(\n",
      "c:\\Users\\Rafa\\anaconda3\\Lib\\site-packages\\sklearn\\base.py:493: UserWarning: X does not have valid feature names, but Ridge was fitted with feature names\n",
      "  warnings.warn(\n",
      "c:\\Users\\Rafa\\anaconda3\\Lib\\site-packages\\sklearn\\base.py:493: UserWarning: X does not have valid feature names, but Ridge was fitted with feature names\n",
      "  warnings.warn(\n",
      "c:\\Users\\Rafa\\anaconda3\\Lib\\site-packages\\sklearn\\base.py:493: UserWarning: X does not have valid feature names, but Ridge was fitted with feature names\n",
      "  warnings.warn(\n",
      "c:\\Users\\Rafa\\anaconda3\\Lib\\site-packages\\sklearn\\base.py:493: UserWarning: X does not have valid feature names, but Ridge was fitted with feature names\n",
      "  warnings.warn(\n",
      "c:\\Users\\Rafa\\anaconda3\\Lib\\site-packages\\sklearn\\base.py:493: UserWarning: X does not have valid feature names, but Ridge was fitted with feature names\n",
      "  warnings.warn(\n",
      "c:\\Users\\Rafa\\anaconda3\\Lib\\site-packages\\sklearn\\base.py:493: UserWarning: X does not have valid feature names, but Ridge was fitted with feature names\n",
      "  warnings.warn(\n",
      "c:\\Users\\Rafa\\anaconda3\\Lib\\site-packages\\sklearn\\base.py:493: UserWarning: X does not have valid feature names, but Ridge was fitted with feature names\n",
      "  warnings.warn(\n",
      "c:\\Users\\Rafa\\anaconda3\\Lib\\site-packages\\sklearn\\base.py:493: UserWarning: X does not have valid feature names, but Ridge was fitted with feature names\n",
      "  warnings.warn(\n",
      "c:\\Users\\Rafa\\anaconda3\\Lib\\site-packages\\sklearn\\base.py:493: UserWarning: X does not have valid feature names, but Ridge was fitted with feature names\n",
      "  warnings.warn(\n",
      "c:\\Users\\Rafa\\anaconda3\\Lib\\site-packages\\sklearn\\base.py:493: UserWarning: X does not have valid feature names, but Ridge was fitted with feature names\n",
      "  warnings.warn(\n",
      "c:\\Users\\Rafa\\anaconda3\\Lib\\site-packages\\sklearn\\base.py:493: UserWarning: X does not have valid feature names, but Ridge was fitted with feature names\n",
      "  warnings.warn(\n",
      "c:\\Users\\Rafa\\anaconda3\\Lib\\site-packages\\sklearn\\base.py:493: UserWarning: X does not have valid feature names, but Ridge was fitted with feature names\n",
      "  warnings.warn(\n",
      "c:\\Users\\Rafa\\anaconda3\\Lib\\site-packages\\sklearn\\base.py:493: UserWarning: X does not have valid feature names, but Ridge was fitted with feature names\n",
      "  warnings.warn(\n",
      "c:\\Users\\Rafa\\anaconda3\\Lib\\site-packages\\sklearn\\base.py:493: UserWarning: X does not have valid feature names, but Ridge was fitted with feature names\n",
      "  warnings.warn(\n",
      "c:\\Users\\Rafa\\anaconda3\\Lib\\site-packages\\sklearn\\base.py:493: UserWarning: X does not have valid feature names, but Ridge was fitted with feature names\n",
      "  warnings.warn(\n",
      "c:\\Users\\Rafa\\anaconda3\\Lib\\site-packages\\sklearn\\base.py:493: UserWarning: X does not have valid feature names, but Ridge was fitted with feature names\n",
      "  warnings.warn(\n",
      "c:\\Users\\Rafa\\anaconda3\\Lib\\site-packages\\sklearn\\base.py:493: UserWarning: X does not have valid feature names, but Ridge was fitted with feature names\n",
      "  warnings.warn(\n",
      "c:\\Users\\Rafa\\anaconda3\\Lib\\site-packages\\sklearn\\base.py:493: UserWarning: X does not have valid feature names, but Ridge was fitted with feature names\n",
      "  warnings.warn(\n",
      "c:\\Users\\Rafa\\anaconda3\\Lib\\site-packages\\sklearn\\base.py:493: UserWarning: X does not have valid feature names, but Ridge was fitted with feature names\n",
      "  warnings.warn(\n",
      "c:\\Users\\Rafa\\anaconda3\\Lib\\site-packages\\sklearn\\base.py:493: UserWarning: X does not have valid feature names, but Ridge was fitted with feature names\n",
      "  warnings.warn(\n",
      "c:\\Users\\Rafa\\anaconda3\\Lib\\site-packages\\sklearn\\base.py:493: UserWarning: X does not have valid feature names, but Ridge was fitted with feature names\n",
      "  warnings.warn(\n",
      "c:\\Users\\Rafa\\anaconda3\\Lib\\site-packages\\sklearn\\base.py:493: UserWarning: X does not have valid feature names, but Ridge was fitted with feature names\n",
      "  warnings.warn(\n",
      "c:\\Users\\Rafa\\anaconda3\\Lib\\site-packages\\sklearn\\base.py:493: UserWarning: X does not have valid feature names, but Ridge was fitted with feature names\n",
      "  warnings.warn(\n",
      "c:\\Users\\Rafa\\anaconda3\\Lib\\site-packages\\sklearn\\base.py:493: UserWarning: X does not have valid feature names, but Ridge was fitted with feature names\n",
      "  warnings.warn(\n",
      "c:\\Users\\Rafa\\anaconda3\\Lib\\site-packages\\sklearn\\base.py:493: UserWarning: X does not have valid feature names, but Ridge was fitted with feature names\n",
      "  warnings.warn(\n",
      "c:\\Users\\Rafa\\anaconda3\\Lib\\site-packages\\sklearn\\base.py:493: UserWarning: X does not have valid feature names, but Ridge was fitted with feature names\n",
      "  warnings.warn(\n",
      "c:\\Users\\Rafa\\anaconda3\\Lib\\site-packages\\sklearn\\base.py:493: UserWarning: X does not have valid feature names, but Ridge was fitted with feature names\n",
      "  warnings.warn(\n",
      "c:\\Users\\Rafa\\anaconda3\\Lib\\site-packages\\sklearn\\base.py:493: UserWarning: X does not have valid feature names, but Ridge was fitted with feature names\n",
      "  warnings.warn(\n",
      "c:\\Users\\Rafa\\anaconda3\\Lib\\site-packages\\sklearn\\base.py:493: UserWarning: X does not have valid feature names, but Ridge was fitted with feature names\n",
      "  warnings.warn(\n",
      "c:\\Users\\Rafa\\anaconda3\\Lib\\site-packages\\sklearn\\base.py:493: UserWarning: X does not have valid feature names, but Ridge was fitted with feature names\n",
      "  warnings.warn(\n",
      "c:\\Users\\Rafa\\anaconda3\\Lib\\site-packages\\sklearn\\base.py:493: UserWarning: X does not have valid feature names, but Ridge was fitted with feature names\n",
      "  warnings.warn(\n",
      "c:\\Users\\Rafa\\anaconda3\\Lib\\site-packages\\sklearn\\base.py:493: UserWarning: X does not have valid feature names, but Ridge was fitted with feature names\n",
      "  warnings.warn(\n",
      "c:\\Users\\Rafa\\anaconda3\\Lib\\site-packages\\sklearn\\base.py:493: UserWarning: X does not have valid feature names, but Ridge was fitted with feature names\n",
      "  warnings.warn(\n",
      "c:\\Users\\Rafa\\anaconda3\\Lib\\site-packages\\sklearn\\base.py:493: UserWarning: X does not have valid feature names, but Ridge was fitted with feature names\n",
      "  warnings.warn(\n",
      "c:\\Users\\Rafa\\anaconda3\\Lib\\site-packages\\sklearn\\base.py:493: UserWarning: X does not have valid feature names, but Ridge was fitted with feature names\n",
      "  warnings.warn(\n",
      "c:\\Users\\Rafa\\anaconda3\\Lib\\site-packages\\sklearn\\base.py:493: UserWarning: X does not have valid feature names, but Ridge was fitted with feature names\n",
      "  warnings.warn(\n",
      "c:\\Users\\Rafa\\anaconda3\\Lib\\site-packages\\sklearn\\base.py:493: UserWarning: X does not have valid feature names, but Ridge was fitted with feature names\n",
      "  warnings.warn(\n",
      "c:\\Users\\Rafa\\anaconda3\\Lib\\site-packages\\sklearn\\base.py:493: UserWarning: X does not have valid feature names, but Ridge was fitted with feature names\n",
      "  warnings.warn(\n",
      "c:\\Users\\Rafa\\anaconda3\\Lib\\site-packages\\sklearn\\base.py:493: UserWarning: X does not have valid feature names, but Ridge was fitted with feature names\n",
      "  warnings.warn(\n",
      "c:\\Users\\Rafa\\anaconda3\\Lib\\site-packages\\sklearn\\base.py:493: UserWarning: X does not have valid feature names, but Ridge was fitted with feature names\n",
      "  warnings.warn(\n",
      "c:\\Users\\Rafa\\anaconda3\\Lib\\site-packages\\sklearn\\base.py:493: UserWarning: X does not have valid feature names, but Ridge was fitted with feature names\n",
      "  warnings.warn(\n",
      "c:\\Users\\Rafa\\anaconda3\\Lib\\site-packages\\sklearn\\base.py:493: UserWarning: X does not have valid feature names, but Ridge was fitted with feature names\n",
      "  warnings.warn(\n",
      "c:\\Users\\Rafa\\anaconda3\\Lib\\site-packages\\sklearn\\base.py:493: UserWarning: X does not have valid feature names, but Ridge was fitted with feature names\n",
      "  warnings.warn(\n",
      "c:\\Users\\Rafa\\anaconda3\\Lib\\site-packages\\sklearn\\base.py:493: UserWarning: X does not have valid feature names, but Ridge was fitted with feature names\n",
      "  warnings.warn(\n",
      "c:\\Users\\Rafa\\anaconda3\\Lib\\site-packages\\sklearn\\base.py:493: UserWarning: X does not have valid feature names, but Ridge was fitted with feature names\n",
      "  warnings.warn(\n",
      "c:\\Users\\Rafa\\anaconda3\\Lib\\site-packages\\sklearn\\base.py:493: UserWarning: X does not have valid feature names, but Ridge was fitted with feature names\n",
      "  warnings.warn(\n",
      "c:\\Users\\Rafa\\anaconda3\\Lib\\site-packages\\sklearn\\base.py:493: UserWarning: X does not have valid feature names, but Ridge was fitted with feature names\n",
      "  warnings.warn(\n",
      "c:\\Users\\Rafa\\anaconda3\\Lib\\site-packages\\sklearn\\base.py:493: UserWarning: X does not have valid feature names, but Ridge was fitted with feature names\n",
      "  warnings.warn(\n",
      "c:\\Users\\Rafa\\anaconda3\\Lib\\site-packages\\sklearn\\base.py:493: UserWarning: X does not have valid feature names, but Ridge was fitted with feature names\n",
      "  warnings.warn(\n",
      "c:\\Users\\Rafa\\anaconda3\\Lib\\site-packages\\sklearn\\base.py:493: UserWarning: X does not have valid feature names, but Ridge was fitted with feature names\n",
      "  warnings.warn(\n",
      "c:\\Users\\Rafa\\anaconda3\\Lib\\site-packages\\sklearn\\base.py:493: UserWarning: X does not have valid feature names, but Ridge was fitted with feature names\n",
      "  warnings.warn(\n",
      "c:\\Users\\Rafa\\anaconda3\\Lib\\site-packages\\sklearn\\base.py:493: UserWarning: X does not have valid feature names, but Ridge was fitted with feature names\n",
      "  warnings.warn(\n",
      "c:\\Users\\Rafa\\anaconda3\\Lib\\site-packages\\sklearn\\base.py:493: UserWarning: X does not have valid feature names, but Ridge was fitted with feature names\n",
      "  warnings.warn(\n",
      "c:\\Users\\Rafa\\anaconda3\\Lib\\site-packages\\sklearn\\base.py:493: UserWarning: X does not have valid feature names, but Ridge was fitted with feature names\n",
      "  warnings.warn(\n"
     ]
    }
   ],
   "source": [
    "y_pred_mod = modelos(X_test_iteso)\n",
    "r2_iteso = r2_score(y_test_iteso, y_pred_mod)\n",
    "rmse_iteso = np.sqrt(mean_squared_error(y_test_iteso, y_pred_mod))\n",
    "print(f'r2 {r2_iteso}, rmse {rmse_iteso}')"
   ]
  },
  {
   "cell_type": "code",
   "execution_count": 222,
   "metadata": {},
   "outputs": [
    {
     "data": {
      "image/png": "[encoded data removed]",
      "text/plain": [
       "<Figure size 800x600 with 1 Axes>"
      ]
     },
     "metadata": {},
     "output_type": "display_data"
    }
   ],
   "source": [
    "plt.figure(figsize=(8, 6))\n",
    "plt.scatter(x=y_test_iteso, y=y_pred_mod, alpha=0.6, edgecolors='k',label=\"Predicciones vs Reales\", color=\"blue\")\n",
    "plt.plot([y_test_iteso.min(), y_test_iteso.max()], [y_test_iteso.min(), y_test_iteso.max()], 'r--', lw=2,label=\"Línea Ideal\")  # Línea de referencia\n",
    "plt.xlabel(\"Altura real\")\n",
    "plt.ylabel(\"Altura predicha\")\n",
    "plt.title(f\"Scatterplot de predicciones\")\n",
    "plt.text(y_test_iteso.min(), y_test_iteso.max() * 0.9, f\"$R^2$: {r2_iteso:.2f}\\nRMSE: {rmse_iteso:.2f}\", fontsize=12, color=\"red\")\n",
    "plt.grid(True)\n",
    "plt.show()"
   ]
  },
  {
   "cell_type": "markdown",
   "metadata": {},
   "source": [
    "Podemos observar que, los errores se concentran principalmente en los lugares donde los modelos se juntan, por ejemplo: 160-165 y 170-175. Fuera de esos rangos, la predicción es muy buena."
   ]
  },
  {
   "cell_type": "markdown",
   "metadata": {},
   "source": []
  }
 ],
 "metadata": {
  "kernelspec": {
   "display_name": "base",
   "language": "python",
   "name": "python3"
  },
  "language_info": {
   "codemirror_mode": {
    "name": "ipython",
    "version": 3
   },
   "file_extension": ".py",
   "mimetype": "text/x-python",
   "name": "python",
   "nbconvert_exporter": "python",
   "pygments_lexer": "ipython3",
   "version": "3.12.4"
  }
 },
 "nbformat": 4,
 "nbformat_minor": 2
}
